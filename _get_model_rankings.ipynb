{
 "cells": [
  {
   "cell_type": "markdown",
   "metadata": {},
   "source": [
    "# Model Performance"
   ]
  },
  {
   "cell_type": "code",
   "execution_count": null,
   "metadata": {},
   "outputs": [],
   "source": [
    "# load libraries\n",
    "from dotenv import load_dotenv \n",
    "import matplotlib.pyplot as plt\n",
    "import pandas as pd\n",
    "import datetime as dt\n",
    "import yfinance as yf\n",
    "from numerapi import NumerAPI\n",
    "import os\n",
    "\n",
    "# set env vars\n",
    "load_dotenv()\n",
    "PUBLIC_ID = os.getenv('PUBLIC_ID')\n",
    "SECRET_KEY = os.getenv('SECRET_KEY')\n",
    "\n",
    "# set plot params\n",
    "plt.rcParams[\"figure.figsize\"] = (14, 5)\n",
    "plt.style.use(\"bmh\")"
   ]
  },
  {
   "cell_type": "code",
   "execution_count": null,
   "metadata": {},
   "outputs": [],
   "source": [
    "# instantiate\n",
    "TODAY = dt.datetime.now()\n",
    "AFTER_DATE = \"2022-04-01\"\n",
    "AFTER_ERA = 310\n",
    "\n",
    "nmr = yf.download('NMR-USD', start=AFTER_DATE, end=TODAY, progress=False)\n",
    "napi = NumerAPI(public_id=PUBLIC_ID, secret_key=SECRET_KEY)"
   ]
  },
  {
   "cell_type": "code",
   "execution_count": null,
   "metadata": {},
   "outputs": [],
   "source": [
    "# get model ranking\n",
    "def get_model_rankings(model_list):\n",
    "    df_list = []\n",
    "    for m in model_list:\n",
    "        df = pd.DataFrame.from_dict(napi.daily_model_performances(m))\n",
    "        df['modelName'] = m\n",
    "        df_list.append( df)\n",
    "    df_all = pd.concat(df_list)\n",
    "    return df_all\n",
    "\n",
    "# get model round performance\n",
    "def get_model_performance(model_list):\n",
    "    df_list = []\n",
    "    for m in model_list:\n",
    "        df = pd.DataFrame.from_dict(napi.daily_submissions_performances(m))\n",
    "        df['modelName'] = m\n",
    "        df_list.append( df)\n",
    "    df_all = pd.concat(df_list)\n",
    "    return df_all\n",
    "\n",
    "# get model round performance aggregated\n",
    "def get_model_performance_aggregated(data, score, by):\n",
    "    df = pd.pivot_table(\n",
    "        data=data.groupby([\"modelName\", by])[score].mean().reset_index(),\n",
    "        values=score,\n",
    "        index=[by],\n",
    "        columns=[\"modelName\"]\n",
    "    )\n",
    "    return df\n",
    "\n",
    "# get model payout & staking history\n",
    "def get_model_value(model_list, mode):\n",
    "    df_list = []\n",
    "    for m in model_list:\n",
    "        df = pd.DataFrame.from_dict(napi.round_model_performances(m))\n",
    "        df[\"modelName\"] = m\n",
    "        df_list.append(df)\n",
    "    df_all = pd.concat(df_list)\n",
    "    df_all = df_all.loc[df_all[\"roundResolved\"]==True]\n",
    "    \n",
    "    if mode == \"payout\":\n",
    "        mode_value = \"payout\"\n",
    "    elif mode == \"staking\":\n",
    "        mode_value = \"selectedStakeValue\"\n",
    "    else:\n",
    "        print(\"Select either 'payout' or 'staking' as mode.\")\n",
    "\n",
    "    output = pd.pivot_table(\n",
    "        df_all, \n",
    "        values=mode_value, \n",
    "        index=['roundResolveTime'], \n",
    "        columns=['modelName']).fillna(0)\n",
    "    output[\"totalValue\"] = output.sum(axis=1)\n",
    "\n",
    "    return output"
   ]
  },
  {
   "cell_type": "code",
   "execution_count": null,
   "metadata": {},
   "outputs": [],
   "source": [
    "# nmr price\n",
    "nmr_price = nmr[['Open', 'High', 'Low', 'Close']].mean(axis=1)[-1]\n",
    "nmr_price"
   ]
  },
  {
   "cell_type": "code",
   "execution_count": null,
   "metadata": {},
   "outputs": [],
   "source": [
    "# get model names\n",
    "model_list = napi.get_models().keys()\n",
    "model_list"
   ]
  },
  {
   "cell_type": "markdown",
   "metadata": {},
   "source": [
    "---\n",
    "# Model Ranks"
   ]
  },
  {
   "cell_type": "code",
   "execution_count": null,
   "metadata": {},
   "outputs": [],
   "source": [
    "# get model rankings\n",
    "rank = get_model_rankings(model_list=model_list)\n",
    "rank.head()"
   ]
  },
  {
   "cell_type": "code",
   "execution_count": null,
   "metadata": {},
   "outputs": [],
   "source": [
    "# check model name list\n",
    "rank[\"modelName\"].unique()"
   ]
  },
  {
   "cell_type": "code",
   "execution_count": null,
   "metadata": {},
   "outputs": [],
   "source": [
    "# cols\n",
    "tc_rank_cols = [col for col in rank.columns if col.endswith(\"Rank\") and col.startswith(\"tc\")]\n",
    "tc_rep_cols = [col for col in rank.columns if col.endswith(\"Rep\") and col.startswith(\"tc\")]\n",
    "nontc_rank_cols = [col for col in rank.columns if col.endswith(\"Rank\") and not col.startswith(\"tc\")]\n",
    "nontc_rep_cols = [col for col in rank.columns if col.endswith(\"Rep\") and not col.startswith(\"tc\")]\n",
    "\n",
    "tc_rank_cols, tc_rep_cols, nontc_rank_cols, nontc_rep_cols"
   ]
  },
  {
   "cell_type": "markdown",
   "metadata": {},
   "source": [
    "---\n",
    "# Correlation Ranking & Reputation"
   ]
  },
  {
   "cell_type": "code",
   "execution_count": null,
   "metadata": {},
   "outputs": [],
   "source": [
    "# plot  corr rank and rep\n",
    "corrdf = rank.loc[rank[\"date\"]>=AFTER_DATE]\n",
    "\n",
    "fig, axes = plt.subplots(nrows=1, ncols=2, sharex=True, sharey=False)\n",
    "\n",
    "pd.pivot_table(\n",
    "    data=corrdf[[\"modelName\", \"date\", \"corrRank\"]],\n",
    "    values=\"corrRank\",\n",
    "    index=\"date\",\n",
    "    columns=\"modelName\"\n",
    ").plot(ax=axes[0])\n",
    "axes[0].set_title(\"CORR Ranking (Lower = Better)\")\n",
    "\n",
    "pd.pivot_table(\n",
    "    data=corrdf[[\"modelName\", \"date\", \"corrRep\"]],\n",
    "    values=\"corrRep\",\n",
    "    index=\"date\",\n",
    "    columns=\"modelName\"\n",
    ").plot(ax=axes[1])\n",
    "axes[1].set_title(\"CORR Reputation (Higher = Better)\")\n",
    "\n",
    "plt.tight_layout()\n",
    "plt.savefig('plots/CorrRankPlots.png', facecolor='w')\n",
    "plt.show()"
   ]
  },
  {
   "cell_type": "code",
   "execution_count": null,
   "metadata": {},
   "outputs": [],
   "source": [
    "fig, axes = plt.subplots(nrows=1, ncols=2, sharex=True, sharey=False)\n",
    "pd.pivot_table(\n",
    "    data=corrdf[[\"modelName\", \"date\", \"tcRank\"]],\n",
    "    values=\"tcRank\",\n",
    "    index=\"date\",\n",
    "    columns=\"modelName\"\n",
    ").plot(ax=axes[0])\n",
    "axes[0].set_title(\"TC Ranking (Lower = Better)\")\n",
    "\n",
    "pd.pivot_table(\n",
    "    data=corrdf[[\"modelName\", \"date\", \"tcRep\"]],\n",
    "    values=\"tcRep\",\n",
    "    index=\"date\",\n",
    "    columns=\"modelName\"\n",
    ").plot(ax=axes[1])\n",
    "axes[1].set_title(\"TC Reputation (Higher = Better)\")\n",
    "\n",
    "plt.tight_layout()\n",
    "plt.savefig('plots/TCRankPlots.png', facecolor='w')\n",
    "plt.show()"
   ]
  },
  {
   "cell_type": "markdown",
   "metadata": {},
   "source": [
    "---\n",
    "# Model Performance by Round"
   ]
  },
  {
   "cell_type": "code",
   "execution_count": null,
   "metadata": {},
   "outputs": [],
   "source": [
    "# get round performance\n",
    "perf = get_model_performance(model_list=model_list)\n",
    "perf.info()"
   ]
  },
  {
   "cell_type": "code",
   "execution_count": null,
   "metadata": {},
   "outputs": [],
   "source": [
    "# get mean corr by round\n",
    "avg_corr_by_era = get_model_performance_aggregated(data=perf, score=\"correlation\", by=\"roundNumber\")\n",
    "avg_corr_by_date = get_model_performance_aggregated(data=perf, score=\"correlation\", by=\"date\")\n",
    "\n",
    "# plot\n",
    "fig, axes = plt.subplots(nrows=1, ncols=2)\n",
    "avg_corr_by_date.loc[AFTER_DATE:].rolling(7).mean().plot(ax=axes[0])\n",
    "avg_corr_by_date.loc[AFTER_DATE:].cumsum().plot(ax=axes[1])\n",
    "axes[0].set_title(\"Rolling 7-Day Correlation\")\n",
    "axes[0].set_xlabel(\"Date\")\n",
    "axes[0].set_ylabel(\"Correlation to Target\")\n",
    "axes[1].set_title(\"Cumulative Correlation\")\n",
    "axes[1].set_xlabel(\"Date\")\n",
    "axes[1].set_ylabel(\"Correlation to Target\")\n",
    "plt.tight_layout()\n",
    "plt.savefig('plots/ModelCorrPlots.png', facecolor='w')\n",
    "plt.show()"
   ]
  },
  {
   "cell_type": "code",
   "execution_count": null,
   "metadata": {},
   "outputs": [],
   "source": [
    "# get mean cwmm by round\n",
    "avg_cwmm_by_era = get_model_performance_aggregated(data=perf,score=\"correlationWithMetamodel\", by=\"roundNumber\")\n",
    "avg_cwmm_by_date = get_model_performance_aggregated(data=perf,score=\"correlationWithMetamodel\", by=\"date\")\n",
    "\n",
    "# plot\n",
    "fig, axes = plt.subplots(nrows=1, ncols=2)\n",
    "avg_cwmm_by_date.loc[AFTER_DATE:].rolling(7).mean().plot(ax=axes[0])\n",
    "avg_cwmm_by_date.loc[AFTER_DATE:].cumsum().plot(ax=axes[1])\n",
    "axes[0].set_title(\"Rolling 7-Day CWMM\")\n",
    "axes[0].set_xlabel(\"Date\")\n",
    "axes[0].set_ylabel(\"Correlation with Metamodel\")\n",
    "axes[1].set_title(\"Cumulative CWMM\")\n",
    "axes[1].set_xlabel(\"Date\")\n",
    "axes[1].set_ylabel(\"Correlation with Metamodel\")\n",
    "plt.tight_layout()\n",
    "plt.savefig('plots/ModelCWMMPlots.png', facecolor='w')\n",
    "plt.show()"
   ]
  },
  {
   "cell_type": "code",
   "execution_count": null,
   "metadata": {},
   "outputs": [],
   "source": [
    "# get mean fnc by round\n",
    "avg_fnc_by_era = get_model_performance_aggregated(data=perf,score=\"fnc\", by=\"roundNumber\")\n",
    "avg_fnc_by_date = get_model_performance_aggregated(data=perf,score=\"fnc\", by=\"date\")\n",
    "\n",
    "# plot\n",
    "fig, axes = plt.subplots(nrows=1, ncols=2)\n",
    "avg_fnc_by_date.loc[AFTER_DATE:].rolling(7).mean().plot(ax=axes[0])\n",
    "avg_fnc_by_date.loc[AFTER_DATE:].cumsum().plot(ax=axes[1])\n",
    "axes[0].set_title(\"Rolling 7-Day FNC\")\n",
    "axes[0].set_xlabel(\"Date\")\n",
    "axes[0].set_ylabel(\"Feature-Neutral Correaltion\")\n",
    "axes[1].set_title(\"Cumulative FNC\")\n",
    "axes[1].set_xlabel(\"Date\")\n",
    "axes[1].set_ylabel(\"Feature-Neutral Correaltion\")\n",
    "plt.tight_layout()\n",
    "plt.savefig('plots/ModelFNCPlots.png', facecolor='w')\n",
    "plt.show()"
   ]
  },
  {
   "cell_type": "code",
   "execution_count": null,
   "metadata": {},
   "outputs": [],
   "source": [
    "# get mean mmc by round\n",
    "avg_mmc_by_era = get_model_performance_aggregated(data=perf,score=\"mmc\", by=\"roundNumber\")\n",
    "avg_mmc_by_date = get_model_performance_aggregated(data=perf,score=\"mmc\", by=\"date\")\n",
    "\n",
    "# plot\n",
    "fig, axes = plt.subplots(nrows=1, ncols=2)\n",
    "avg_mmc_by_date.loc[AFTER_DATE:].rolling(7).mean().plot(ax=axes[0])\n",
    "avg_mmc_by_date.loc[AFTER_DATE:].cumsum().plot(ax=axes[1])\n",
    "axes[0].set_title(\"Rolling 7-Day MMC\")\n",
    "axes[0].set_xlabel(\"Date\")\n",
    "axes[0].set_ylabel(\"Metamodel Contributions\")\n",
    "axes[1].set_title(\"Cumulative MMC\")\n",
    "axes[1].set_xlabel(\"Date\")\n",
    "axes[1].set_ylabel(\"Metamodel Contributions\")\n",
    "plt.tight_layout()\n",
    "plt.savefig('plots/ModelMMCPlots.png', facecolor='w')\n",
    "plt.show()"
   ]
  },
  {
   "cell_type": "code",
   "execution_count": null,
   "metadata": {},
   "outputs": [],
   "source": [
    "# get mean mmc by round\n",
    "avg_tc_by_era = get_model_performance_aggregated(data=perf,score=\"tc\", by=\"roundNumber\")\n",
    "avg_tc_by_date = get_model_performance_aggregated(data=perf,score=\"tc\", by=\"date\")\n",
    "\n",
    "# plot\n",
    "fig, axes = plt.subplots(nrows=1, ncols=2)\n",
    "avg_tc_by_date.loc[AFTER_DATE:].rolling(7).mean().plot(ax=axes[0])\n",
    "avg_tc_by_date.loc[AFTER_DATE:].cumsum().plot(ax=axes[1])\n",
    "axes[0].set_title(\"Rolling 7-Day TC\")\n",
    "axes[0].set_xlabel(\"Date\")\n",
    "axes[0].set_ylabel(\"True Contributions\")\n",
    "axes[1].set_title(\"Cumulative TC\")\n",
    "axes[1].set_xlabel(\"Date\")\n",
    "axes[1].set_ylabel(\"True Contributions\")\n",
    "plt.tight_layout()\n",
    "plt.savefig('plots/ModelTCPlots.png', facecolor='w')\n",
    "plt.show()"
   ]
  },
  {
   "cell_type": "markdown",
   "metadata": {},
   "source": [
    "---\n",
    "# Model Payouts & Staking"
   ]
  },
  {
   "cell_type": "code",
   "execution_count": null,
   "metadata": {},
   "outputs": [],
   "source": [
    "# get payout\n",
    "payout = get_model_value(model_list, \"payout\")"
   ]
  },
  {
   "cell_type": "code",
   "execution_count": null,
   "metadata": {},
   "outputs": [],
   "source": [
    "# plot payouts\n",
    "fig, axes = plt.subplots(nrows=1, ncols=2)\n",
    "payout.loc[AFTER_DATE:][[col for col in payout.columns if col.startswith(\"dh_\")]].cumsum().plot(ax=axes[0])\n",
    "payout.loc[AFTER_DATE:][[\"totalValue\"]].cumsum().plot(ax=axes[1])\n",
    "axes[0].set_title(\"Cumulative Model Payouts\")\n",
    "axes[0].set_xlabel(\"Round Resolve Date\")\n",
    "axes[0].set_ylabel(\"NMR Payout\")\n",
    "axes[1].set_title(\"Cumulative Total Payouts\")\n",
    "axes[1].set_xlabel(\"Round Resolve Date\")\n",
    "axes[1].set_ylabel(\"NMR Payout\")\n",
    "plt.tight_layout()\n",
    "plt.savefig('plots/PayoutPlots.png', facecolor='w')\n",
    "plt.show()"
   ]
  },
  {
   "cell_type": "code",
   "execution_count": null,
   "metadata": {},
   "outputs": [],
   "source": [
    "# get payout\n",
    "staking = get_model_value(model_list, \"staking\")"
   ]
  },
  {
   "cell_type": "code",
   "execution_count": null,
   "metadata": {},
   "outputs": [],
   "source": [
    "# plot payouts\n",
    "fig, axes = plt.subplots(nrows=1, ncols=2)\n",
    "staking.loc[AFTER_DATE:][[col for col in staking.columns if col.startswith(\"dh_\")]].plot(ax=axes[0])\n",
    "staking.loc[AFTER_DATE:][[\"totalValue\"]].plot(ax=axes[1])\n",
    "axes[0].set_title(\"Cumulative Model Stakes\")\n",
    "axes[0].set_xlabel(\"Round Resolve Date\")\n",
    "axes[0].set_ylabel(\"NMR Stake\")\n",
    "axes[1].set_title(\"Cumulative Total Stakes\")\n",
    "axes[1].set_xlabel(\"Round Resolve Date\")\n",
    "axes[1].set_ylabel(\"NMR Stake\")\n",
    "plt.tight_layout()\n",
    "plt.savefig('plots/ModelStakingPlots.png', facecolor='w')\n",
    "plt.show()"
   ]
  },
  {
   "cell_type": "markdown",
   "metadata": {},
   "source": [
    "---\n",
    "# Total Return"
   ]
  },
  {
   "cell_type": "code",
   "execution_count": null,
   "metadata": {},
   "outputs": [],
   "source": [
    "# get return\n",
    "total_return = pd.concat([payout.sum(), staking.tail(1).T], axis=1)\n",
    "total_return.columns = [\"payout\", \"staking\"]\n",
    "total_return[\"return\"] = total_return[\"payout\"] / total_return[\"staking\"]\n",
    "\n",
    "total_return"
   ]
  },
  {
   "cell_type": "code",
   "execution_count": null,
   "metadata": {},
   "outputs": [],
   "source": [
    "# daily staking \n",
    "round_return = pd.concat([payout[\"totalValue\"], staking[\"totalValue\"]], axis=1)[AFTER_DATE:].fillna(0)\n",
    "round_return.columns = [\"payout\", \"staking\"]\n",
    "round_return[\"return\"] = round_return[\"payout\"] / round_return[\"staking\"]"
   ]
  },
  {
   "cell_type": "code",
   "execution_count": null,
   "metadata": {},
   "outputs": [],
   "source": [
    "# plot round return\n",
    "fig, axes = plt.subplots(nrows=1, ncols=2)\n",
    "\n",
    "# plt.figure()\n",
    "round_return[\"return\"].plot(ax=axes[0])\n",
    "round_return[\"return\"].cumsum().plot(ax=axes[1])\n",
    "axes[0].set_title(\"Round Returns\")\n",
    "axes[0].set_xlabel(\"Round Resolve Date\")\n",
    "axes[0].set_ylabel(\"Return\")\n",
    "axes[1].set_title(\"Cumulative Round Returns\")\n",
    "axes[1].set_xlabel(\"Round Resolve Date\")\n",
    "axes[1].set_ylabel(\"Return\")\n",
    "plt.tight_layout()\n",
    "plt.savefig('plots/TotalReturnPlots.png', facecolor='w')\n",
    "plt.show()"
   ]
  },
  {
   "cell_type": "markdown",
   "metadata": {},
   "source": [
    "---\n",
    "# Sharpe Performance"
   ]
  },
  {
   "cell_type": "code",
   "execution_count": null,
   "metadata": {},
   "outputs": [],
   "source": [
    "# sharpe calc\n",
    "def get_sharpe(df, metric):\n",
    "    def sharpe(x):\n",
    "        return x.mean() / x.std()\n",
    "    df_clean = df.query(f\"roundNumber >= {AFTER_ERA}\").copy()\n",
    "    sharpe_df = pd.concat([\n",
    "        df_clean.groupby([\"modelName\"])[metric].size(),\n",
    "        df_clean.groupby([\"modelName\"])[metric].apply(lambda x: sharpe(x))], \n",
    "        axis=1)\n",
    "    sharpe_df.columns = [\"n\", \"sharpe\"]\n",
    "    sharpe_df = sharpe_df.loc[sharpe_df[\"n\"]>=10].sort_values(\"sharpe\")\n",
    "    return sharpe_df"
   ]
  },
  {
   "cell_type": "code",
   "execution_count": null,
   "metadata": {},
   "outputs": [],
   "source": [
    "# rank by sharpe\n",
    "corr_sharpe_df = get_sharpe(df=perf, metric='correlation')\n",
    "tc_sharpe_df = get_sharpe(df=perf, metric='tc')"
   ]
  },
  {
   "cell_type": "code",
   "execution_count": null,
   "metadata": {},
   "outputs": [],
   "source": [
    "# plot both\n",
    "fig, axes = plt.subplots(nrows=1, ncols=2)\n",
    "corr_sharpe_df[\"sharpe\"].sort_values(ascending=False).plot.bar(ax=axes[0])\n",
    "tc_sharpe_df[\"sharpe\"].sort_values(ascending=False).plot.bar(ax=axes[1])\n",
    "axes[0].set_title(\"Live Correlation Sharpe Performance\")\n",
    "axes[0].set_xlabel(\"Correlation Sharpe Ratio\")\n",
    "axes[0].set_ylabel(\"Models\")\n",
    "axes[1].set_title(\"Live TC Sharpe Performance\")\n",
    "axes[1].set_xlabel(\"TC Sharpe Ratio\")\n",
    "axes[1].set_ylabel(\"Models\")\n",
    "plt.tight_layout()\n",
    "plt.savefig('plots/SharpeRatioPlots.png', facecolor='w')\n",
    "plt.show();"
   ]
  },
  {
   "cell_type": "code",
   "execution_count": null,
   "metadata": {},
   "outputs": [],
   "source": [
    "# sharpe calc (ts)\n",
    "def get_sharpe_ts(df, metric):\n",
    "    def sharpe(x):\n",
    "        return x.mean() / x.std()\n",
    "    df_clean = df.query(f\"roundNumber >= {AFTER_ERA}\").copy()\n",
    "    sharpe_df = pd.concat([\n",
    "        df_clean.groupby([\"roundNumber\", \"modelName\"])[metric].size(),\n",
    "        df_clean.groupby([\"roundNumber\", \"modelName\"])[metric].apply(lambda x: sharpe(x))], \n",
    "        axis=1)\n",
    "    sharpe_df.columns = [\"n\", \"sharpe\"]\n",
    "    sharpe_df = (\n",
    "        sharpe_df\n",
    "        .loc[sharpe_df[\"n\"]>=10]\n",
    "        .reset_index()\n",
    "        .sort_values([\"modelName\", \"roundNumber\"])\n",
    "        .drop(\"n\", axis=1)\n",
    "        .pivot(index='roundNumber', columns='modelName', values='sharpe'))\n",
    "    return sharpe_df"
   ]
  },
  {
   "cell_type": "code",
   "execution_count": null,
   "metadata": {},
   "outputs": [],
   "source": [
    "# rank by sharpe ts\n",
    "corr_sharpets_df = get_sharpe_ts(df=perf, metric='correlation')\n",
    "tc_sharpets_df = get_sharpe_ts(df=perf, metric='tc')"
   ]
  },
  {
   "cell_type": "code",
   "execution_count": null,
   "metadata": {},
   "outputs": [],
   "source": [
    "# plot both\n",
    "fig, axes = plt.subplots(nrows=1, ncols=2)\n",
    "corr_sharpets_df.rolling(4).mean().plot(ax=axes[0])\n",
    "tc_sharpets_df.rolling(4).mean().plot(ax=axes[1])\n",
    "axes[0].set_title(\"Live Correlation Sharpe Performance by Date\")\n",
    "axes[0].set_xlabel(\"Round Number\")\n",
    "axes[0].set_ylabel(\"Correlation Sharpe Ratio\")\n",
    "axes[1].set_title(\"Live TC Sharpe Performance\")\n",
    "axes[1].set_xlabel(\"Round Number\")\n",
    "axes[1].set_ylabel(\"TC Sharpe Ratio\")\n",
    "plt.tight_layout()\n",
    "plt.savefig('plots/SharpeRatioTSPlots.png', facecolor='w')\n",
    "plt.show();"
   ]
  },
  {
   "cell_type": "code",
   "execution_count": null,
   "metadata": {},
   "outputs": [],
   "source": []
  }
 ],
 "metadata": {
  "interpreter": {
   "hash": "0126e27fe55ec969de126c2cfdac2c99da69ebfdfbbeb83738b0925389a2d696"
  },
  "kernelspec": {
   "display_name": "Python 3.10.2 ('projenv')",
   "language": "python",
   "name": "python3"
  },
  "language_info": {
   "codemirror_mode": {
    "name": "ipython",
    "version": 3
   },
   "file_extension": ".py",
   "mimetype": "text/x-python",
   "name": "python",
   "nbconvert_exporter": "python",
   "pygments_lexer": "ipython3",
   "version": "3.10.2"
  },
  "orig_nbformat": 4
 },
 "nbformat": 4,
 "nbformat_minor": 2
}
