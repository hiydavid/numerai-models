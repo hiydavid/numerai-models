{
 "cells": [
  {
   "cell_type": "markdown",
   "metadata": {},
   "source": [
    "# Download Numerai Data"
   ]
  },
  {
   "cell_type": "code",
   "execution_count": 1,
   "metadata": {},
   "outputs": [],
   "source": [
    "from numerapi import NumerAPI"
   ]
  },
  {
   "cell_type": "code",
   "execution_count": 2,
   "metadata": {},
   "outputs": [
    {
     "name": "stdout",
     "output_type": "stream",
     "text": [
      "Current round #: 311\n"
     ]
    }
   ],
   "source": [
    "napi = NumerAPI()\n",
    "current_round = napi.get_current_round()\n",
    "print(f\"Current round #: {current_round}\")"
   ]
  },
  {
   "cell_type": "markdown",
   "metadata": {},
   "source": [
    "# v3 Data"
   ]
  },
  {
   "cell_type": "code",
   "execution_count": 17,
   "metadata": {},
   "outputs": [],
   "source": [
    "# napi.download_dataset(\"data/numerai_training_data.parquet\", \"training_data.parquet\")"
   ]
  },
  {
   "cell_type": "code",
   "execution_count": 18,
   "metadata": {},
   "outputs": [],
   "source": [
    "# napi.download_dataset(\"data/numerai_validation_data.parquet\", f\"validation_data.parquet\")"
   ]
  },
  {
   "cell_type": "code",
   "execution_count": 19,
   "metadata": {},
   "outputs": [],
   "source": [
    "# napi.download_dataset(\n",
    "#     \"data/numerai_tournament_data.parquet\", \n",
    "#     f\"tournament_data_{current_round}.parquet\"\n",
    "# )"
   ]
  },
  {
   "cell_type": "code",
   "execution_count": 20,
   "metadata": {},
   "outputs": [],
   "source": [
    "# napi.download_dataset(\"data/features.json\")"
   ]
  },
  {
   "cell_type": "markdown",
   "metadata": {},
   "source": [
    "# v4 Data"
   ]
  },
  {
   "cell_type": "code",
   "execution_count": 11,
   "metadata": {},
   "outputs": [
    {
     "name": "stderr",
     "output_type": "stream",
     "text": [
      "2022-04-09 15:52:12,809 INFO numerapi.utils: target file already exists\n",
      "2022-04-09 15:52:12,815 INFO numerapi.utils: download complete\n"
     ]
    }
   ],
   "source": [
    "napi.download_dataset(\"v4/train.parquet\", \"data/train.parquet\")"
   ]
  },
  {
   "cell_type": "code",
   "execution_count": 21,
   "metadata": {},
   "outputs": [
    {
     "name": "stderr",
     "output_type": "stream",
     "text": [
      "2022-04-09 16:08:38,396 INFO numerapi.utils: starting download\n",
      "data/validation.parquet: 1.04GB [06:42, 2.58MB/s]                                                                                     \n"
     ]
    }
   ],
   "source": [
    "napi.download_dataset(\"v4/validation.parquet\", \"data/validation.parquet\")"
   ]
  },
  {
   "cell_type": "code",
   "execution_count": 13,
   "metadata": {},
   "outputs": [
    {
     "name": "stderr",
     "output_type": "stream",
     "text": [
      "2022-04-09 15:57:13,598 INFO numerapi.utils: target file already exists\n",
      "2022-04-09 15:57:13,603 INFO numerapi.utils: download complete\n"
     ]
    }
   ],
   "source": [
    "napi.download_dataset(\"v4/live.parquet\", f\"data/live_{current_round}.parquet\")"
   ]
  },
  {
   "cell_type": "code",
   "execution_count": 14,
   "metadata": {},
   "outputs": [
    {
     "name": "stderr",
     "output_type": "stream",
     "text": [
      "2022-04-09 15:59:50,140 INFO numerapi.utils: target file already exists\n",
      "2022-04-09 15:59:50,142 INFO numerapi.utils: download complete\n"
     ]
    }
   ],
   "source": [
    "napi.download_dataset(\"v4/live_example_preds.parquet\", \"data/live_example_preds.parquet\")"
   ]
  },
  {
   "cell_type": "code",
   "execution_count": 15,
   "metadata": {},
   "outputs": [
    {
     "name": "stderr",
     "output_type": "stream",
     "text": [
      "2022-04-09 16:02:20,564 INFO numerapi.utils: target file already exists\n",
      "2022-04-09 16:02:20,569 INFO numerapi.utils: download complete\n"
     ]
    }
   ],
   "source": [
    "napi.download_dataset(\"v4/validation_example_preds.parquet\", \"data/validation_example_preds.parquet\")"
   ]
  },
  {
   "cell_type": "code",
   "execution_count": 16,
   "metadata": {},
   "outputs": [
    {
     "name": "stderr",
     "output_type": "stream",
     "text": [
      "2022-04-09 16:04:57,255 INFO numerapi.utils: target file already exists\n",
      "2022-04-09 16:04:57,259 INFO numerapi.utils: download complete\n"
     ]
    }
   ],
   "source": [
    "napi.download_dataset(\"v4/features.json\", \"data/features.json\")"
   ]
  },
  {
   "cell_type": "code",
   "execution_count": null,
   "metadata": {},
   "outputs": [],
   "source": []
  }
 ],
 "metadata": {
  "kernelspec": {
   "display_name": "projenv",
   "language": "python",
   "name": "projenv"
  },
  "language_info": {
   "codemirror_mode": {
    "name": "ipython",
    "version": 3
   },
   "file_extension": ".py",
   "mimetype": "text/x-python",
   "name": "python",
   "nbconvert_exporter": "python",
   "pygments_lexer": "ipython3",
   "version": "3.10.2"
  }
 },
 "nbformat": 4,
 "nbformat_minor": 4
}
