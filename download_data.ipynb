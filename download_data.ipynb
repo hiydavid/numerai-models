{
 "cells": [
  {
   "cell_type": "markdown",
   "metadata": {},
   "source": [
    "# Download Numerai Data"
   ]
  },
  {
   "cell_type": "code",
   "execution_count": 9,
   "metadata": {},
   "outputs": [],
   "source": [
    "from numerapi import NumerAPI"
   ]
  },
  {
   "cell_type": "code",
   "execution_count": 10,
   "metadata": {},
   "outputs": [
    {
     "name": "stdout",
     "output_type": "stream",
     "text": [
      "Current round #: 310\n"
     ]
    }
   ],
   "source": [
    "# see current round\n",
    "napi = NumerAPI()\n",
    "current_round = napi.get_current_round()\n",
    "print(f\"Current round #: {current_round}\")"
   ]
  },
  {
   "cell_type": "markdown",
   "metadata": {},
   "source": [
    "# v3 Data"
   ]
  },
  {
   "cell_type": "code",
   "execution_count": 8,
   "metadata": {},
   "outputs": [],
   "source": [
    "# # get training & validation data\n",
    "# print('Downloading training & validation dataset files...')\n",
    "# napi.download_dataset(\"data/numerai_training_data.parquet\", \"training_data.parquet\")\n",
    "# napi.download_dataset(\"data/numerai_validation_data.parquet\", f\"validation_data.parquet\")"
   ]
  },
  {
   "cell_type": "code",
   "execution_count": 11,
   "metadata": {},
   "outputs": [],
   "source": [
    "# print('Downloading tournament dataset files...')\n",
    "# napi.download_dataset(\n",
    "#     \"data/numerai_tournament_data.parquet\", \n",
    "#     f\"tournament_data_{current_round}.parquet\"\n",
    "# )\n",
    "# napi.download_dataset(\"data/features.json\")"
   ]
  },
  {
   "cell_type": "markdown",
   "metadata": {},
   "source": [
    "# v4 Data"
   ]
  },
  {
   "cell_type": "code",
   "execution_count": 16,
   "metadata": {},
   "outputs": [
    {
     "name": "stdout",
     "output_type": "stream",
     "text": [
      "Downloading training & validation datasets...\n"
     ]
    },
    {
     "name": "stderr",
     "output_type": "stream",
     "text": [
      "2022-04-05 19:12:23,346 INFO numerapi.utils: starting download\n",
      "data/train.parquet: 1.15GB [06:03, 3.15MB/s]                                    \n",
      "2022-04-05 19:18:34,294 INFO numerapi.utils: starting download\n",
      "data/validation.parquet: 1.04GB [05:28, 3.16MB/s]                               \n"
     ]
    }
   ],
   "source": [
    "# get training & validation datasets\n",
    "print(\"Downloading training & validation datasets...\")\n",
    "napi.download_dataset(\"v4/train.parquet\", \"data/train.parquet\")\n",
    "napi.download_dataset(\"v4/validation.parquet\", \"data/validation.parquet\")"
   ]
  },
  {
   "cell_type": "code",
   "execution_count": 18,
   "metadata": {},
   "outputs": [
    {
     "name": "stdout",
     "output_type": "stream",
     "text": [
      "Downloading live dataset for round 310...\n"
     ]
    },
    {
     "name": "stderr",
     "output_type": "stream",
     "text": [
      "2022-04-05 19:24:03,584 INFO numerapi.utils: target file already exists\n",
      "2022-04-05 19:24:03,586 INFO numerapi.utils: download complete\n"
     ]
    }
   ],
   "source": [
    "# get live and other datasets\n",
    "print(f\"Downloading live dataset for round {current_round}...\")\n",
    "napi.download_dataset(\"v4/live.parquet\", f\"data/live_{current_round}.parquet\")"
   ]
  },
  {
   "cell_type": "code",
   "execution_count": 19,
   "metadata": {},
   "outputs": [
    {
     "name": "stdout",
     "output_type": "stream",
     "text": [
      "Downloading other datasets...\n"
     ]
    },
    {
     "name": "stderr",
     "output_type": "stream",
     "text": [
      "2022-04-05 19:47:21,140 INFO numerapi.utils: starting download\n",
      "data/live_example_preds.parquet: 139kB [00:00, 2.79MB/s]                        \n",
      "2022-04-05 19:47:21,534 INFO numerapi.utils: starting download\n",
      "data/validation_example_preds.parquet: 51.8MB [00:15, 3.25MB/s]                 \n",
      "2022-04-05 19:47:37,838 INFO numerapi.utils: starting download\n",
      "data/features.json: 546kB [00:00, 2.25MB/s]                                     \n"
     ]
    }
   ],
   "source": [
    "# get other datasets\n",
    "print(f\"Downloading other datasets...\")\n",
    "napi.download_dataset(\"v4/live_example_preds.parquet\", \"data/live_example_preds.parquet\")\n",
    "napi.download_dataset(\"v4/validation_example_preds.parquet\", \"data/validation_example_preds.parquet\")\n",
    "napi.download_dataset(\"v4/features.json\", \"data/features.json\")"
   ]
  },
  {
   "cell_type": "code",
   "execution_count": null,
   "metadata": {},
   "outputs": [],
   "source": []
  }
 ],
 "metadata": {
  "kernelspec": {
   "display_name": "projenv",
   "language": "python",
   "name": "projenv"
  },
  "language_info": {
   "codemirror_mode": {
    "name": "ipython",
    "version": 3
   },
   "file_extension": ".py",
   "mimetype": "text/x-python",
   "name": "python",
   "nbconvert_exporter": "python",
   "pygments_lexer": "ipython3",
   "version": "3.10.2"
  }
 },
 "nbformat": 4,
 "nbformat_minor": 4
}
