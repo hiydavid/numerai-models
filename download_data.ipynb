{
 "cells": [
  {
   "cell_type": "markdown",
   "metadata": {},
   "source": [
    "# Download Numerai Data"
   ]
  },
  {
   "cell_type": "code",
   "execution_count": 8,
   "metadata": {},
   "outputs": [],
   "source": [
    "import pandas as pd\n",
    "from numerapi import NumerAPI\n",
    "from api_keys import PUBLIC_ID, SECRET_KEY"
   ]
  },
  {
   "cell_type": "code",
   "execution_count": 2,
   "metadata": {},
   "outputs": [
    {
     "name": "stdout",
     "output_type": "stream",
     "text": [
      "Current round #: 312\n"
     ]
    }
   ],
   "source": [
    "napi = NumerAPI(public_id=PUBLIC_ID, secret_key=SECRET_KEY)\n",
    "current_round = napi.get_current_round()\n",
    "print(f\"Current round #: {current_round}\")"
   ]
  },
  {
   "cell_type": "markdown",
   "metadata": {},
   "source": [
    "# v3 Data"
   ]
  },
  {
   "cell_type": "code",
   "execution_count": 20,
   "metadata": {},
   "outputs": [
    {
     "data": {
      "text/plain": [
       "4                    v3/example_predictions.csv\n",
       "5                v3/example_predictions.parquet\n",
       "6         v3/example_validation_predictions.csv\n",
       "7     v3/example_validation_predictions.parquet\n",
       "8                              v3/features.json\n",
       "9                       v3/numerai_datasets.zip\n",
       "10                     v3/numerai_live_data.csv\n",
       "11                 v3/numerai_live_data.parquet\n",
       "12                v3/numerai_live_data_int8.csv\n",
       "13            v3/numerai_live_data_int8.parquet\n",
       "14               v3/numerai_tournament_data.csv\n",
       "15           v3/numerai_tournament_data.parquet\n",
       "16          v3/numerai_tournament_data_int8.csv\n",
       "17      v3/numerai_tournament_data_int8.parquet\n",
       "18                 v3/numerai_training_data.csv\n",
       "19             v3/numerai_training_data.parquet\n",
       "20            v3/numerai_training_data_int8.csv\n",
       "21        v3/numerai_training_data_int8.parquet\n",
       "22               v3/numerai_validation_data.csv\n",
       "23           v3/numerai_validation_data.parquet\n",
       "24          v3/numerai_validation_data_int8.csv\n",
       "25      v3/numerai_validation_data_int8.parquet\n",
       "dtype: object"
      ]
     },
     "execution_count": 20,
     "metadata": {},
     "output_type": "execute_result"
    }
   ],
   "source": [
    "# check v3 version datasets\n",
    "ds_list = pd.Series(napi.list_datasets())\n",
    "ds_list[ds_list.str.contains(\"v3/\")]"
   ]
  },
  {
   "cell_type": "code",
   "execution_count": 3,
   "metadata": {},
   "outputs": [],
   "source": [
    "# napi.download_dataset(\"data/numerai_training_data.parquet\", \"training_data.parquet\")"
   ]
  },
  {
   "cell_type": "code",
   "execution_count": 4,
   "metadata": {},
   "outputs": [],
   "source": [
    "# napi.download_dataset(\"data/numerai_validation_data.parquet\", f\"validation_data.parquet\")"
   ]
  },
  {
   "cell_type": "code",
   "execution_count": 5,
   "metadata": {},
   "outputs": [],
   "source": [
    "# napi.download_dataset(\n",
    "#     \"data/numerai_tournament_data.parquet\", \n",
    "#     f\"tournament_data_{current_round}.parquet\"\n",
    "# )"
   ]
  },
  {
   "cell_type": "code",
   "execution_count": 6,
   "metadata": {},
   "outputs": [],
   "source": [
    "# napi.download_dataset(\"data/features.json\")"
   ]
  },
  {
   "cell_type": "markdown",
   "metadata": {},
   "source": [
    "# v4 Data"
   ]
  },
  {
   "cell_type": "code",
   "execution_count": 19,
   "metadata": {},
   "outputs": [
    {
     "data": {
      "text/plain": [
       "26                       v4/features.json\n",
       "27                        v4/live.parquet\n",
       "28          v4/live_example_preds.parquet\n",
       "29                   v4/live_int8.parquet\n",
       "30                       v4/train.parquet\n",
       "31                  v4/train_int8.parquet\n",
       "32                  v4/validation.parquet\n",
       "33    v4/validation_example_preds.parquet\n",
       "34             v4/validation_int8.parquet\n",
       "dtype: object"
      ]
     },
     "execution_count": 19,
     "metadata": {},
     "output_type": "execute_result"
    }
   ],
   "source": [
    "# check current version datasets\n",
    "ds_list = pd.Series(napi.list_datasets())\n",
    "ds_list[ds_list.str.contains(\"v4/\")]"
   ]
  },
  {
   "cell_type": "code",
   "execution_count": 10,
   "metadata": {},
   "outputs": [],
   "source": [
    "napi.download_dataset(\n",
    "    filename=\"v4/live.parquet\", \n",
    "    dest_path=f\"data/live_{current_round}.parquet\"\n",
    ")"
   ]
  },
  {
   "cell_type": "code",
   "execution_count": 11,
   "metadata": {},
   "outputs": [],
   "source": [
    "# napi.download_dataset(\n",
    "#     filename=\"v4/train.parquet\", \n",
    "#     dest_path=\"data/train.parquet\"\n",
    "# )"
   ]
  },
  {
   "cell_type": "code",
   "execution_count": 13,
   "metadata": {},
   "outputs": [],
   "source": [
    "# napi.download_dataset(\n",
    "#     filename=\"v4/validation.parquet\", \n",
    "#     dest_path=\"data/validation.parquet\"\n",
    "# )"
   ]
  },
  {
   "cell_type": "code",
   "execution_count": 19,
   "metadata": {},
   "outputs": [],
   "source": [
    "# napi.download_dataset(\n",
    "#     filename=\"v4/live_example_preds.parquet\", \n",
    "#     dest_path=\"data/live_example_preds.parquet\"\n",
    "# )"
   ]
  },
  {
   "cell_type": "code",
   "execution_count": 20,
   "metadata": {},
   "outputs": [],
   "source": [
    "# napi.download_dataset(\n",
    "#     filename=\"v4/validation_example_preds.parquet\", \n",
    "#     dest_path=\"data/validation_example_preds.parquet\"\n",
    "# )"
   ]
  },
  {
   "cell_type": "code",
   "execution_count": 21,
   "metadata": {},
   "outputs": [],
   "source": [
    "# napi.download_dataset(\n",
    "#     filename=\"v4/features.json\", \n",
    "#     dest_path=\"data/features.json\"\n",
    "# )"
   ]
  },
  {
   "cell_type": "code",
   "execution_count": null,
   "metadata": {},
   "outputs": [],
   "source": []
  }
 ],
 "metadata": {
  "interpreter": {
   "hash": "0126e27fe55ec969de126c2cfdac2c99da69ebfdfbbeb83738b0925389a2d696"
  },
  "kernelspec": {
   "display_name": "projenv",
   "language": "python",
   "name": "projenv"
  },
  "language_info": {
   "codemirror_mode": {
    "name": "ipython",
    "version": 3
   },
   "file_extension": ".py",
   "mimetype": "text/x-python",
   "name": "python",
   "nbconvert_exporter": "python",
   "pygments_lexer": "ipython3",
   "version": "3.10.2"
  }
 },
 "nbformat": 4,
 "nbformat_minor": 4
}
