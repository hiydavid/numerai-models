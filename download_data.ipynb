{
 "cells": [
  {
   "cell_type": "markdown",
   "metadata": {},
   "source": [
    "# Download Numerai Data"
   ]
  },
  {
   "cell_type": "code",
   "execution_count": 4,
   "metadata": {},
   "outputs": [],
   "source": [
    "from numerapi import NumerAPI"
   ]
  },
  {
   "cell_type": "code",
   "execution_count": 5,
   "metadata": {},
   "outputs": [
    {
     "name": "stdout",
     "output_type": "stream",
     "text": [
      "Current round #: 310\n"
     ]
    }
   ],
   "source": [
    "# see current round\n",
    "napi = NumerAPI()\n",
    "current_round = napi.get_current_round()\n",
    "print(f\"Current round #: {current_round}\")"
   ]
  },
  {
   "cell_type": "code",
   "execution_count": 8,
   "metadata": {},
   "outputs": [],
   "source": [
    "# # get training & data\n",
    "# print('Downloading training & validation dataset files...')\n",
    "# napi.download_dataset(\"data/numerai_training_data.parquet\", \"training_data.parquet\")\n",
    "# napi.download_dataset(\"data/numerai_validation_data.parquet\", f\"validation_data.parquet\")"
   ]
  },
  {
   "cell_type": "code",
   "execution_count": 7,
   "metadata": {},
   "outputs": [
    {
     "name": "stdout",
     "output_type": "stream",
     "text": [
      "Downloading tournament dataset files...\n"
     ]
    },
    {
     "name": "stderr",
     "output_type": "stream",
     "text": [
      "2022-04-04 17:35:52,314 INFO numerapi.utils: starting download\n",
      "tournament_data_310.parquet: 582MB [03:05, 3.13MB/s]                            \n",
      "2022-04-04 17:41:28,562 INFO numerapi.utils: starting download\n",
      "features.json: 441kB [00:00, 3.61MB/s]                                          \n"
     ]
    }
   ],
   "source": [
    "print('Downloading tournament dataset files...')\n",
    "napi.download_dataset(\"data/numerai_tournament_data.parquet\", f\"tournament_data_{current_round}.parquet\")\n",
    "napi.download_dataset(\"data/features.json\")"
   ]
  },
  {
   "cell_type": "code",
   "execution_count": null,
   "metadata": {},
   "outputs": [],
   "source": []
  }
 ],
 "metadata": {
  "kernelspec": {
   "display_name": "projenv",
   "language": "python",
   "name": "projenv"
  },
  "language_info": {
   "codemirror_mode": {
    "name": "ipython",
    "version": 3
   },
   "file_extension": ".py",
   "mimetype": "text/x-python",
   "name": "python",
   "nbconvert_exporter": "python",
   "pygments_lexer": "ipython3",
   "version": "3.10.2"
  }
 },
 "nbformat": 4,
 "nbformat_minor": 4
}
