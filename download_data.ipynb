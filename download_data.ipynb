{
 "cells": [
  {
   "cell_type": "markdown",
   "metadata": {},
   "source": [
    "# Download Numerai Data"
   ]
  },
  {
   "cell_type": "code",
   "execution_count": 1,
   "metadata": {},
   "outputs": [],
   "source": [
    "from numerapi import NumerAPI"
   ]
  },
  {
   "cell_type": "code",
   "execution_count": 2,
   "metadata": {},
   "outputs": [
    {
     "name": "stdout",
     "output_type": "stream",
     "text": [
      "Current round #: 311\n"
     ]
    }
   ],
   "source": [
    "# see current round\n",
    "napi = NumerAPI()\n",
    "current_round = napi.get_current_round()\n",
    "print(f\"Current round #: {current_round}\")"
   ]
  },
  {
   "cell_type": "markdown",
   "metadata": {},
   "source": [
    "# v3 Data"
   ]
  },
  {
   "cell_type": "code",
   "execution_count": 5,
   "metadata": {},
   "outputs": [],
   "source": [
    "# # get training & validation data\n",
    "# print('Downloading training & validation dataset files...')\n",
    "# napi.download_dataset(\"data/numerai_training_data.parquet\", \"training_data.parquet\")\n",
    "# napi.download_dataset(\"data/numerai_validation_data.parquet\", f\"validation_data.parquet\")"
   ]
  },
  {
   "cell_type": "code",
   "execution_count": 6,
   "metadata": {},
   "outputs": [],
   "source": [
    "# print('Downloading tournament dataset files...')\n",
    "# napi.download_dataset(\n",
    "#     \"data/numerai_tournament_data.parquet\", \n",
    "#     f\"tournament_data_{current_round}.parquet\"\n",
    "# )\n",
    "# napi.download_dataset(\"data/features.json\")"
   ]
  },
  {
   "cell_type": "markdown",
   "metadata": {},
   "source": [
    "# v4 Data"
   ]
  },
  {
   "cell_type": "code",
   "execution_count": 7,
   "metadata": {},
   "outputs": [
    {
     "name": "stdout",
     "output_type": "stream",
     "text": [
      "Downloading training & validation datasets...\n"
     ]
    },
    {
     "name": "stderr",
     "output_type": "stream",
     "text": [
      "2022-04-09 15:16:28,828 INFO numerapi.utils: target file already exists\n",
      "2022-04-09 15:16:28,830 INFO numerapi.utils: download complete\n",
      "2022-04-09 15:16:29,148 INFO numerapi.utils: target file already exists\n",
      "2022-04-09 15:16:29,150 INFO numerapi.utils: resuming download\n",
      "/Users/davidhuang/miniforge3/envs/projenv/lib/python3.10/site-packages/urllib3/connectionpool.py:1043: InsecureRequestWarning: Unverified HTTPS request is being made to host 'numerai-datasets.s3.amazonaws.com'. Adding certificate verification is strongly advised. See: https://urllib3.readthedocs.io/en/1.26.x/advanced-usage.html#ssl-warnings\n",
      "  warnings.warn(\n",
      "data/validation.parquet: 1.04GB [00:00, 2.18GB/s]                               \n"
     ]
    }
   ],
   "source": [
    "# get training & validation datasets\n",
    "print(\"Downloading training & validation datasets...\")\n",
    "napi.download_dataset(\"v4/train.parquet\", \"data/train.parquet\")\n",
    "napi.download_dataset(\"v4/validation.parquet\", \"data/validation.parquet\")"
   ]
  },
  {
   "cell_type": "code",
   "execution_count": 8,
   "metadata": {},
   "outputs": [
    {
     "name": "stdout",
     "output_type": "stream",
     "text": [
      "Downloading live dataset for round 311...\n"
     ]
    },
    {
     "name": "stderr",
     "output_type": "stream",
     "text": [
      "2022-04-09 15:19:06,977 INFO numerapi.utils: starting download\n",
      "data/live_311.parquet: 3.56MB [00:00, 3.61MB/s]                                 \n"
     ]
    }
   ],
   "source": [
    "# get live and other datasets\n",
    "print(f\"Downloading live dataset for round {current_round}...\")\n",
    "napi.download_dataset(\"v4/live.parquet\", f\"data/live_{current_round}.parquet\")"
   ]
  },
  {
   "cell_type": "code",
   "execution_count": 9,
   "metadata": {},
   "outputs": [
    {
     "name": "stdout",
     "output_type": "stream",
     "text": [
      "Downloading other datasets...\n"
     ]
    },
    {
     "name": "stderr",
     "output_type": "stream",
     "text": [
      "2022-04-09 15:21:44,614 INFO numerapi.utils: target file already exists\n",
      "2022-04-09 15:21:44,616 ERROR numerapi.utils: deleting file and restarting\n",
      "data/live_example_preds.parquet: 129kB [00:00, 2.12MB/s]                        \n",
      "2022-04-09 15:24:15,024 INFO numerapi.utils: target file already exists\n",
      "2022-04-09 15:24:15,031 INFO numerapi.utils: resuming download\n",
      "/Users/davidhuang/miniforge3/envs/projenv/lib/python3.10/site-packages/urllib3/connectionpool.py:1043: InsecureRequestWarning: Unverified HTTPS request is being made to host 'numerai-datasets.s3.amazonaws.com'. Adding certificate verification is strongly advised. See: https://urllib3.readthedocs.io/en/1.26.x/advanced-usage.html#ssl-warnings\n",
      "  warnings.warn(\n",
      "data/validation_example_preds.parquet: 51.9MB [00:00, 1.05GB/s]                 \n",
      "2022-04-09 15:26:51,855 INFO numerapi.utils: target file already exists\n",
      "2022-04-09 15:26:51,857 INFO numerapi.utils: resuming download\n",
      "/Users/davidhuang/miniforge3/envs/projenv/lib/python3.10/site-packages/urllib3/connectionpool.py:1043: InsecureRequestWarning: Unverified HTTPS request is being made to host 'numerai-datasets.s3.amazonaws.com'. Adding certificate verification is strongly advised. See: https://urllib3.readthedocs.io/en/1.26.x/advanced-usage.html#ssl-warnings\n",
      "  warnings.warn(\n",
      "data/features.json: 562kB [00:00, 106MB/s]                                      \n"
     ]
    }
   ],
   "source": [
    "# get other datasets\n",
    "print(f\"Downloading other datasets...\")\n",
    "napi.download_dataset(\"v4/live_example_preds.parquet\", \"data/live_example_preds.parquet\")\n",
    "napi.download_dataset(\"v4/validation_example_preds.parquet\", \"data/validation_example_preds.parquet\")\n",
    "napi.download_dataset(\"v4/features.json\", \"data/features.json\")"
   ]
  },
  {
   "cell_type": "code",
   "execution_count": null,
   "metadata": {},
   "outputs": [],
   "source": []
  }
 ],
 "metadata": {
  "kernelspec": {
   "display_name": "projenv",
   "language": "python",
   "name": "projenv"
  },
  "language_info": {
   "codemirror_mode": {
    "name": "ipython",
    "version": 3
   },
   "file_extension": ".py",
   "mimetype": "text/x-python",
   "name": "python",
   "nbconvert_exporter": "python",
   "pygments_lexer": "ipython3",
   "version": "3.10.2"
  }
 },
 "nbformat": 4,
 "nbformat_minor": 4
}
