{
  "nbformat": 4,
  "nbformat_minor": 0,
  "metadata": {
    "colab": {
      "name": "numerai_tfdf_model_v1",
      "provenance": [],
      "collapsed_sections": [],
      "include_colab_link": true
    },
    "kernelspec": {
      "name": "python3",
      "display_name": "Python 3"
    },
    "accelerator": "GPU"
  },
  "cells": [
    {
      "cell_type": "markdown",
      "metadata": {
        "id": "view-in-github",
        "colab_type": "text"
      },
      "source": [
        "<a href=\"https://colab.research.google.com/github/hiydavid/numerai-models/blob/main/numerai_tfdf_model_v1.ipynb\" target=\"_parent\"><img src=\"https://colab.research.google.com/assets/colab-badge.svg\" alt=\"Open In Colab\"/></a>"
      ]
    },
    {
      "cell_type": "markdown",
      "metadata": {
        "id": "RUD4ylfaLZA6"
      },
      "source": [
        "# Numerai TFDF Model * WIP *\n",
        "---\n",
        "\n",
        "TFDF model\n",
        "* Tensorflow Decision Forest model\n"
      ]
    },
    {
      "cell_type": "markdown",
      "metadata": {
        "id": "dioJyoTnxEm3"
      },
      "source": [
        "---\n",
        "# Load data & libraries"
      ]
    },
    {
      "cell_type": "code",
      "metadata": {
        "id": "zDKQ_zqwTBf6"
      },
      "source": [
        "# install dependencies\n",
        "!pip install -Uqq numerapi==2.4.5 tensorflow==2.5.1 tensorflow_decision_forests"
      ],
      "execution_count": 1,
      "outputs": []
    },
    {
      "cell_type": "code",
      "metadata": {
        "id": "MaNpcfNkKUg_"
      },
      "source": [
        "# import dependencies\n",
        "import tensorflow as tf\n",
        "import tensorflow_decision_forests as tfdf\n",
        "import numpy as np\n",
        "import pandas as pd\n",
        "import sklearn\n",
        "from sklearn.metrics import confusion_matrix\n",
        "from sklearn.model_selection import train_test_split\n",
        "from sklearn.preprocessing import StandardScaler"
      ],
      "execution_count": 2,
      "outputs": []
    },
    {
      "cell_type": "code",
      "metadata": {
        "id": "EyB8NsbUNNWR"
      },
      "source": [
        "# download the latest training dataset (takes around 30s)\n",
        "training_data_url = \"https://numerai-public-datasets.s3-us-west-2.amazonaws.com/latest_numerai_training_data.csv.xz\" \n",
        "training_data = pd.read_csv(training_data_url)"
      ],
      "execution_count": 3,
      "outputs": []
    },
    {
      "cell_type": "code",
      "metadata": {
        "id": "6GkhBurt73Fi"
      },
      "source": [
        "# # download the latest tournament dataset (takes around 30s)\n",
        "# tournament_data_url = \"https://numerai-public-datasets.s3-us-west-2.amazonaws.com/latest_numerai_tournament_data.csv.xz\"\n",
        "# tournament_data = pd.read_csv(tournament_data_url)"
      ],
      "execution_count": 4,
      "outputs": []
    },
    {
      "cell_type": "markdown",
      "metadata": {
        "id": "c3Fcz-PpHYez"
      },
      "source": [
        "--- \n",
        "# Convert dataframes to datasets"
      ]
    },
    {
      "cell_type": "code",
      "metadata": {
        "colab": {
          "base_uri": "https://localhost:8080/"
        },
        "id": "-QKo6mbBZz0z",
        "outputId": "907f237e-1dc8-4147-db4a-1994e2e5d074"
      },
      "source": [
        "# split training into training & validation\n",
        "training_data, testing_data = train_test_split(training_data, test_size = 0.2)\n",
        "\n",
        "training_data.shape, testing_data.shape #, tournament_data.shape"
      ],
      "execution_count": 5,
      "outputs": [
        {
          "output_type": "execute_result",
          "data": {
            "text/plain": [
              "((401446, 314), (100362, 314))"
            ]
          },
          "metadata": {},
          "execution_count": 5
        }
      ]
    },
    {
      "cell_type": "code",
      "metadata": {
        "id": "ESazJMMzN--g"
      },
      "source": [
        "# find only the feature columns\n",
        "feature_cols = training_data.columns[\n",
        "    training_data.columns.str.startswith('feature')\n",
        "    ].append(pd.Index(['target']))"
      ],
      "execution_count": 6,
      "outputs": []
    },
    {
      "cell_type": "code",
      "metadata": {
        "id": "PlwQEKlXJS9v"
      },
      "source": [
        "# convert features data to ds object\n",
        "train_ds = tfdf.keras.pd_dataframe_to_tf_dataset(\n",
        "    training_data[feature_cols], \n",
        "    label=\"target\",\n",
        "    task=tfdf.keras.Task.REGRESSION\n",
        ")\n",
        "\n",
        "test_ds = tfdf.keras.pd_dataframe_to_tf_dataset(\n",
        "    testing_data[feature_cols], \n",
        "    label=\"target\",\n",
        "    task=tfdf.keras.Task.REGRESSION\n",
        ")\n",
        "\n",
        "# live_ds = tfdf.keras.pd_dataframe_to_tf_dataset(\n",
        "#     tournament_data[feature_cols], \n",
        "#     label=\"target\",\n",
        "#     task=tfdf.keras.Task.REGRESSION\n",
        "# )"
      ],
      "execution_count": 7,
      "outputs": []
    },
    {
      "cell_type": "code",
      "metadata": {
        "id": "2AuNXbVmRQDp",
        "colab": {
          "base_uri": "https://localhost:8080/"
        },
        "outputId": "23eb87ee-2d7d-431a-fffd-01aac0dac136"
      },
      "source": [
        "# create a TFDF model\n",
        "tfdf.keras.get_all_models()"
      ],
      "execution_count": 9,
      "outputs": [
        {
          "output_type": "execute_result",
          "data": {
            "text/plain": [
              "[tensorflow_decision_forests.keras.RandomForestModel,\n",
              " tensorflow_decision_forests.keras.GradientBoostedTreesModel,\n",
              " tensorflow_decision_forests.keras.CartModel]"
            ]
          },
          "metadata": {},
          "execution_count": 9
        }
      ]
    },
    {
      "cell_type": "markdown",
      "metadata": {
        "id": "VUdKdn2VYGbZ"
      },
      "source": [
        "---\n",
        "# Train model"
      ]
    },
    {
      "cell_type": "code",
      "metadata": {
        "id": "qQCT7_EiaDOI"
      },
      "source": [
        "# configure model\n",
        "model = tfdf.keras.RandomForestModel(task=tfdf.keras.Task.REGRESSION)"
      ],
      "execution_count": 10,
      "outputs": []
    },
    {
      "cell_type": "code",
      "metadata": {
        "colab": {
          "base_uri": "https://localhost:8080/"
        },
        "id": "PFl2iVanYIK4",
        "outputId": "f13afb83-b08a-4529-dfb9-121e661442ce"
      },
      "source": [
        "# fit model\n",
        "model.fit(x=train_ds)"
      ],
      "execution_count": 12,
      "outputs": [
        {
          "output_type": "stream",
          "text": [
            "6273/6273 [==============================] - 119s 18ms/step\n"
          ],
          "name": "stdout"
        },
        {
          "output_type": "execute_result",
          "data": {
            "text/plain": [
              "<tensorflow.python.keras.callbacks.History at 0x7fa7b09792d0>"
            ]
          },
          "metadata": {},
          "execution_count": 12
        }
      ]
    },
    {
      "cell_type": "code",
      "metadata": {
        "colab": {
          "base_uri": "https://localhost:8080/"
        },
        "id": "DWm5Jqt0YINB",
        "outputId": "19ca88e1-79b7-49d9-ee18-7b24227fe1e2"
      },
      "source": [
        "# evaluate the model\n",
        "model.compile(metrics=[\"accuracy\"])\n",
        "print(model.evaluate(test_ds))"
      ],
      "execution_count": 15,
      "outputs": [
        {
          "output_type": "stream",
          "text": [
            "1569/1569 [==============================] - 30s 18ms/step - loss: 0.0000e+00 - accuracy: 0.0494\n",
            "[0.0, 0.04942109435796738]\n"
          ],
          "name": "stdout"
        }
      ]
    },
    {
      "cell_type": "markdown",
      "metadata": {
        "id": "GSueu_B-c0J9"
      },
      "source": [
        "---\n",
        "# Save model"
      ]
    },
    {
      "cell_type": "code",
      "metadata": {
        "id": "cp0g7ntsc0hI"
      },
      "source": [
        "model.save(\"/tmp/my_saved_model\")"
      ],
      "execution_count": null,
      "outputs": []
    },
    {
      "cell_type": "code",
      "metadata": {
        "id": "tL-YMDsec0jz"
      },
      "source": [
        ""
      ],
      "execution_count": null,
      "outputs": []
    },
    {
      "cell_type": "code",
      "metadata": {
        "id": "d96h-kgpc0mx"
      },
      "source": [
        ""
      ],
      "execution_count": null,
      "outputs": []
    },
    {
      "cell_type": "markdown",
      "metadata": {
        "id": "Uxx5pLIGIUvN"
      },
      "source": [
        "---\n",
        "# Predict"
      ]
    },
    {
      "cell_type": "code",
      "metadata": {
        "id": "HIcmOiJYSmJI"
      },
      "source": [
        "# select the feature columns from the tournament data\n",
        "live_features = tournament_data[feature_cols]"
      ],
      "execution_count": null,
      "outputs": []
    },
    {
      "cell_type": "code",
      "metadata": {
        "id": "t4CoaCgbKcSN"
      },
      "source": [
        "# predict the target on the live features\n",
        "predictions = model.predict(live_features)"
      ],
      "execution_count": null,
      "outputs": []
    },
    {
      "cell_type": "code",
      "metadata": {
        "id": "4L4BFeAzTTDe",
        "colab": {
          "base_uri": "https://localhost:8080/",
          "height": 204
        },
        "outputId": "7ccb9755-81bb-4f24-820c-e97d2e0d4c8b"
      },
      "source": [
        "# predictions must have an `id` column and a `prediction_kazutsugi` column\n",
        "predictions_df = tournament_data[\"id\"].to_frame()\n",
        "predictions_df[\"prediction_kazutsugi\"] = predictions\n",
        "predictions_df.head()"
      ],
      "execution_count": null,
      "outputs": [
        {
          "output_type": "execute_result",
          "data": {
            "text/html": [
              "<div>\n",
              "<style scoped>\n",
              "    .dataframe tbody tr th:only-of-type {\n",
              "        vertical-align: middle;\n",
              "    }\n",
              "\n",
              "    .dataframe tbody tr th {\n",
              "        vertical-align: top;\n",
              "    }\n",
              "\n",
              "    .dataframe thead th {\n",
              "        text-align: right;\n",
              "    }\n",
              "</style>\n",
              "<table border=\"1\" class=\"dataframe\">\n",
              "  <thead>\n",
              "    <tr style=\"text-align: right;\">\n",
              "      <th></th>\n",
              "      <th>id</th>\n",
              "      <th>prediction_kazutsugi</th>\n",
              "    </tr>\n",
              "  </thead>\n",
              "  <tbody>\n",
              "    <tr>\n",
              "      <th>0</th>\n",
              "      <td>n0003aa52cab36c2</td>\n",
              "      <td>0.481608</td>\n",
              "    </tr>\n",
              "    <tr>\n",
              "      <th>1</th>\n",
              "      <td>n000920ed083903f</td>\n",
              "      <td>0.492837</td>\n",
              "    </tr>\n",
              "    <tr>\n",
              "      <th>2</th>\n",
              "      <td>n0038e640522c4a6</td>\n",
              "      <td>0.530817</td>\n",
              "    </tr>\n",
              "    <tr>\n",
              "      <th>3</th>\n",
              "      <td>n004ac94a87dc54b</td>\n",
              "      <td>0.497083</td>\n",
              "    </tr>\n",
              "    <tr>\n",
              "      <th>4</th>\n",
              "      <td>n0052fe97ea0c05f</td>\n",
              "      <td>0.503089</td>\n",
              "    </tr>\n",
              "  </tbody>\n",
              "</table>\n",
              "</div>"
            ],
            "text/plain": [
              "                 id  prediction_kazutsugi\n",
              "0  n0003aa52cab36c2              0.481608\n",
              "1  n000920ed083903f              0.492837\n",
              "2  n0038e640522c4a6              0.530817\n",
              "3  n004ac94a87dc54b              0.497083\n",
              "4  n0052fe97ea0c05f              0.503089"
            ]
          },
          "metadata": {},
          "execution_count": 10
        }
      ]
    },
    {
      "cell_type": "markdown",
      "metadata": {
        "id": "AQ0sgtPiLDys"
      },
      "source": [
        "--- \n",
        "# Submit"
      ]
    },
    {
      "cell_type": "code",
      "metadata": {
        "id": "rEfqpxcEWDdK"
      },
      "source": [
        "# Get your API keys and model_id from https://numer.ai/submit\n",
        "public_id = \"WPZQRGGZADFULXQ3RRMR6OJQWALLSQTM\"\n",
        "secret_key = \"T5ZJLYRT4652F244OLVRTITXH5W4TJRQ553RLJZLQTX7EPRU647WU33ITZPHP3FU\"\n",
        "model_id = \"4d9bcd2c-69cb-4e17-a3f3-a4b2530cbcb8\"\n",
        "napi = numerapi.NumerAPI(public_id=public_id, secret_key=secret_key)"
      ],
      "execution_count": null,
      "outputs": []
    },
    {
      "cell_type": "code",
      "metadata": {
        "id": "WeAIJHaoW3VU",
        "colab": {
          "base_uri": "https://localhost:8080/"
        },
        "outputId": "daa67faa-dde1-4e99-817f-d53fec599ec1"
      },
      "source": [
        "# Upload your predictions\n",
        "predictions_df.to_csv(\"predictions.csv\", index=False)\n",
        "submission_id = napi.upload_predictions(\"predictions.csv\", model_id=model_id)"
      ],
      "execution_count": null,
      "outputs": [
        {
          "output_type": "stream",
          "text": [
            "2021-08-29 05:19:29,781 INFO numerapi.base_api: uploading predictions...\n"
          ],
          "name": "stderr"
        }
      ]
    }
  ]
}