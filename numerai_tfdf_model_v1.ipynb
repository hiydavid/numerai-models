{
  "nbformat": 4,
  "nbformat_minor": 0,
  "metadata": {
    "colab": {
      "name": "numerai_tfdf_model_v1",
      "provenance": [],
      "collapsed_sections": [],
      "machine_shape": "hm",
      "include_colab_link": true
    },
    "kernelspec": {
      "name": "python3",
      "display_name": "Python 3"
    },
    "accelerator": "GPU"
  },
  "cells": [
    {
      "cell_type": "markdown",
      "metadata": {
        "id": "view-in-github",
        "colab_type": "text"
      },
      "source": [
        "<a href=\"https://colab.research.google.com/github/hiydavid/numerai-models/blob/main/numerai_tfdf_model_v1.ipynb\" target=\"_parent\"><img src=\"https://colab.research.google.com/assets/colab-badge.svg\" alt=\"Open In Colab\"/></a>"
      ]
    },
    {
      "cell_type": "markdown",
      "metadata": {
        "id": "RUD4ylfaLZA6"
      },
      "source": [
        "# Numerai TFDF Model * WIP *\n",
        "---\n",
        "\n",
        "TFDF model\n",
        "* Tensorflow Decision Forest model\n"
      ]
    },
    {
      "cell_type": "markdown",
      "metadata": {
        "id": "dioJyoTnxEm3"
      },
      "source": [
        "---\n",
        "# Load data & libraries"
      ]
    },
    {
      "cell_type": "code",
      "metadata": {
        "colab": {
          "base_uri": "https://localhost:8080/"
        },
        "id": "fkIuqUVesF_q",
        "outputId": "95d2d724-cf49-4343-8abd-55faa7111635"
      },
      "source": [
        "# set drive location\n",
        "from google.colab import drive\n",
        "drive.mount('/content/drive/', force_remount = False)\n",
        "path = '/content/drive/MyDrive/Colab/numerai/'"
      ],
      "execution_count": null,
      "outputs": [
        {
          "output_type": "stream",
          "text": [
            "Mounted at /content/drive/\n"
          ],
          "name": "stdout"
        }
      ]
    },
    {
      "cell_type": "code",
      "metadata": {
        "id": "zDKQ_zqwTBf6",
        "colab": {
          "base_uri": "https://localhost:8080/"
        },
        "outputId": "01707df3-b515-4e9a-da6f-9df9230fe813"
      },
      "source": [
        "# install dependencies\n",
        "!pip install -Uqq numerapi==2.4.5 tensorflow==2.5.1 tensorflow_decision_forests"
      ],
      "execution_count": null,
      "outputs": [
        {
          "output_type": "stream",
          "text": [
            "\u001b[K     |████████████████████████████████| 454.4 MB 9.5 kB/s \n",
            "\u001b[K     |████████████████████████████████| 6.3 MB 40.7 MB/s \n",
            "\u001b[K     |████████████████████████████████| 4.0 MB 53.1 MB/s \n",
            "\u001b[K     |████████████████████████████████| 462 kB 85.7 MB/s \n",
            "\u001b[K     |████████████████████████████████| 1.2 MB 58.1 MB/s \n",
            "\u001b[?25h"
          ],
          "name": "stdout"
        }
      ]
    },
    {
      "cell_type": "code",
      "metadata": {
        "id": "MaNpcfNkKUg_"
      },
      "source": [
        "# import dependencies\n",
        "import tensorflow as tf\n",
        "import tensorflow_decision_forests as tfdf\n",
        "import numpy as np\n",
        "import pandas as pd\n",
        "import sklearn\n",
        "from sklearn.metrics import confusion_matrix\n",
        "from sklearn.model_selection import train_test_split\n",
        "from sklearn.preprocessing import StandardScaler"
      ],
      "execution_count": null,
      "outputs": []
    },
    {
      "cell_type": "code",
      "metadata": {
        "id": "EyB8NsbUNNWR"
      },
      "source": [
        "# download the latest training dataset (takes around 30s)\n",
        "training_data_url = \"https://numerai-public-datasets.s3-us-west-2.amazonaws.com/latest_numerai_training_data.csv.xz\" \n",
        "training_data = pd.read_csv(training_data_url)"
      ],
      "execution_count": null,
      "outputs": []
    },
    {
      "cell_type": "markdown",
      "metadata": {
        "id": "c3Fcz-PpHYez"
      },
      "source": [
        "--- \n",
        "# Convert dataframes to datasets"
      ]
    },
    {
      "cell_type": "code",
      "metadata": {
        "colab": {
          "base_uri": "https://localhost:8080/"
        },
        "id": "-QKo6mbBZz0z",
        "outputId": "722f7fd6-d980-43b4-9a36-1c38a6f5b3d0"
      },
      "source": [
        "# split training into training & validation\n",
        "training_data, testing_data = train_test_split(training_data, test_size = 0.2)\n",
        "\n",
        "training_data.shape, testing_data.shape #, tournament_data.shape"
      ],
      "execution_count": null,
      "outputs": [
        {
          "output_type": "execute_result",
          "data": {
            "text/plain": [
              "((401446, 314), (100362, 314))"
            ]
          },
          "metadata": {},
          "execution_count": 5
        }
      ]
    },
    {
      "cell_type": "code",
      "metadata": {
        "id": "ESazJMMzN--g"
      },
      "source": [
        "# find only the feature columns\n",
        "feature_cols = training_data.columns[\n",
        "    training_data.columns.str.startswith('feature')\n",
        "    ].append(pd.Index(['target']))"
      ],
      "execution_count": null,
      "outputs": []
    },
    {
      "cell_type": "code",
      "metadata": {
        "id": "PlwQEKlXJS9v"
      },
      "source": [
        "# convert features data to ds object\n",
        "train_ds = tfdf.keras.pd_dataframe_to_tf_dataset(\n",
        "    training_data[feature_cols], \n",
        "    label=\"target\",\n",
        "    task=tfdf.keras.Task.REGRESSION\n",
        ")\n",
        "\n",
        "test_ds = tfdf.keras.pd_dataframe_to_tf_dataset(\n",
        "    testing_data[feature_cols], \n",
        "    label=\"target\",\n",
        "    task=tfdf.keras.Task.REGRESSION\n",
        ")"
      ],
      "execution_count": null,
      "outputs": []
    },
    {
      "cell_type": "code",
      "metadata": {
        "id": "2AuNXbVmRQDp",
        "colab": {
          "base_uri": "https://localhost:8080/"
        },
        "outputId": "f5f87526-b52e-4a95-b2a5-574196a72e33"
      },
      "source": [
        "# create a TFDF model\n",
        "tfdf.keras.get_all_models()"
      ],
      "execution_count": null,
      "outputs": [
        {
          "output_type": "execute_result",
          "data": {
            "text/plain": [
              "[tensorflow_decision_forests.keras.RandomForestModel,\n",
              " tensorflow_decision_forests.keras.GradientBoostedTreesModel,\n",
              " tensorflow_decision_forests.keras.CartModel]"
            ]
          },
          "metadata": {},
          "execution_count": 8
        }
      ]
    },
    {
      "cell_type": "markdown",
      "metadata": {
        "id": "VUdKdn2VYGbZ"
      },
      "source": [
        "---\n",
        "# Train model"
      ]
    },
    {
      "cell_type": "code",
      "metadata": {
        "id": "qQCT7_EiaDOI"
      },
      "source": [
        "# configure model\n",
        "model = tfdf.keras.CartModel(task=tfdf.keras.Task.REGRESSION)"
      ],
      "execution_count": null,
      "outputs": []
    },
    {
      "cell_type": "code",
      "metadata": {
        "id": "PFl2iVanYIK4",
        "colab": {
          "base_uri": "https://localhost:8080/"
        },
        "outputId": "e59fe6b2-a0c3-4cc6-cc14-b662e2b767e0"
      },
      "source": [
        "# fit model\n",
        "model.fit(x=train_ds)"
      ],
      "execution_count": null,
      "outputs": [
        {
          "output_type": "stream",
          "text": [
            "6273/6273 [==============================] - 74s 11ms/step\n"
          ],
          "name": "stdout"
        },
        {
          "output_type": "execute_result",
          "data": {
            "text/plain": [
              "<tensorflow.python.keras.callbacks.History at 0x7fdc0ed3e9d0>"
            ]
          },
          "metadata": {},
          "execution_count": 13
        }
      ]
    },
    {
      "cell_type": "code",
      "metadata": {
        "id": "DWm5Jqt0YINB",
        "colab": {
          "base_uri": "https://localhost:8080/"
        },
        "outputId": "d398140f-817a-4f5c-f404-c758062fb927"
      },
      "source": [
        "# evaluate the model\n",
        "model.compile(metrics=[\"accuracy\"])\n",
        "print(model.evaluate(test_ds))"
      ],
      "execution_count": null,
      "outputs": [
        {
          "output_type": "stream",
          "text": [
            "1569/1569 [==============================] - 19s 11ms/step - loss: 0.0000e+00 - accuracy: 0.0496\n",
            "[0.0, 0.04961040988564491]\n"
          ],
          "name": "stdout"
        }
      ]
    },
    {
      "cell_type": "code",
      "metadata": {
        "id": "Z8GOT9anvhgk",
        "colab": {
          "base_uri": "https://localhost:8080/"
        },
        "outputId": "f095c087-29d6-4ed5-aa7f-a3b18dabe704"
      },
      "source": [
        "# save model\n",
        "model.save(path + \"tfdf_cart_model\")"
      ],
      "execution_count": null,
      "outputs": [
        {
          "output_type": "stream",
          "text": [
            "INFO:tensorflow:Assets written to: /content/drive/MyDrive/Colab/numerai/tfdf_cart_model/assets\n"
          ],
          "name": "stdout"
        },
        {
          "output_type": "stream",
          "text": [
            "INFO:tensorflow:Assets written to: /content/drive/MyDrive/Colab/numerai/tfdf_cart_model/assets\n"
          ],
          "name": "stderr"
        }
      ]
    },
    {
      "cell_type": "code",
      "metadata": {
        "id": "3aG4jot-vhjF"
      },
      "source": [
        ""
      ],
      "execution_count": null,
      "outputs": []
    }
  ]
}