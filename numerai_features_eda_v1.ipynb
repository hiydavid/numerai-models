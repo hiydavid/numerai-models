{
  "nbformat": 4,
  "nbformat_minor": 0,
  "metadata": {
    "colab": {
      "name": "numerai_features_eda_v1",
      "provenance": [],
      "collapsed_sections": [],
      "include_colab_link": true
    },
    "kernelspec": {
      "name": "python3",
      "display_name": "Python 3"
    }
  },
  "cells": [
    {
      "cell_type": "markdown",
      "metadata": {
        "id": "view-in-github",
        "colab_type": "text"
      },
      "source": [
        "<a href=\"https://colab.research.google.com/github/hiydavid/numerai-models/blob/main/numerai_features_eda_v1.ipynb\" target=\"_parent\"><img src=\"https://colab.research.google.com/assets/colab-badge.svg\" alt=\"Open In Colab\"/></a>"
      ]
    },
    {
      "cell_type": "markdown",
      "metadata": {
        "id": "RUD4ylfaLZA6"
      },
      "source": [
        "# Numerai Feature EDA\n"
      ]
    },
    {
      "cell_type": "markdown",
      "metadata": {
        "id": "dioJyoTnxEm3"
      },
      "source": [
        "---\n",
        "## Load libraries & datasets"
      ]
    },
    {
      "cell_type": "code",
      "metadata": {
        "id": "zDKQ_zqwTBf6"
      },
      "source": [
        "# install numerapi\n",
        "!pip install numerapi halo\n",
        "!wget https://raw.githubusercontent.com/numerai/example-scripts/master/utils.py"
      ],
      "execution_count": null,
      "outputs": []
    },
    {
      "cell_type": "code",
      "metadata": {
        "id": "MaNpcfNkKUg_"
      },
      "source": [
        "# libs\n",
        "import matplotlib\n",
        "import numpy as np\n",
        "import pandas as pd\n",
        "from numerapi import NumerAPI\n",
        "import random\n",
        "import sklearn\n",
        "import lightgbm\n",
        "import matplotlib.pyplot as plt\n",
        "from sklearn import (\n",
        "    feature_extraction, feature_selection, decomposition, linear_model,\n",
        "    model_selection, metrics, svm\n",
        ")\n",
        "from utils import (\n",
        "    save_model, load_model, neutralize, get_biggest_change_features, \n",
        "    validation_metrics\n",
        ")"
      ],
      "execution_count": 12,
      "outputs": []
    },
    {
      "cell_type": "code",
      "source": [
        "# see current round\n",
        "napi = NumerAPI()\n",
        "current_round = napi.get_current_round()\n",
        "print(f\"Current round #: {current_round}\")"
      ],
      "metadata": {
        "colab": {
          "base_uri": "https://localhost:8080/"
        },
        "id": "v8Lokr1l1LWJ",
        "outputId": "f09d1ba2-f6b6-44b9-91d6-67788a56a64e"
      },
      "execution_count": 17,
      "outputs": [
        {
          "output_type": "stream",
          "name": "stdout",
          "text": [
            "Current round #: 309\n"
          ]
        }
      ]
    },
    {
      "cell_type": "code",
      "source": [
        "# download training data\n",
        "napi.download_dataset(\"numerai_training_data.parquet\")"
      ],
      "metadata": {
        "colab": {
          "base_uri": "https://localhost:8080/"
        },
        "id": "9uXlbJBJ1LYV",
        "outputId": "5322a5d7-cd64-4abb-9174-38f25aa41343"
      },
      "execution_count": 18,
      "outputs": [
        {
          "output_type": "stream",
          "name": "stderr",
          "text": [
            "2022-03-31 02:37:54,933 INFO numerapi.utils: starting download\n",
            "numerai_training_data.parquet: 1.01GB [00:24, 41.4MB/s]                            \n"
          ]
        }
      ]
    },
    {
      "cell_type": "code",
      "source": [
        "# read training data\n",
        "df = pd.read_parquet('numerai_training_data.parquet')\n",
        "df.head()"
      ],
      "metadata": {
        "id": "g15V9jsw1Lav"
      },
      "execution_count": null,
      "outputs": []
    },
    {
      "cell_type": "code",
      "source": [
        ""
      ],
      "metadata": {
        "id": "BDXRqv5n1LdT"
      },
      "execution_count": null,
      "outputs": []
    },
    {
      "cell_type": "code",
      "source": [
        ""
      ],
      "metadata": {
        "id": "sxH-kKmC1Lfw"
      },
      "execution_count": null,
      "outputs": []
    },
    {
      "cell_type": "code",
      "source": [
        ""
      ],
      "metadata": {
        "id": "hfr7m9W61LiM"
      },
      "execution_count": null,
      "outputs": []
    },
    {
      "cell_type": "code",
      "source": [
        ""
      ],
      "metadata": {
        "id": "gt5-xFac1Lkn"
      },
      "execution_count": null,
      "outputs": []
    }
  ]
}