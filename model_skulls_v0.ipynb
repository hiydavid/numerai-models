{
 "cells": [
  {
   "cell_type": "markdown",
   "metadata": {
    "id": "RUD4ylfaLZA6"
   },
   "source": [
    "# Model: Skulls v0"
   ]
  },
  {
   "cell_type": "markdown",
   "metadata": {
    "id": "dioJyoTnxEm3"
   },
   "source": [
    "---\n",
    "# Load data & libraries"
   ]
  },
  {
   "cell_type": "code",
   "execution_count": 1,
   "metadata": {},
   "outputs": [],
   "source": [
    "# TOP VERSION\n",
    "MODEL_NAME = \"skulls\"\n",
    "VERSION = 0"
   ]
  },
  {
   "cell_type": "code",
   "execution_count": 2,
   "metadata": {
    "id": "MaNpcfNkKUg_"
   },
   "outputs": [],
   "source": [
    "# import dependencies\n",
    "import pandas as pd\n",
    "from lightgbm import LGBMRegressor\n",
    "import gc\n",
    "import json\n",
    "from pathlib import Path\n",
    "from numerapi import NumerAPI\n",
    "from utils.utils import (\n",
    "    save_model,\n",
    "    load_model,\n",
    "    ERA_COL,\n",
    "    DATA_TYPE_COL,\n",
    "    TARGET_COL,\n",
    ")\n",
    "from utils.api_keys import PUBLIC_ID, SECRET_KEY"
   ]
  },
  {
   "cell_type": "code",
   "execution_count": 3,
   "metadata": {},
   "outputs": [
    {
     "name": "stdout",
     "output_type": "stream",
     "text": [
      "Current round #: 316\n"
     ]
    }
   ],
   "source": [
    "# instantiate numerai api\n",
    "napi = NumerAPI(public_id=PUBLIC_ID, secret_key=SECRET_KEY)\n",
    "current_round = napi.get_current_round()\n",
    "print(f\"Current round #: {current_round}\")"
   ]
  },
  {
   "cell_type": "code",
   "execution_count": 4,
   "metadata": {},
   "outputs": [],
   "source": [
    "# read the feature metadata and get the \"medium\" feature set\n",
    "with open(\"data/top_bottom_features.json\", \"r\") as f:\n",
    "    top_bottom_features = json.load(f)\n",
    "features = top_bottom_features[\"top_features\"] + top_bottom_features[\"bottom_features\"]\n",
    "\n",
    "read_columns = features + [ERA_COL, DATA_TYPE_COL, TARGET_COL]\n",
    "\n",
    "training_data = pd.read_parquet('data/train.parquet', columns=read_columns)\n",
    "validation_data = pd.read_parquet('data/validation.parquet', columns=read_columns)\n",
    "live_data = pd.read_parquet(f'data/live_{current_round}.parquet', columns=read_columns)"
   ]
  },
  {
   "cell_type": "markdown",
   "metadata": {},
   "source": [
    "---\n",
    "# Create model"
   ]
  },
  {
   "cell_type": "code",
   "execution_count": 5,
   "metadata": {},
   "outputs": [
    {
     "data": {
      "text/plain": [
       "'dh_skulls_v0'"
      ]
     },
     "execution_count": 5,
     "metadata": {},
     "output_type": "execute_result"
    }
   ],
   "source": [
    "# model name\n",
    "model_name = f\"dh_{MODEL_NAME}_v{VERSION}\"\n",
    "model_name"
   ]
  },
  {
   "cell_type": "code",
   "execution_count": 6,
   "metadata": {},
   "outputs": [
    {
     "name": "stdout",
     "output_type": "stream",
     "text": [
      "Checking for existing model: dh_skulls_v0...\n"
     ]
    }
   ],
   "source": [
    "# check existing model, if not, train it\n",
    "print(f\"Checking for existing model: {model_name}...\")\n",
    "model = load_model(model_name)\n",
    "\n",
    "if not model:\n",
    "    print(f\"Model not found, creating new one\")\n",
    "    params = {\"n_estimators\": 2000,\n",
    "              \"learning_rate\": 0.01,\n",
    "              \"max_depth\": 5,\n",
    "              \"num_leaves\": 2 ** 5,\n",
    "              \"colsample_bytree\": 0.1,\n",
    "              \"verbosity\": 1}\n",
    "    model = LGBMRegressor(**params)\n",
    "    \n",
    "    print(f\"Training model: {model_name}...\")\n",
    "    model.fit(\n",
    "        training_data.filter(like='feature_', axis='columns'),\n",
    "        training_data[TARGET_COL]\n",
    "    )\n",
    "    \n",
    "    print(f\"Saving new model: {model_name}...\")\n",
    "    save_model(model, model_name)"
   ]
  },
  {
   "cell_type": "code",
   "execution_count": 7,
   "metadata": {},
   "outputs": [
    {
     "data": {
      "text/plain": [
       "0"
      ]
     },
     "execution_count": 7,
     "metadata": {},
     "output_type": "execute_result"
    }
   ],
   "source": [
    "# clear memory of unused data\n",
    "gc.collect()"
   ]
  },
  {
   "cell_type": "markdown",
   "metadata": {},
   "source": [
    "---\n",
    "# Create predictions"
   ]
  },
  {
   "cell_type": "code",
   "execution_count": 8,
   "metadata": {},
   "outputs": [
    {
     "name": "stdout",
     "output_type": "stream",
     "text": [
      "Number of nans per column this week: target_nomi_v4_20    5261\n",
      "dtype: int64\n",
      "out of 5261 total rows\n",
      "filling nans with 0.5\n"
     ]
    }
   ],
   "source": [
    "# check for nans\n",
    "nans_per_col = live_data[live_data[\"data_type\"] == \"live\"].isna().sum()\n",
    "\n",
    "if nans_per_col.any():\n",
    "    total_rows = len(live_data[live_data[\"data_type\"] == \"live\"])\n",
    "    print(f\"Number of nans per column this week: {nans_per_col[nans_per_col > 0]}\")\n",
    "    print(f\"out of {total_rows} total rows\")\n",
    "    print(f\"filling nans with 0.5\")\n",
    "    live_data.loc[:, features] = live_data.loc[:, features].fillna(0.5)\n",
    "else:\n",
    "    print(\"No nans in the features this week!\")"
   ]
  },
  {
   "cell_type": "code",
   "execution_count": 9,
   "metadata": {},
   "outputs": [],
   "source": [
    "# check feature name\n",
    "model_expected_features = model.booster_.feature_name()\n",
    "\n",
    "validation_data.loc[:, f\"preds_{model_name}\"] = model.predict(validation_data.loc[:, model_expected_features])\n",
    "live_data.loc[:, f\"preds_{model_name}\"] = model.predict(live_data.loc[:, model_expected_features])"
   ]
  },
  {
   "cell_type": "code",
   "execution_count": 10,
   "metadata": {},
   "outputs": [
    {
     "data": {
      "text/plain": [
       "24"
      ]
     },
     "execution_count": 10,
     "metadata": {},
     "output_type": "execute_result"
    }
   ],
   "source": [
    "# clear memory of unused data\n",
    "gc.collect()"
   ]
  },
  {
   "cell_type": "markdown",
   "metadata": {},
   "source": [
    "---\n",
    "# Save predictions"
   ]
  },
  {
   "cell_type": "code",
   "execution_count": 11,
   "metadata": {},
   "outputs": [],
   "source": [
    "# rename best model to \"prediction\" and rank from 0 to 1 to meet upload requirements\n",
    "model_to_submit = f\"preds_{model_name}\"\n",
    "\n",
    "validation_data[\"prediction\"] = validation_data[model_to_submit].rank(pct=True)\n",
    "live_data[\"prediction\"] = live_data[model_to_submit].rank(pct=True)\n",
    "validation_data[\"prediction\"].to_csv(f\"predictions/{model_name}_val_preds.csv\")\n",
    "live_data[\"prediction\"].to_csv(f\"predictions/{model_name}_live_preds_{current_round}.csv\")"
   ]
  },
  {
   "cell_type": "code",
   "execution_count": null,
   "metadata": {},
   "outputs": [],
   "source": []
  }
 ],
 "metadata": {
  "colab": {
   "collapsed_sections": [],
   "include_colab_link": true,
   "machine_shape": "hm",
   "name": "numerai_base_model_v1",
   "provenance": []
  },
  "interpreter": {
   "hash": "5c5f7d1ae3c4e88ffe23bdf647d4863bdc6a01d2e85d0e9d3f1973ef30f5d50e"
  },
  "kernelspec": {
   "display_name": "projenv",
   "language": "python",
   "name": "projenv"
  },
  "language_info": {
   "codemirror_mode": {
    "name": "ipython",
    "version": 3
   },
   "file_extension": ".py",
   "mimetype": "text/x-python",
   "name": "python",
   "nbconvert_exporter": "python",
   "pygments_lexer": "ipython3",
   "version": "3.10.2"
  }
 },
 "nbformat": 4,
 "nbformat_minor": 4
}
