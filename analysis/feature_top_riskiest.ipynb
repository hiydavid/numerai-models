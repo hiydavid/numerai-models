{
 "cells": [
  {
   "cell_type": "markdown",
   "metadata": {},
   "source": [
    "# Riskiest Features"
   ]
  },
  {
   "cell_type": "markdown",
   "metadata": {},
   "source": [
    "---\n",
    "## Load libraries & training data"
   ]
  },
  {
   "cell_type": "code",
   "execution_count": 4,
   "metadata": {},
   "outputs": [],
   "source": [
    "# change working directory\n",
    "import os\n",
    "# os.chdir('/home/ubuntu/Projects/numerai-models') # for lambda cloud\n",
    "os.chdir('/Users/davidhuang/Documents/GitHub/numerai-models') # for local"
   ]
  },
  {
   "cell_type": "code",
   "execution_count": 5,
   "metadata": {},
   "outputs": [],
   "source": [
    "# libs\n",
    "import numpy as np\n",
    "import pandas as pd\n",
    "import matplotlib.pyplot as plt\n",
    "import json\n",
    "from utils.utils import (\n",
    "    get_biggest_change_features, \n",
    "    neutralize,\n",
    "    TARGET_COL,\n",
    "    ERA_COL\n",
    ")\n",
    "import gc"
   ]
  },
  {
   "cell_type": "markdown",
   "metadata": {},
   "source": [
    "---\n",
    "## Get riskiest features"
   ]
  },
  {
   "cell_type": "code",
   "execution_count": 4,
   "metadata": {},
   "outputs": [],
   "source": [
    "# get all training data\n",
    "training = pd.read_parquet('data/train.parquet').dropna()"
   ]
  },
  {
   "cell_type": "code",
   "execution_count": 6,
   "metadata": {},
   "outputs": [],
   "source": [
    "# get feature names\n",
    "with open(\"data/features.json\", \"r\") as f:\n",
    "    feature_metadata = json.load(f)\n",
    "\n",
    "medium_features = feature_metadata[\"feature_sets\"][\"medium\"]\n",
    "medium_features_columns = medium_features + [TARGET_COL, ERA_COL]\n",
    "\n",
    "small_features = feature_metadata[\"feature_sets\"][\"small\"]\n",
    "small_features_columns = small_features + [TARGET_COL, ERA_COL]\n",
    "\n",
    "all = list(feature_metadata[\"feature_stats\"].keys())\n",
    "other_features = [x for x in all if x not in small_features and x not in medium_features]\n",
    "other_features_columns = other_features + [TARGET_COL, ERA_COL]"
   ]
  },
  {
   "cell_type": "code",
   "execution_count": 7,
   "metadata": {},
   "outputs": [],
   "source": [
    "# get 50 riskiest medium features\n",
    "medium_feature_corrs = training[medium_features_columns].groupby(ERA_COL).apply(\n",
    "    lambda era: era[medium_features].corrwith(era[TARGET_COL])\n",
    ")\n",
    "\n",
    "medium_features_riskiest_50 = get_biggest_change_features(medium_feature_corrs, 50)"
   ]
  },
  {
   "cell_type": "code",
   "execution_count": 11,
   "metadata": {},
   "outputs": [],
   "source": [
    "# get 5 riskiest small features\n",
    "small_features_corrs = training[small_features_columns].groupby(ERA_COL).apply(\n",
    "    lambda era: era[small_features].corrwith(era[TARGET_COL])\n",
    ")\n",
    "\n",
    "small_features_riskiest_5 = get_biggest_change_features(small_features_corrs, 5)"
   ]
  },
  {
   "cell_type": "code",
   "execution_count": 12,
   "metadata": {},
   "outputs": [],
   "source": [
    "# get 60 riskiest other features\n",
    "other_feature_corrs = training[other_features_columns].groupby(ERA_COL).apply(\n",
    "    lambda era: era[other_features].corrwith(era[TARGET_COL])\n",
    ")\n",
    "\n",
    "other_features_riskiest_60 = get_biggest_change_features(other_feature_corrs, 60)"
   ]
  },
  {
   "cell_type": "code",
   "execution_count": 16,
   "metadata": {},
   "outputs": [
    {
     "name": "stdout",
     "output_type": "stream",
     "text": [
      "50\n",
      "5\n",
      "60\n"
     ]
    }
   ],
   "source": [
    "# show lengthds of feature lists\n",
    "print(len(medium_features_riskiest_50))\n",
    "print(len(small_features_riskiest_5))\n",
    "print(len(other_features_riskiest_60))"
   ]
  },
  {
   "cell_type": "markdown",
   "metadata": {},
   "source": [
    "---\n",
    "## Save feature lists as new dictionary"
   ]
  },
  {
   "cell_type": "code",
   "execution_count": 17,
   "metadata": {},
   "outputs": [],
   "source": [
    "# save as features\n",
    "riskiest_features = {\n",
    "    \"riskiest_50_medium_features\" : medium_features_riskiest_50,\n",
    "    \"riskiest_5_small_features\" : small_features_riskiest_5,\n",
    "    \"riskiest_60_other_features\" : other_features_riskiest_60,\n",
    "}"
   ]
  },
  {
   "cell_type": "code",
   "execution_count": 18,
   "metadata": {},
   "outputs": [],
   "source": [
    "# save files\n",
    "with open(\"data/riskiest_features.json\", \"w\") as outfile:\n",
    "    json.dump(riskiest_features, outfile, indent = 4)"
   ]
  },
  {
   "cell_type": "code",
   "execution_count": null,
   "metadata": {},
   "outputs": [],
   "source": []
  }
 ],
 "metadata": {
  "kernelspec": {
   "display_name": "Python 3.10.2 ('projenv')",
   "language": "python",
   "name": "python3"
  },
  "language_info": {
   "codemirror_mode": {
    "name": "ipython",
    "version": 3
   },
   "file_extension": ".py",
   "mimetype": "text/x-python",
   "name": "python",
   "nbconvert_exporter": "python",
   "pygments_lexer": "ipython3",
   "version": "3.10.2"
  },
  "orig_nbformat": 4,
  "vscode": {
   "interpreter": {
    "hash": "0126e27fe55ec969de126c2cfdac2c99da69ebfdfbbeb83738b0925389a2d696"
   }
  }
 },
 "nbformat": 4,
 "nbformat_minor": 2
}
