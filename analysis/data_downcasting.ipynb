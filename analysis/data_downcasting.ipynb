{
 "cells": [
  {
   "cell_type": "markdown",
   "metadata": {},
   "source": [
    "# Data Downcasting"
   ]
  },
  {
   "cell_type": "code",
   "execution_count": 2,
   "metadata": {},
   "outputs": [],
   "source": [
    "# change working directory\n",
    "import os\n",
    "os.chdir('/Users/davidhuang/Documents/GitHub/numerai-models')"
   ]
  },
  {
   "cell_type": "code",
   "execution_count": 3,
   "metadata": {},
   "outputs": [],
   "source": [
    "# libs\n",
    "import numpy as np\n",
    "import pandas as pd\n",
    "import matplotlib.pyplot as plt"
   ]
  },
  {
   "cell_type": "code",
   "execution_count": 4,
   "metadata": {},
   "outputs": [
    {
     "name": "stdout",
     "output_type": "stream",
     "text": [
      "<class 'pandas.core.frame.DataFrame'>\n",
      "Index: 100000 entries, n003bba8a98662e4 to nc6234358c8c7690\n",
      "Columns: 1214 entries, era to target_thomas_v4_60\n",
      "dtypes: float32(1212), object(2)\n",
      "memory usage: 464.6+ MB\n"
     ]
    }
   ],
   "source": [
    "# read training data\n",
    "training = pd.read_parquet('data/train.parquet')\n",
    "training = training.head(100_000)\n",
    "training.info()"
   ]
  },
  {
   "cell_type": "code",
   "execution_count": 5,
   "metadata": {},
   "outputs": [],
   "source": [
    "# get cols that are float32\n",
    "cols = [col for col in training.columns if col not in [\"era\", \"data_type\"]]"
   ]
  },
  {
   "cell_type": "code",
   "execution_count": 6,
   "metadata": {},
   "outputs": [],
   "source": [
    "# downcast\n",
    "training[cols]  = training[cols].astype(\"float16\")"
   ]
  },
  {
   "cell_type": "code",
   "execution_count": 7,
   "metadata": {},
   "outputs": [
    {
     "name": "stdout",
     "output_type": "stream",
     "text": [
      "<class 'pandas.core.frame.DataFrame'>\n",
      "Index: 100000 entries, n003bba8a98662e4 to nc6234358c8c7690\n",
      "Columns: 1214 entries, era to target_thomas_v4_60\n",
      "dtypes: float16(1212), object(2)\n",
      "memory usage: 233.5+ MB\n"
     ]
    }
   ],
   "source": [
    "# check size\n",
    "training.info()"
   ]
  },
  {
   "cell_type": "code",
   "execution_count": null,
   "metadata": {},
   "outputs": [],
   "source": []
  }
 ],
 "metadata": {
  "kernelspec": {
   "display_name": "Python 3.8.12 ('tfenv')",
   "language": "python",
   "name": "python3"
  },
  "language_info": {
   "codemirror_mode": {
    "name": "ipython",
    "version": 3
   },
   "file_extension": ".py",
   "mimetype": "text/x-python",
   "name": "python",
   "nbconvert_exporter": "python",
   "pygments_lexer": "ipython3",
   "version": "3.8.12"
  },
  "orig_nbformat": 4,
  "vscode": {
   "interpreter": {
    "hash": "5c5f7d1ae3c4e88ffe23bdf647d4863bdc6a01d2e85d0e9d3f1973ef30f5d50e"
   }
  }
 },
 "nbformat": 4,
 "nbformat_minor": 2
}
