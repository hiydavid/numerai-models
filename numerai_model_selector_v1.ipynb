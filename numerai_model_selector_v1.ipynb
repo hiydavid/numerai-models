{
  "nbformat": 4,
  "nbformat_minor": 0,
  "metadata": {
    "colab": {
      "name": "numerai_model_selector_v1",
      "provenance": [],
      "collapsed_sections": [],
      "machine_shape": "hm",
      "include_colab_link": true
    },
    "kernelspec": {
      "name": "python3",
      "display_name": "Python 3"
    },
    "accelerator": "GPU"
  },
  "cells": [
    {
      "cell_type": "markdown",
      "metadata": {
        "id": "view-in-github",
        "colab_type": "text"
      },
      "source": [
        "<a href=\"https://colab.research.google.com/github/hiydavid/numerai-models/blob/main/numerai_model_selector_v1.ipynb\" target=\"_parent\"><img src=\"https://colab.research.google.com/assets/colab-badge.svg\" alt=\"Open In Colab\"/></a>"
      ]
    },
    {
      "cell_type": "markdown",
      "metadata": {
        "id": "RUD4ylfaLZA6"
      },
      "source": [
        "# Numerai Model Selection * WIP *\n",
        "---\n",
        "\n",
        "Selec Pickled Model\n",
        "* SKLearn OLS base model\n",
        "* SKLearn Random Forest model\n",
        "* Tensorflow Decision Forest model\n"
      ]
    },
    {
      "cell_type": "markdown",
      "metadata": {
        "id": "dioJyoTnxEm3"
      },
      "source": [
        "---\n",
        "# Load data & libraries"
      ]
    },
    {
      "cell_type": "code",
      "metadata": {
        "colab": {
          "base_uri": "https://localhost:8080/"
        },
        "id": "idt4VM7bZoW8",
        "outputId": "4b075ce4-eee8-47ff-aa93-8f036c795014"
      },
      "source": [
        "# set drive location\n",
        "from google.colab import drive\n",
        "drive.mount('/content/drive/', force_remount = True)\n",
        "path = '/content/drive/MyDrive/Colab/numerai/saved_models/'"
      ],
      "execution_count": 1,
      "outputs": [
        {
          "output_type": "stream",
          "name": "stdout",
          "text": [
            "Mounted at /content/drive/\n"
          ]
        }
      ]
    },
    {
      "cell_type": "code",
      "metadata": {
        "id": "zDKQ_zqwTBf6"
      },
      "source": [
        "# install dependencies\n",
        "!pip install -Uqq numerapi==2.4.5 # tensorflow==2.5.1 tensorflow_decision_forests"
      ],
      "execution_count": 2,
      "outputs": []
    },
    {
      "cell_type": "code",
      "metadata": {
        "id": "MaNpcfNkKUg_"
      },
      "source": [
        "# import dependencies\n",
        "import pandas as pd\n",
        "import numerapi\n",
        "import sklearn.linear_model\n",
        "from sklearn.model_selection import train_test_split\n",
        "from sklearn.metrics import r2_score\n",
        "import pickle"
      ],
      "execution_count": 4,
      "outputs": []
    },
    {
      "cell_type": "code",
      "metadata": {
        "id": "6GkhBurt73Fi"
      },
      "source": [
        "# download the latest tournament dataset (takes around 30s)\n",
        "tournament_data_url = \"https://numerai-public-datasets.s3-us-west-2.amazonaws.com/latest_numerai_tournament_data.csv.xz\"\n",
        "tournament_data = pd.read_csv(tournament_data_url)"
      ],
      "execution_count": 5,
      "outputs": []
    },
    {
      "cell_type": "code",
      "metadata": {
        "id": "hh7QQhq7atsr"
      },
      "source": [
        "# find only the feature columns\n",
        "feature_cols = tournament_data.columns[tournament_data.columns.str.startswith('feature')]"
      ],
      "execution_count": 11,
      "outputs": []
    },
    {
      "cell_type": "code",
      "metadata": {
        "id": "X2XZCUXPa2Sl"
      },
      "source": [
        "# select those columns out of the training dataset\n",
        "live_features = tournament_data[feature_cols]"
      ],
      "execution_count": 15,
      "outputs": []
    },
    {
      "cell_type": "markdown",
      "metadata": {
        "id": "c3Fcz-PpHYez"
      },
      "source": [
        "--- \n",
        "# Convert dataframes to  (TFDF only)"
      ]
    },
    {
      "cell_type": "code",
      "metadata": {
        "id": "ESazJMMzN--g"
      },
      "source": [
        "# # find only the feature columns\n",
        "# feature_cols = tournament_data.columns[\n",
        "#     tournament_data.columns.str.startswith('feature')\n",
        "#     ].append(pd.Index(['target']))"
      ],
      "execution_count": 13,
      "outputs": []
    },
    {
      "cell_type": "code",
      "metadata": {
        "id": "PlwQEKlXJS9v"
      },
      "source": [
        "# # convert features data to ds object\n",
        "# live_ds = tfdf.keras.pd_dataframe_to_tf_dataset(\n",
        "#     tournament_data[feature_cols], \n",
        "#     label=\"target\",\n",
        "#     task=tfdf.keras.Task.REGRESSION\n",
        "# )"
      ],
      "execution_count": 14,
      "outputs": []
    },
    {
      "cell_type": "markdown",
      "metadata": {
        "id": "jfuteBSEr0q9"
      },
      "source": [
        "---\n",
        "# Load model performances"
      ]
    },
    {
      "cell_type": "code",
      "metadata": {
        "id": "3aG4jot-vhjF"
      },
      "source": [
        ""
      ],
      "execution_count": null,
      "outputs": []
    },
    {
      "cell_type": "code",
      "metadata": {
        "id": "I0-08KLz7j1P"
      },
      "source": [
        ""
      ],
      "execution_count": null,
      "outputs": []
    },
    {
      "cell_type": "code",
      "metadata": {
        "id": "BAJ174zUvhmV"
      },
      "source": [
        ""
      ],
      "execution_count": null,
      "outputs": []
    },
    {
      "cell_type": "markdown",
      "metadata": {
        "id": "IDtYL7yvr7N5"
      },
      "source": [
        "---\n",
        "# Load model based on best performance"
      ]
    },
    {
      "cell_type": "code",
      "metadata": {
        "id": "25UOV4aoaFBd"
      },
      "source": [
        "# load base model\n",
        "with open(path + \"sklearn_base_model.pkl\", 'rb') as file:\n",
        "    model = pickle.load(file)"
      ],
      "execution_count": 8,
      "outputs": []
    },
    {
      "cell_type": "code",
      "metadata": {
        "id": "rxzW-IMjr7iD"
      },
      "source": [
        ""
      ],
      "execution_count": null,
      "outputs": []
    },
    {
      "cell_type": "code",
      "metadata": {
        "id": "8ySJzmAmr7kh"
      },
      "source": [
        ""
      ],
      "execution_count": null,
      "outputs": []
    },
    {
      "cell_type": "code",
      "metadata": {
        "id": "mkIK8XKqr7nG"
      },
      "source": [
        ""
      ],
      "execution_count": null,
      "outputs": []
    },
    {
      "cell_type": "markdown",
      "metadata": {
        "id": "Uxx5pLIGIUvN"
      },
      "source": [
        "---\n",
        "# Predict"
      ]
    },
    {
      "cell_type": "code",
      "metadata": {
        "id": "t4CoaCgbKcSN"
      },
      "source": [
        "# predict the target on the live features\n",
        "predictions = model.predict(live_features)"
      ],
      "execution_count": 16,
      "outputs": []
    },
    {
      "cell_type": "code",
      "metadata": {
        "id": "4L4BFeAzTTDe",
        "colab": {
          "base_uri": "https://localhost:8080/",
          "height": 204
        },
        "outputId": "0e2dc313-fe1f-4a8c-f242-8128927704e6"
      },
      "source": [
        "# predictions must have an `id` column and a `prediction_kazutsugi` column\n",
        "predictions_df = tournament_data[\"id\"].to_frame()\n",
        "predictions_df[\"prediction_kazutsugi\"] = predictions\n",
        "predictions_df.head()"
      ],
      "execution_count": 18,
      "outputs": [
        {
          "output_type": "execute_result",
          "data": {
            "text/html": [
              "<div>\n",
              "<style scoped>\n",
              "    .dataframe tbody tr th:only-of-type {\n",
              "        vertical-align: middle;\n",
              "    }\n",
              "\n",
              "    .dataframe tbody tr th {\n",
              "        vertical-align: top;\n",
              "    }\n",
              "\n",
              "    .dataframe thead th {\n",
              "        text-align: right;\n",
              "    }\n",
              "</style>\n",
              "<table border=\"1\" class=\"dataframe\">\n",
              "  <thead>\n",
              "    <tr style=\"text-align: right;\">\n",
              "      <th></th>\n",
              "      <th>id</th>\n",
              "      <th>prediction_kazutsugi</th>\n",
              "    </tr>\n",
              "  </thead>\n",
              "  <tbody>\n",
              "    <tr>\n",
              "      <th>0</th>\n",
              "      <td>n0003aa52cab36c2</td>\n",
              "      <td>0.483436</td>\n",
              "    </tr>\n",
              "    <tr>\n",
              "      <th>1</th>\n",
              "      <td>n000920ed083903f</td>\n",
              "      <td>0.494795</td>\n",
              "    </tr>\n",
              "    <tr>\n",
              "      <th>2</th>\n",
              "      <td>n0038e640522c4a6</td>\n",
              "      <td>0.528103</td>\n",
              "    </tr>\n",
              "    <tr>\n",
              "      <th>3</th>\n",
              "      <td>n004ac94a87dc54b</td>\n",
              "      <td>0.495697</td>\n",
              "    </tr>\n",
              "    <tr>\n",
              "      <th>4</th>\n",
              "      <td>n0052fe97ea0c05f</td>\n",
              "      <td>0.504610</td>\n",
              "    </tr>\n",
              "  </tbody>\n",
              "</table>\n",
              "</div>"
            ],
            "text/plain": [
              "                 id  prediction_kazutsugi\n",
              "0  n0003aa52cab36c2              0.483436\n",
              "1  n000920ed083903f              0.494795\n",
              "2  n0038e640522c4a6              0.528103\n",
              "3  n004ac94a87dc54b              0.495697\n",
              "4  n0052fe97ea0c05f              0.504610"
            ]
          },
          "metadata": {},
          "execution_count": 18
        }
      ]
    },
    {
      "cell_type": "markdown",
      "metadata": {
        "id": "AQ0sgtPiLDys"
      },
      "source": [
        "--- \n",
        "# Submit"
      ]
    },
    {
      "cell_type": "code",
      "metadata": {
        "id": "rEfqpxcEWDdK"
      },
      "source": [
        "# Get your API keys and model_id from https://numer.ai/submit\n",
        "public_id = \"WPZQRGGZADFULXQ3RRMR6OJQWALLSQTM\"\n",
        "secret_key = \"T5ZJLYRT4652F244OLVRTITXH5W4TJRQ553RLJZLQTX7EPRU647WU33ITZPHP3FU\"\n",
        "model_id = \"4d9bcd2c-69cb-4e17-a3f3-a4b2530cbcb8\"\n",
        "napi = numerapi.NumerAPI(public_id=public_id, secret_key=secret_key)"
      ],
      "execution_count": null,
      "outputs": []
    },
    {
      "cell_type": "code",
      "metadata": {
        "id": "WeAIJHaoW3VU",
        "colab": {
          "base_uri": "https://localhost:8080/"
        },
        "outputId": "daa67faa-dde1-4e99-817f-d53fec599ec1"
      },
      "source": [
        "# Upload your predictions\n",
        "predictions_df.to_csv(\"predictions.csv\", index=False)\n",
        "submission_id = napi.upload_predictions(\"predictions.csv\", model_id=model_id)"
      ],
      "execution_count": null,
      "outputs": [
        {
          "output_type": "stream",
          "text": [
            "2021-08-29 05:19:29,781 INFO numerapi.base_api: uploading predictions...\n"
          ],
          "name": "stderr"
        }
      ]
    }
  ]
}