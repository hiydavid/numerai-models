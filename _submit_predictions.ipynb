{
 "cells": [
  {
   "cell_type": "markdown",
   "metadata": {},
   "source": [
    "# Prediction Submissions"
   ]
  },
  {
   "cell_type": "code",
   "execution_count": 1,
   "metadata": {},
   "outputs": [],
   "source": [
    "# load libraries\n",
    "import gc\n",
    "from numerapi import NumerAPI\n",
    "import json\n",
    "from utils.inference import RunModel\n",
    "from utils.models import GaiaModel"
   ]
  },
  {
   "cell_type": "code",
   "execution_count": 2,
   "metadata": {},
   "outputs": [],
   "source": [
    "# get os variables\n",
    "import os\n",
    "from dotenv import load_dotenv \n",
    "\n",
    "load_dotenv()\n",
    "PUBLIC_ID = os.getenv('PUBLIC_ID')\n",
    "SECRET_KEY = os.getenv('SECRET_KEY')"
   ]
  },
  {
   "cell_type": "code",
   "execution_count": 3,
   "metadata": {},
   "outputs": [
    {
     "name": "stdout",
     "output_type": "stream",
     "text": [
      "Current round #: 348\n"
     ]
    }
   ],
   "source": [
    "# instantiate api & check for round\n",
    "napi = NumerAPI(public_id=PUBLIC_ID, secret_key=SECRET_KEY)\n",
    "current_round = napi.get_current_round()\n",
    "print(f\"Current round #: {current_round}\")"
   ]
  },
  {
   "cell_type": "markdown",
   "metadata": {},
   "source": [
    "# Run Models"
   ]
  },
  {
   "cell_type": "code",
   "execution_count": 4,
   "metadata": {},
   "outputs": [],
   "source": [
    "# init class\n",
    "nmr = RunModel(roundn=current_round, mode=\"live\")\n",
    "nmr.get_data()"
   ]
  },
  {
   "cell_type": "code",
   "execution_count": null,
   "metadata": {},
   "outputs": [],
   "source": [
    "# run production models\n",
    "nmr.run_foxhound()\n",
    "nmr.run_deadcell()\n",
    "nmr.run_cobra()\n",
    "nmr.run_beautybeast()\n",
    "nmr.run_skulls()\n",
    "nmr.run_gaia()\n",
    "nmr.run_terra()\n",
    "nmr.run_spira()\n",
    "\n",
    "gc.collect()"
   ]
  },
  {
   "cell_type": "code",
   "execution_count": 5,
   "metadata": {},
   "outputs": [
    {
     "name": "stdout",
     "output_type": "stream",
     "text": [
      "\n",
      "Running dh_dojo for live round # 348...\n",
      "...model run complete!\n"
     ]
    },
    {
     "data": {
      "text/plain": [
       "0"
      ]
     },
     "execution_count": 5,
     "metadata": {},
     "output_type": "execute_result"
    }
   ],
   "source": [
    "# run test (dojo) model\n",
    "nmr.run_dojo()\n",
    "\n",
    "gc.collect()"
   ]
  },
  {
   "cell_type": "markdown",
   "metadata": {},
   "source": [
    "# Submit predictions"
   ]
  },
  {
   "cell_type": "code",
   "execution_count": 6,
   "metadata": {},
   "outputs": [
    {
     "data": {
      "text/plain": [
       "{'dh_foxhound': '4d9bcd2c-69cb-4e17-a3f3-a4b2530cbcb8',\n",
       " 'dh_deadcell': 'df8e47ff-b123-42a1-8145-a55b19be6a99',\n",
       " 'dh_cobra': 'fe228762-f88a-4d09-9478-d02ae849a58a',\n",
       " 'dh_beautybeast': '48c649b4-068b-483f-b370-770d55247b8d',\n",
       " 'dh_skulls': '1296c746-5f1d-44af-a197-7f21e933dac9',\n",
       " 'dh_gaia': '23d7378d-a7b4-425b-b67e-77b4bc3d4ccd',\n",
       " 'dh_terra': '50c76ce7-3e69-47ec-85e4-6dbc6c42969c',\n",
       " 'dh_spira': '5383643d-e20d-4154-87fd-eaa79587e53f',\n",
       " 'dh_dojo': '547bed40-6905-4f13-945d-de77d99e0487'}"
      ]
     },
     "execution_count": 6,
     "metadata": {},
     "output_type": "execute_result"
    }
   ],
   "source": [
    "# read model name json file\n",
    "with open(\"data/model_names.json\", \"r\") as f:\n",
    "    model_names = json.load(f)\n",
    "\n",
    "model_names"
   ]
  },
  {
   "cell_type": "code",
   "execution_count": null,
   "metadata": {},
   "outputs": [],
   "source": [
    "# # submit live predictions for current round\n",
    "# for item in model_names.items():\n",
    "#     print(f\"Submitting live predictions for {item[0]}...\")\n",
    "#     napi.upload_predictions(\n",
    "#         file_path=f\"predictions/{item[0]}_live_preds_{current_round}.csv\",\n",
    "#         model_id=item[1]\n",
    "#     )"
   ]
  },
  {
   "cell_type": "code",
   "execution_count": null,
   "metadata": {},
   "outputs": [],
   "source": []
  }
 ],
 "metadata": {
  "kernelspec": {
   "display_name": "Python 3.10.2 ('projenv')",
   "language": "python",
   "name": "python3"
  },
  "language_info": {
   "codemirror_mode": {
    "name": "ipython",
    "version": 3
   },
   "file_extension": ".py",
   "mimetype": "text/x-python",
   "name": "python",
   "nbconvert_exporter": "python",
   "pygments_lexer": "ipython3",
   "version": "3.10.2"
  },
  "orig_nbformat": 4,
  "vscode": {
   "interpreter": {
    "hash": "0126e27fe55ec969de126c2cfdac2c99da69ebfdfbbeb83738b0925389a2d696"
   }
  }
 },
 "nbformat": 4,
 "nbformat_minor": 2
}
