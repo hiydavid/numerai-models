{
 "cells": [
  {
   "cell_type": "markdown",
   "metadata": {},
   "source": [
    "# Prediction Submissions"
   ]
  },
  {
   "cell_type": "code",
   "execution_count": 2,
   "metadata": {},
   "outputs": [],
   "source": [
    "# load libraries\n",
    "from numerapi import NumerAPI\n",
    "import json\n",
    "from utils.api_keys import PUBLIC_ID, SECRET_KEY\n",
    "from utils.run_model import RunModel"
   ]
  },
  {
   "cell_type": "code",
   "execution_count": 2,
   "metadata": {},
   "outputs": [
    {
     "name": "stdout",
     "output_type": "stream",
     "text": [
      "Current round #: 318\n"
     ]
    }
   ],
   "source": [
    "# instantiate api & check for round\n",
    "napi = NumerAPI(public_id=PUBLIC_ID, secret_key=SECRET_KEY)\n",
    "current_round = napi.get_current_round()\n",
    "print(f\"Current round #: {current_round}\")"
   ]
  },
  {
   "cell_type": "markdown",
   "metadata": {},
   "source": [
    "---\n",
    "# Run Models"
   ]
  },
  {
   "cell_type": "code",
   "execution_count": 3,
   "metadata": {},
   "outputs": [],
   "source": [
    "# init class\n",
    "nmr = RunModel(current_round=current_round)"
   ]
  },
  {
   "cell_type": "code",
   "execution_count": 4,
   "metadata": {},
   "outputs": [
    {
     "name": "stdout",
     "output_type": "stream",
     "text": [
      "\n",
      "Running dh_foxhound_v0 for live round # 318...\n",
      ">>> Importing data ...\n",
      ">>> Preprocessing data ...\n",
      ">>> Loading pre-trained model ...\n",
      ">>> Creating live predictions ...\n",
      ">>> Neutralizing features ...\n",
      ">>> Saving live predictions ...\n",
      ">>> Model dh_foxhound_v0 run complete for live round # 318!\n"
     ]
    }
   ],
   "source": [
    "# run foxhound\n",
    "nmr.run_foxhound()"
   ]
  },
  {
   "cell_type": "code",
   "execution_count": 5,
   "metadata": {},
   "outputs": [
    {
     "name": "stdout",
     "output_type": "stream",
     "text": [
      "\n",
      "Running dh_deadcell_v0 for live round # 318...\n",
      ">>> Importing data ...\n",
      ">>> Preprocessing data ...\n",
      ">>> Loading pre-trained model ...\n",
      ">>> Creating live predictions ...\n",
      ">>> Neutralizing features ...\n",
      ">>> Saving live predictions ...\n",
      ">>> Model dh_deadcell_v0 run complete for live round # 318!\n"
     ]
    }
   ],
   "source": [
    "# run deadcell\n",
    "nmr.run_deadcell()"
   ]
  },
  {
   "cell_type": "code",
   "execution_count": 6,
   "metadata": {},
   "outputs": [
    {
     "name": "stdout",
     "output_type": "stream",
     "text": [
      "\n",
      "Running dh_cobra_v0 for live round # 318...\n",
      ">>> Importing data ...\n",
      ">>> Preprocessing data ...\n",
      ">>> Loading pre-trained model ...\n",
      ">>> Creating live predictions ...\n",
      ">>> Neutralizing features ...\n",
      ">>> Saving live predictions ...\n",
      ">>> Model dh_cobra_v0 run complete for live round # 318!\n"
     ]
    }
   ],
   "source": [
    "# run cobra\n",
    "nmr.run_cobra()"
   ]
  },
  {
   "cell_type": "code",
   "execution_count": 7,
   "metadata": {},
   "outputs": [
    {
     "name": "stdout",
     "output_type": "stream",
     "text": [
      "\n",
      "Running dh_beautybeast_v0 for live round # 318...\n",
      ">>> Importing data ...\n",
      ">>> Preprocessing data ...\n",
      ">>> Loading pre-trained model ...\n",
      ">>> Creating live predictions ...\n",
      ">>> Saving live predictions ...\n",
      ">>> Model dh_beautybeast_v0 run complete for live round # 318!\n"
     ]
    }
   ],
   "source": [
    "# run beautybeast\n",
    "nmr.run_beautybeast()"
   ]
  },
  {
   "cell_type": "code",
   "execution_count": 8,
   "metadata": {},
   "outputs": [
    {
     "name": "stdout",
     "output_type": "stream",
     "text": [
      "\n",
      "Running dh_skulls_v0 for live round # 318...\n",
      ">>> Importing data ...\n",
      ">>> Preprocessing data ...\n",
      ">>> Loading pre-trained model ...\n",
      ">>> Creating live predictions ...\n",
      ">>> Saving live predictions ...\n",
      ">>> Model dh_skulls_v0 run complete for live round # 318!\n"
     ]
    }
   ],
   "source": [
    "# run skulls\n",
    "nmr.run_skulls()"
   ]
  },
  {
   "cell_type": "code",
   "execution_count": 9,
   "metadata": {},
   "outputs": [
    {
     "name": "stdout",
     "output_type": "stream",
     "text": [
      "\n",
      "Running dh_desperado_v0 for live round # 318...\n",
      ">>> Importing data ...\n",
      ">>> Preprocessing data ...\n",
      ">>> Creating live predictions ...\n",
      ">>> Saving live predictions ...\n",
      ">>> Model dh_desperado_v0 run complete for live round # 318!\n"
     ]
    }
   ],
   "source": [
    "# run desperado\n",
    "nmr.run_desperado()"
   ]
  },
  {
   "cell_type": "code",
   "execution_count": null,
   "metadata": {},
   "outputs": [],
   "source": [
    "# run gaia\n",
    "nmr.run_gaia()"
   ]
  },
  {
   "cell_type": "code",
   "execution_count": null,
   "metadata": {},
   "outputs": [],
   "source": [
    "# run terra\n",
    "nmr.run_terra()"
   ]
  },
  {
   "cell_type": "markdown",
   "metadata": {},
   "source": [
    "---\n",
    "# Submit predictions"
   ]
  },
  {
   "cell_type": "code",
   "execution_count": 3,
   "metadata": {},
   "outputs": [
    {
     "data": {
      "text/plain": [
       "{'dh_foxhound': '4d9bcd2c-69cb-4e17-a3f3-a4b2530cbcb8',\n",
       " 'dh_deadcell': 'df8e47ff-b123-42a1-8145-a55b19be6a99',\n",
       " 'dh_cobra': 'fe228762-f88a-4d09-9478-d02ae849a58a',\n",
       " 'dh_beautybeast': '48c649b4-068b-483f-b370-770d55247b8d',\n",
       " 'dh_skulls': '1296c746-5f1d-44af-a197-7f21e933dac9',\n",
       " 'dh_desperado': '547bed40-6905-4f13-945d-de77d99e0487'}"
      ]
     },
     "execution_count": 3,
     "metadata": {},
     "output_type": "execute_result"
    }
   ],
   "source": [
    "# read model name json file\n",
    "with open(\"data/model_names.json\", \"r\") as f:\n",
    "    model_names = json.load(f)\n",
    "\n",
    "model_names"
   ]
  },
  {
   "cell_type": "code",
   "execution_count": 12,
   "metadata": {},
   "outputs": [
    {
     "name": "stderr",
     "output_type": "stream",
     "text": [
      "2022-05-28 12:11:25,196 INFO numerapi.base_api: uploading predictions...\n"
     ]
    },
    {
     "name": "stdout",
     "output_type": "stream",
     "text": [
      "Submitting live predictions for dh_foxhound_v0...\n"
     ]
    },
    {
     "name": "stderr",
     "output_type": "stream",
     "text": [
      "2022-05-28 12:11:28,522 INFO numerapi.base_api: uploading predictions...\n"
     ]
    },
    {
     "name": "stdout",
     "output_type": "stream",
     "text": [
      "Submitting live predictions for dh_deadcell_v0...\n"
     ]
    },
    {
     "name": "stderr",
     "output_type": "stream",
     "text": [
      "2022-05-28 12:11:31,694 INFO numerapi.base_api: uploading predictions...\n"
     ]
    },
    {
     "name": "stdout",
     "output_type": "stream",
     "text": [
      "Submitting live predictions for dh_cobra_v0...\n"
     ]
    },
    {
     "name": "stderr",
     "output_type": "stream",
     "text": [
      "2022-05-28 12:11:34,871 INFO numerapi.base_api: uploading predictions...\n"
     ]
    },
    {
     "name": "stdout",
     "output_type": "stream",
     "text": [
      "Submitting live predictions for dh_beautybeast_v0...\n"
     ]
    },
    {
     "name": "stderr",
     "output_type": "stream",
     "text": [
      "2022-05-28 12:11:38,491 INFO numerapi.base_api: uploading predictions...\n"
     ]
    },
    {
     "name": "stdout",
     "output_type": "stream",
     "text": [
      "Submitting live predictions for dh_skulls_v0...\n"
     ]
    },
    {
     "name": "stderr",
     "output_type": "stream",
     "text": [
      "2022-05-28 12:11:41,754 INFO numerapi.base_api: uploading predictions...\n"
     ]
    },
    {
     "name": "stdout",
     "output_type": "stream",
     "text": [
      "Submitting live predictions for dh_desperado_v0...\n"
     ]
    }
   ],
   "source": [
    "# submit live predictions for current round\n",
    "for item in model_names.items():\n",
    "    print(f\"Submitting live predictions for {item[0]}...\")\n",
    "    napi.upload_predictions(\n",
    "        file_path=f\"predictions/{item[0]}_live_preds_{current_round}.csv\",\n",
    "        model_id=item[1]\n",
    "    )"
   ]
  },
  {
   "cell_type": "code",
   "execution_count": null,
   "metadata": {},
   "outputs": [],
   "source": []
  }
 ],
 "metadata": {
  "interpreter": {
   "hash": "0126e27fe55ec969de126c2cfdac2c99da69ebfdfbbeb83738b0925389a2d696"
  },
  "kernelspec": {
   "display_name": "Python 3.10.2 ('projenv')",
   "language": "python",
   "name": "python3"
  },
  "language_info": {
   "codemirror_mode": {
    "name": "ipython",
    "version": 3
   },
   "file_extension": ".py",
   "mimetype": "text/x-python",
   "name": "python",
   "nbconvert_exporter": "python",
   "pygments_lexer": "ipython3",
   "version": "3.10.2"
  },
  "orig_nbformat": 4
 },
 "nbformat": 4,
 "nbformat_minor": 2
}
