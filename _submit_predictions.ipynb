{
 "cells": [
  {
   "cell_type": "markdown",
   "metadata": {},
   "source": [
    "# Prediction Submissions"
   ]
  },
  {
   "cell_type": "code",
   "execution_count": null,
   "metadata": {},
   "outputs": [],
   "source": [
    "# load libraries\n",
    "import gc\n",
    "from numerapi import NumerAPI\n",
    "import json\n",
    "from utils.inference import RunModel\n",
    "from utils.models import GaiaModel, SpiraModel"
   ]
  },
  {
   "cell_type": "code",
   "execution_count": null,
   "metadata": {},
   "outputs": [],
   "source": [
    "# get os variables\n",
    "import os\n",
    "from dotenv import load_dotenv \n",
    "\n",
    "load_dotenv()\n",
    "PUBLIC_ID = os.getenv('PUBLIC_ID')\n",
    "SECRET_KEY = os.getenv('SECRET_KEY')"
   ]
  },
  {
   "cell_type": "code",
   "execution_count": null,
   "metadata": {},
   "outputs": [],
   "source": [
    "# instantiate api & check for round\n",
    "napi = NumerAPI(public_id=PUBLIC_ID, secret_key=SECRET_KEY)\n",
    "current_round = napi.get_current_round()\n",
    "print(f\"Current round #: {current_round}\")"
   ]
  },
  {
   "cell_type": "markdown",
   "metadata": {},
   "source": [
    "# Run Models"
   ]
  },
  {
   "cell_type": "code",
   "execution_count": null,
   "metadata": {},
   "outputs": [],
   "source": [
    "# init class\n",
    "nmr = RunModel(roundn=current_round, mode=\"live\")\n",
    "nmr.get_data()"
   ]
  },
  {
   "cell_type": "code",
   "execution_count": null,
   "metadata": {},
   "outputs": [],
   "source": [
    "# run production models\n",
    "nmr.run_foxhound()\n",
    "nmr.run_deadcell()\n",
    "nmr.run_cobra()\n",
    "nmr.run_beautybeast()\n",
    "nmr.run_skulls()\n",
    "nmr.run_gaia()\n",
    "nmr.run_terra()\n",
    "nmr.run_spira()\n",
    "\n",
    "gc.collect()"
   ]
  },
  {
   "cell_type": "code",
   "execution_count": null,
   "metadata": {},
   "outputs": [],
   "source": [
    "# run test (dojo) model\n",
    "nmr.run_dojo()\n",
    "\n",
    "gc.collect()"
   ]
  },
  {
   "cell_type": "markdown",
   "metadata": {},
   "source": [
    "# Submit predictions"
   ]
  },
  {
   "cell_type": "code",
   "execution_count": null,
   "metadata": {},
   "outputs": [],
   "source": [
    "# read model name json file\n",
    "with open(\"data/model_names.json\", \"r\") as f:\n",
    "    model_names = json.load(f)\n",
    "\n",
    "model_names"
   ]
  },
  {
   "cell_type": "code",
   "execution_count": null,
   "metadata": {},
   "outputs": [],
   "source": [
    "# submit live predictions for current round\n",
    "for k, v in model_names.items():\n",
    "    print(f\"Submitting live predictions for {k}...\")\n",
    "    napi.upload_predictions(\n",
    "        file_path=f\"predictions/{k}_live_preds_{current_round}.csv\",\n",
    "        model_id=v\n",
    "    )"
   ]
  },
  {
   "cell_type": "code",
   "execution_count": null,
   "metadata": {},
   "outputs": [],
   "source": []
  }
 ],
 "metadata": {
  "kernelspec": {
   "display_name": "Python 3.10.2 ('projenv')",
   "language": "python",
   "name": "python3"
  },
  "language_info": {
   "codemirror_mode": {
    "name": "ipython",
    "version": 3
   },
   "file_extension": ".py",
   "mimetype": "text/x-python",
   "name": "python",
   "nbconvert_exporter": "python",
   "pygments_lexer": "ipython3",
   "version": "3.10.2"
  },
  "orig_nbformat": 4,
  "vscode": {
   "interpreter": {
    "hash": "0126e27fe55ec969de126c2cfdac2c99da69ebfdfbbeb83738b0925389a2d696"
   }
  }
 },
 "nbformat": 4,
 "nbformat_minor": 2
}
