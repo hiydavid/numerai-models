{
 "cells": [
  {
   "cell_type": "markdown",
   "metadata": {
    "id": "RUD4ylfaLZA6"
   },
   "source": [
    "# Model: BeautyBeast v0"
   ]
  },
  {
   "cell_type": "markdown",
   "metadata": {
    "id": "dioJyoTnxEm3"
   },
   "source": [
    "---\n",
    "# Load data & libraries"
   ]
  },
  {
   "cell_type": "code",
   "execution_count": 2,
   "metadata": {},
   "outputs": [],
   "source": [
    "# TOP VERSION\n",
    "MODEL_NAME = \"beautybeast\"\n",
    "VERSION = 0"
   ]
  },
  {
   "cell_type": "code",
   "execution_count": 3,
   "metadata": {
    "id": "MaNpcfNkKUg_"
   },
   "outputs": [],
   "source": [
    "# import dependencies\n",
    "import numpy as np\n",
    "import pandas as pd\n",
    "from lightgbm import LGBMRegressor\n",
    "import gc\n",
    "import json\n",
    "from pathlib import Path\n",
    "from numerapi import NumerAPI\n",
    "from utils.utils import (\n",
    "    save_model,\n",
    "    load_model,\n",
    "    ERA_COL, \n",
    "    DATA_TYPE_COL\n",
    ")\n",
    "from utils.api_keys import PUBLIC_ID, SECRET_KEY"
   ]
  },
  {
   "cell_type": "code",
   "execution_count": 4,
   "metadata": {},
   "outputs": [
    {
     "name": "stdout",
     "output_type": "stream",
     "text": [
      "Current round #: 316\n"
     ]
    }
   ],
   "source": [
    "# instantiate numerai api\n",
    "napi = NumerAPI(public_id=PUBLIC_ID, secret_key=SECRET_KEY)\n",
    "current_round = napi.get_current_round()\n",
    "print(f\"Current round #: {current_round}\")"
   ]
  },
  {
   "cell_type": "code",
   "execution_count": 5,
   "metadata": {},
   "outputs": [],
   "source": [
    "# read the feature metadata and get the \"medium\" feature set\n",
    "with open(\"data/features.json\", \"r\") as f:\n",
    "    feature_metadata = json.load(f)\n",
    "features = feature_metadata[\"feature_sets\"][\"medium\"]\n",
    "targets = [\n",
    "    \"target_nomi_v4_20\", \"target_jerome_v4_20\", \"target_janet_v4_20\", \"target_ben_v4_20\", \n",
    "    \"target_alan_v4_20\", \"target_paul_v4_20\", \"target_george_v4_20\", \"target_william_v4_20\", \n",
    "    \"target_arthur_v4_20\", \"target_thomas_v4_20\"\n",
    "]\n",
    "read_columns = features + targets + [ERA_COL, DATA_TYPE_COL]\n",
    "\n",
    "training_data = pd.read_parquet('data/train.parquet', columns=read_columns)\n",
    "validation_data = pd.read_parquet('data/validation.parquet', columns=read_columns)\n",
    "live_data = pd.read_parquet(f'data/live_{current_round}.parquet', columns=read_columns)"
   ]
  },
  {
   "cell_type": "markdown",
   "metadata": {},
   "source": [
    "---\n",
    "# Feature selection"
   ]
  },
  {
   "cell_type": "code",
   "execution_count": 6,
   "metadata": {},
   "outputs": [],
   "source": [
    "# set main and auxiliary \n",
    "main_target = \"target_nomi_v4_20\"\n",
    "aux_targets = [col for col in training_data.columns if col.endswith(\"_20\") and col != main_target]"
   ]
  },
  {
   "cell_type": "code",
   "execution_count": 7,
   "metadata": {},
   "outputs": [
    {
     "data": {
      "text/plain": [
       "0"
      ]
     },
     "execution_count": 7,
     "metadata": {},
     "output_type": "execute_result"
    }
   ],
   "source": [
    "# \"garbage collection\" (gc) gets rid of unused data and frees up memory\n",
    "gc.collect()"
   ]
  },
  {
   "cell_type": "markdown",
   "metadata": {},
   "source": [
    "---\n",
    "# Create auxiliary models"
   ]
  },
  {
   "cell_type": "code",
   "execution_count": 8,
   "metadata": {},
   "outputs": [
    {
     "data": {
      "text/plain": [
       "'dh_beautybeast_v0'"
      ]
     },
     "execution_count": 8,
     "metadata": {},
     "output_type": "execute_result"
    }
   ],
   "source": [
    "# model name\n",
    "model_name = f\"dh_{MODEL_NAME}_v{VERSION}\"\n",
    "model_name"
   ]
  },
  {
   "cell_type": "code",
   "execution_count": 9,
   "metadata": {},
   "outputs": [
    {
     "name": "stdout",
     "output_type": "stream",
     "text": [
      "Checking for existing auxiliary model: target_jerome_v4_20...\n",
      "Appending trained auxiliary model to list.\n",
      "Checking for existing auxiliary model: target_janet_v4_20...\n",
      "Appending trained auxiliary model to list.\n",
      "Checking for existing auxiliary model: target_ben_v4_20...\n",
      "Appending trained auxiliary model to list.\n",
      "Checking for existing auxiliary model: target_alan_v4_20...\n",
      "Appending trained auxiliary model to list.\n",
      "Checking for existing auxiliary model: target_paul_v4_20...\n",
      "Appending trained auxiliary model to list.\n",
      "Checking for existing auxiliary model: target_george_v4_20...\n",
      "Appending trained auxiliary model to list.\n",
      "Checking for existing auxiliary model: target_william_v4_20...\n",
      "Appending trained auxiliary model to list.\n",
      "Checking for existing auxiliary model: target_arthur_v4_20...\n",
      "Appending trained auxiliary model to list.\n",
      "Checking for existing auxiliary model: target_thomas_v4_20...\n",
      "Appending trained auxiliary model to list.\n"
     ]
    }
   ],
   "source": [
    "# look for trained auxiliary models or train new ones\n",
    "model_list = []\n",
    "\n",
    "for t in aux_targets:\n",
    "    print(f\"Checking for existing auxiliary model: {t}...\")\n",
    "    model = load_model(t)\n",
    "\n",
    "    if not model:\n",
    "        print(f\"Auxiliary model not found, creating new one.\")\n",
    "        params = {\n",
    "            \"n_estimators\": 500,\n",
    "            \"learning_rate\": 0.01,\n",
    "            \"max_depth\": 5,\n",
    "            \"num_leaves\": 2 ** 5,\n",
    "            \"colsample_bytree\": 0.1,\n",
    "            \"verbosity\": 0\n",
    "        }\n",
    "        model = LGBMRegressor(**params)\n",
    "        \n",
    "        print(f\"Training auxiliary model...\")\n",
    "        model.fit(\n",
    "            training_data.filter(like='feature_', axis='columns'),\n",
    "            training_data[t]\n",
    "        )\n",
    "        \n",
    "        print(f\"Saving new auxiliary model...\")\n",
    "        save_model(model, t)\n",
    "    \n",
    "    print(\"Appending trained auxiliary model to list.\")\n",
    "    model_list.append(model)"
   ]
  },
  {
   "cell_type": "code",
   "execution_count": 10,
   "metadata": {},
   "outputs": [
    {
     "data": {
      "text/plain": [
       "0"
      ]
     },
     "execution_count": 10,
     "metadata": {},
     "output_type": "execute_result"
    }
   ],
   "source": [
    "# clean up memory\n",
    "gc.collect()"
   ]
  },
  {
   "cell_type": "markdown",
   "metadata": {},
   "source": [
    "---\n",
    "# Create auxiliary predictions on validation data"
   ]
  },
  {
   "cell_type": "code",
   "execution_count": null,
   "metadata": {},
   "outputs": [],
   "source": [
    "# create auxiliary predictions for validation data\n",
    "val_preds_list = []\n",
    "\n",
    "for t, m in zip(aux_targets, model_list):\n",
    "    print(f\"Creating auxiliary predictions for {t}...\")\n",
    "    val_preds = pd.DataFrame(m.predict(validation_data[features])).rename(columns={0:f\"{t}\"})\n",
    "    val_preds_list.append(val_preds)\n",
    "\n",
    "print(\"Concatenating predictions into a single dataframe...\")\n",
    "val_preds_all = pd.concat(val_preds_list, axis=1)"
   ]
  },
  {
   "cell_type": "code",
   "execution_count": null,
   "metadata": {},
   "outputs": [],
   "source": [
    "# check correlation\n",
    "val_preds_avg_ranked = val_preds_all.mean(axis=1).rank(pct=True, method=\"first\")\n",
    "np.corrcoef(validation_data[main_target].fillna(0.5), val_preds_avg_ranked)[0, 1]"
   ]
  },
  {
   "cell_type": "code",
   "execution_count": null,
   "metadata": {},
   "outputs": [],
   "source": [
    "# clear memory of unused data\n",
    "gc.collect()"
   ]
  },
  {
   "cell_type": "markdown",
   "metadata": {},
   "source": [
    "---\n",
    "# Create auxiliary predictions on live data"
   ]
  },
  {
   "cell_type": "code",
   "execution_count": 11,
   "metadata": {},
   "outputs": [
    {
     "name": "stdout",
     "output_type": "stream",
     "text": [
      "Creating auxiliary predictions for target_jerome_v4_20...\n",
      "Creating auxiliary predictions for target_janet_v4_20...\n",
      "Creating auxiliary predictions for target_ben_v4_20...\n",
      "Creating auxiliary predictions for target_alan_v4_20...\n",
      "Creating auxiliary predictions for target_paul_v4_20...\n",
      "Creating auxiliary predictions for target_george_v4_20...\n",
      "Creating auxiliary predictions for target_william_v4_20...\n",
      "Creating auxiliary predictions for target_arthur_v4_20...\n",
      "Creating auxiliary predictions for target_thomas_v4_20...\n",
      "Concatenating predictions into a single dataframe...\n"
     ]
    }
   ],
   "source": [
    "# create auxiliary predictions for live data\n",
    "live_preds_list = []\n",
    "\n",
    "for t, m in zip(aux_targets, model_list):\n",
    "    print(f\"Creating auxiliary predictions for {t}...\")\n",
    "    live_preds = pd.DataFrame(m.predict(live_data[features])).rename(columns={0:f\"{t}\"})\n",
    "    live_preds_list.append(live_preds)\n",
    "\n",
    "print(\"Concatenating predictions into a single dataframe...\")\n",
    "live_preds_all = pd.concat(live_preds_list, axis=1)"
   ]
  },
  {
   "cell_type": "code",
   "execution_count": 12,
   "metadata": {},
   "outputs": [],
   "source": [
    "# check correlation\n",
    "live_preds_avg_ranked = live_preds_all.mean(axis=1).rank(pct=True, method=\"first\")"
   ]
  },
  {
   "cell_type": "code",
   "execution_count": 13,
   "metadata": {},
   "outputs": [
    {
     "data": {
      "text/plain": [
       "32"
      ]
     },
     "execution_count": 13,
     "metadata": {},
     "output_type": "execute_result"
    }
   ],
   "source": [
    "# clear memory of unused data\n",
    "gc.collect()"
   ]
  },
  {
   "cell_type": "markdown",
   "metadata": {},
   "source": [
    "---\n",
    "# Save predictions"
   ]
  },
  {
   "cell_type": "code",
   "execution_count": 14,
   "metadata": {},
   "outputs": [],
   "source": [
    "# rename best model to \"prediction\" and rank from 0 to 1 to meet upload requirements\n",
    "val_preds = pd.DataFrame(val_preds_avg_ranked).rename(columns={0:\"prediction\"}).set_index(validation_data.index)\n",
    "live_preds = pd.DataFrame(live_preds_avg_ranked).rename(columns={0:\"prediction\"}).set_index(live_data.index)\n",
    "\n",
    "val_preds.to_csv(f\"predictions/{model_name}_val_preds.csv\")\n",
    "live_preds.to_csv(f\"predictions/{model_name}_live_preds_{current_round}.csv\")"
   ]
  },
  {
   "cell_type": "code",
   "execution_count": null,
   "metadata": {},
   "outputs": [],
   "source": []
  }
 ],
 "metadata": {
  "colab": {
   "collapsed_sections": [],
   "include_colab_link": true,
   "machine_shape": "hm",
   "name": "numerai_base_model_v1",
   "provenance": []
  },
  "interpreter": {
   "hash": "0126e27fe55ec969de126c2cfdac2c99da69ebfdfbbeb83738b0925389a2d696"
  },
  "kernelspec": {
   "display_name": "projenv",
   "language": "python",
   "name": "python3"
  },
  "language_info": {
   "codemirror_mode": {
    "name": "ipython",
    "version": 3
   },
   "file_extension": ".py",
   "mimetype": "text/x-python",
   "name": "python",
   "nbconvert_exporter": "python",
   "pygments_lexer": "ipython3",
   "version": "3.10.2"
  }
 },
 "nbformat": 4,
 "nbformat_minor": 4
}
