{
 "cells": [
  {
   "cell_type": "markdown",
   "metadata": {},
   "source": [
    "# Model Performance"
   ]
  },
  {
   "cell_type": "code",
   "execution_count": null,
   "metadata": {},
   "outputs": [],
   "source": [
    "# load libraries\n",
    "import matplotlib.pyplot as plt\n",
    "import pandas as pd\n",
    "import datetime as dt\n",
    "import yfinance as yf\n",
    "from numerapi import NumerAPI\n",
    "from utils.api_keys import PUBLIC_ID, SECRET_KEY"
   ]
  },
  {
   "cell_type": "code",
   "execution_count": null,
   "metadata": {},
   "outputs": [],
   "source": [
    "# instantiate\n",
    "TODAY = dt.datetime.now()\n",
    "nmr = yf.download('NMR-USD', start=TODAY, end=TODAY, progress=False)\n",
    "napi = NumerAPI(public_id=PUBLIC_ID, secret_key=SECRET_KEY)"
   ]
  },
  {
   "cell_type": "code",
   "execution_count": null,
   "metadata": {},
   "outputs": [],
   "source": [
    "# get model performance history\n",
    "def get_model_rankings(model_list):\n",
    "    df_list = []\n",
    "    for m in model_list:\n",
    "        df = pd.DataFrame.from_dict(napi.daily_model_performances(m))\n",
    "        df['modelName'] = m\n",
    "        df_list.append( df)\n",
    "    df_all = pd.concat(df_list)\n",
    "    return df_all\n",
    "\n",
    "# get model payout history\n",
    "def get_model_payouts(model_list):\n",
    "    df_list = []\n",
    "    for m in model_list:\n",
    "        df = pd.DataFrame.from_dict(napi.round_model_performances(m))\n",
    "        df[\"modelName\"] = m\n",
    "        df_list.append(df)\n",
    "    df_all = pd.concat(df_list)\n",
    "    payout_df = pd.pivot_table(\n",
    "        df_all, \n",
    "        values='payout', \n",
    "        index=['roundOpenTime'], \n",
    "        columns=['modelName']).fillna(0)\n",
    "    payout_df[\"totalPayout\"] = payout_df.sum(axis=1)\n",
    "    return payout_df\n",
    "\n",
    "# plot model rankings\n",
    "def plot_model_rankings(data, after_date, cols):\n",
    "    fig, axes = plt.subplots(nrows=2, ncols=3, sharex=True, sharey=True, figsize=(12, 8))\n",
    "    df = data.loc[data[\"date\"] >= after_date].set_index(\"date\")\n",
    "    df.loc[df[\"modelName\"] == \"dh_foxhound\", cols].plot(ax=axes[0, 0])\n",
    "    df.loc[df[\"modelName\"] == \"dh_deadcell\", cols].plot(ax=axes[0, 1])\n",
    "    df.loc[df[\"modelName\"] == \"dh_cobra\", cols].plot(ax=axes[0, 2])\n",
    "    df.loc[df[\"modelName\"] == \"dh_beautybeast\", cols].plot(ax=axes[1, 0])\n",
    "    df.loc[df[\"modelName\"] == \"dh_skulls\", cols].plot(ax=axes[1, 1])\n",
    "    df.loc[df[\"modelName\"] == \"dh_desperado\", cols].plot(ax=axes[1, 2])\n",
    "    axes[0, 0].set_title(\"Foxhound\")\n",
    "    axes[0, 1].set_title(\"Deadcell\")\n",
    "    axes[0, 2].set_title(\"Cobra\")\n",
    "    axes[1, 0].set_title(\"BeautyBeast\")\n",
    "    axes[1, 1].set_title(\"Skulls\")\n",
    "    axes[1, 2].set_title(\"Desperado\")\n",
    "    plt.show()"
   ]
  },
  {
   "cell_type": "markdown",
   "metadata": {},
   "source": [
    "---\n",
    "# Current Staking Amount"
   ]
  },
  {
   "cell_type": "code",
   "execution_count": null,
   "metadata": {},
   "outputs": [],
   "source": [
    "# nmr price\n",
    "nmr_price = nmr[['Open', 'High', 'Low', 'Close']].mean(axis=1)[0]\n",
    "nmr_price"
   ]
  },
  {
   "cell_type": "code",
   "execution_count": null,
   "metadata": {},
   "outputs": [],
   "source": [
    "# get model names\n",
    "model_list = napi.get_models().keys()\n",
    "model_list"
   ]
  },
  {
   "cell_type": "code",
   "execution_count": null,
   "metadata": {},
   "outputs": [],
   "source": [
    "# get current staking amount\n",
    "nmr_stake_list = []\n",
    "nmr_usd_list = []\n",
    "\n",
    "for k in model_list:\n",
    "    try:\n",
    "        nmr_stake = round(float(napi.stake_get(k)), 2)\n",
    "        nmr_usd = round(nmr_stake * nmr_price, 2)\n",
    "        nmr_stake_list.append(nmr_stake)\n",
    "        nmr_usd_list.append(nmr_usd)\n",
    "    except:\n",
    "        pass\n",
    "\n",
    "pd.DataFrame({\n",
    "    \"model\": model_list,\n",
    "    \"staked nmr\": nmr_stake_list,\n",
    "    \"stked usd\": nmr_usd_list\n",
    "})"
   ]
  },
  {
   "cell_type": "markdown",
   "metadata": {},
   "source": [
    "---\n",
    "# Model Ranks"
   ]
  },
  {
   "cell_type": "code",
   "execution_count": null,
   "metadata": {},
   "outputs": [],
   "source": [
    "# get model rankings\n",
    "perf = get_model_rankings(model_list=model_list)\n",
    "perf.info()"
   ]
  },
  {
   "cell_type": "code",
   "execution_count": null,
   "metadata": {},
   "outputs": [],
   "source": [
    "# date variable\n",
    "AFTER_DATE = \"2022-04-01\""
   ]
  },
  {
   "cell_type": "code",
   "execution_count": null,
   "metadata": {},
   "outputs": [],
   "source": [
    "# check model name list\n",
    "perf[\"modelName\"].unique()"
   ]
  },
  {
   "cell_type": "code",
   "execution_count": null,
   "metadata": {},
   "outputs": [],
   "source": [
    "# cols\n",
    "tc_rank_cols = [col for col in perf.columns if col.endswith(\"Rank\") and col.startswith(\"tc\")]\n",
    "tc_rep_cols = [col for col in perf.columns if col.endswith(\"Rep\") and col.startswith(\"tc\")]\n",
    "nontc_rank_cols = [col for col in perf.columns if col.endswith(\"Rank\") and not col.startswith(\"tc\")]\n",
    "nontc_rep_cols = [col for col in perf.columns if col.endswith(\"Rep\") and not col.startswith(\"tc\")]\n",
    "\n",
    "tc_rank_cols, tc_rep_cols, nontc_rank_cols, nontc_rep_cols"
   ]
  },
  {
   "cell_type": "markdown",
   "metadata": {},
   "source": [
    "---\n",
    "# CorrRank & CorrRep"
   ]
  },
  {
   "cell_type": "code",
   "execution_count": null,
   "metadata": {},
   "outputs": [],
   "source": [
    "# plot  corr rank and rep\n",
    "corrdf = perf.loc[perf[\"date\"]>=AFTER_DATE]\n",
    "\n",
    "fig, axes = plt.subplots(nrows=1, ncols=2, sharex=True, sharey=False, figsize=(10, 5))\n",
    "pd.pivot_table(\n",
    "    data=corrdf[[\"modelName\", \"date\", \"corrRank\"]],\n",
    "    values=\"corrRank\",\n",
    "    index=\"date\",\n",
    "    columns=\"modelName\"\n",
    ").plot(ax=axes[0])\n",
    "axes[0].set_title(\"CORR Ranking (Lower = Better)\")\n",
    "\n",
    "pd.pivot_table(\n",
    "    data=corrdf[[\"modelName\", \"date\", \"corrRep\"]],\n",
    "    values=\"corrRep\",\n",
    "    index=\"date\",\n",
    "    columns=\"modelName\"\n",
    ").plot(ax=axes[1])\n",
    "axes[1].set_title(\"CORR Reputation (Higher = Better)\")\n",
    "\n",
    "plt.tight_layout()\n",
    "plt.show()"
   ]
  },
  {
   "cell_type": "markdown",
   "metadata": {},
   "source": [
    "---\n",
    "# Ranks"
   ]
  },
  {
   "cell_type": "code",
   "execution_count": null,
   "metadata": {},
   "outputs": [],
   "source": [
    "# plot rankings (TC)\n",
    "plot_model_rankings(data=perf, after_date=AFTER_DATE, cols=tc_rank_cols)"
   ]
  },
  {
   "cell_type": "code",
   "execution_count": null,
   "metadata": {},
   "outputs": [],
   "source": [
    "# plot rankings (non-TC)\n",
    "plot_model_rankings(data=perf, after_date=AFTER_DATE, cols=nontc_rank_cols)"
   ]
  },
  {
   "cell_type": "markdown",
   "metadata": {},
   "source": [
    "---\n",
    "# Reputations"
   ]
  },
  {
   "cell_type": "code",
   "execution_count": null,
   "metadata": {},
   "outputs": [],
   "source": [
    "# plot reputations (TC)\n",
    "plot_model_rankings(data=perf, after_date=AFTER_DATE, cols=tc_rep_cols)"
   ]
  },
  {
   "cell_type": "code",
   "execution_count": null,
   "metadata": {},
   "outputs": [],
   "source": [
    "# plot reputations (non-TC)\n",
    "plot_model_rankings(data=perf, after_date=AFTER_DATE, cols=nontc_rep_cols)"
   ]
  },
  {
   "cell_type": "markdown",
   "metadata": {},
   "source": [
    "---\n",
    "# Get model payouts"
   ]
  },
  {
   "cell_type": "code",
   "execution_count": null,
   "metadata": {},
   "outputs": [],
   "source": [
    "# get payout\n",
    "payout = get_model_payouts(model_list)\n",
    "payout"
   ]
  },
  {
   "cell_type": "code",
   "execution_count": null,
   "metadata": {},
   "outputs": [],
   "source": [
    "# plot payouts\n",
    "fig, axes = plt.subplots(nrows=1, ncols=2, figsize=(10, 5))\n",
    "payout.loc[AFTER_DATE:][model_list].cumsum().plot(ax=axes[0])\n",
    "payout.loc[AFTER_DATE:][[\"totalPayout\"]].cumsum().plot(ax=axes[1])\n",
    "axes[0].set_title(\"Cumulative Model Payouts\")\n",
    "axes[0].set_xlabel(\"Round Open Date\")\n",
    "axes[0].set_ylabel(\"NMR Payout\")\n",
    "axes[1].set_title(\"Cumulative Total Payouts\")\n",
    "axes[1].set_xlabel(\"Round Open Date\")\n",
    "axes[1].set_ylabel(\"NMR Payout\")\n",
    "plt.tight_layout()\n",
    "plt.show()"
   ]
  },
  {
   "cell_type": "markdown",
   "metadata": {},
   "source": [
    "---\n",
    "# Get total return"
   ]
  },
  {
   "cell_type": "code",
   "execution_count": null,
   "metadata": {},
   "outputs": [],
   "source": [
    "# get transactions history\n",
    "trans = pd.DataFrame(napi.wallet_transactions())\n",
    "trans[\"amount\"] = trans[\"amount\"].astype(\"float\")\n",
    "trans.info()"
   ]
  },
  {
   "cell_type": "code",
   "execution_count": null,
   "metadata": {},
   "outputs": [],
   "source": [
    "increase_stake = trans.loc[trans[\"type\"]==\"increase_stake\"]\n",
    "increase_stake"
   ]
  },
  {
   "cell_type": "code",
   "execution_count": null,
   "metadata": {},
   "outputs": [],
   "source": [
    "sum_staking = increase_stake[\"amount\"].sum() #- 14 - 14\n",
    "sum_payout = payout[\"totalPayout\"].sum()\n",
    "sum_nmr = sum_staking + sum_payout\n",
    "\n",
    "print(f\"Total return to-date: {(sum_payout / sum_nmr * 100).round(1)} %\")"
   ]
  },
  {
   "cell_type": "code",
   "execution_count": null,
   "metadata": {},
   "outputs": [],
   "source": []
  }
 ],
 "metadata": {
  "interpreter": {
   "hash": "0126e27fe55ec969de126c2cfdac2c99da69ebfdfbbeb83738b0925389a2d696"
  },
  "kernelspec": {
   "display_name": "Python 3.10.2 ('projenv')",
   "language": "python",
   "name": "python3"
  },
  "language_info": {
   "codemirror_mode": {
    "name": "ipython",
    "version": 3
   },
   "file_extension": ".py",
   "mimetype": "text/x-python",
   "name": "python",
   "nbconvert_exporter": "python",
   "pygments_lexer": "ipython3",
   "version": "3.10.2"
  },
  "orig_nbformat": 4
 },
 "nbformat": 4,
 "nbformat_minor": 2
}
