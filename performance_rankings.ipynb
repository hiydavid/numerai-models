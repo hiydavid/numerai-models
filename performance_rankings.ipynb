{
 "cells": [
  {
   "cell_type": "markdown",
   "metadata": {},
   "source": [
    "# Model Performance"
   ]
  },
  {
   "cell_type": "code",
   "execution_count": 1,
   "metadata": {},
   "outputs": [],
   "source": [
    "# load libraries\n",
    "import pandas as pd\n",
    "import datetime as dt\n",
    "import yfinance as yf\n",
    "from numerapi import NumerAPI\n",
    "from utils.api_keys import PUBLIC_ID, SECRET_KEY"
   ]
  },
  {
   "cell_type": "code",
   "execution_count": 2,
   "metadata": {},
   "outputs": [
    {
     "name": "stdout",
     "output_type": "stream",
     "text": [
      "[*********************100%***********************]  1 of 1 completed\n"
     ]
    }
   ],
   "source": [
    "# instantiate\n",
    "TODAY = dt.datetime.now()\n",
    "nmr = yf.download('NMR-USD', start=TODAY, end=TODAY)\n",
    "napi = NumerAPI(public_id=PUBLIC_ID, secret_key=SECRET_KEY)"
   ]
  },
  {
   "cell_type": "code",
   "execution_count": 3,
   "metadata": {},
   "outputs": [],
   "source": [
    "# get model performance history\n",
    "def get_model_rankings(model_list):\n",
    "    df_list = []\n",
    "    for m in model_list:\n",
    "        df = pd.DataFrame.from_dict(napi.daily_model_performances(m))\n",
    "        df['modelName'] = m\n",
    "        df_list.append( df)\n",
    "    df_all = pd.concat(df_list).set_index(\"date\")\n",
    "    return df_all\n",
    "\n",
    "# plot model rankings\n",
    "def plot_model_rankings(data, after_date, select_rank):\n",
    "    data[after_date:].groupby('modelName')[select_rank].plot(\n",
    "        y=select_rank,\n",
    "        title=select_rank,\n",
    "        figsize=(10, 3),\n",
    "        legend=True,\n",
    "        ylim=(10000, 0)\n",
    "    );"
   ]
  },
  {
   "cell_type": "markdown",
   "metadata": {},
   "source": [
    "# Current Staking Amount"
   ]
  },
  {
   "cell_type": "code",
   "execution_count": 4,
   "metadata": {},
   "outputs": [
    {
     "data": {
      "text/plain": [
       "25.1072039604187"
      ]
     },
     "execution_count": 4,
     "metadata": {},
     "output_type": "execute_result"
    }
   ],
   "source": [
    "# nmr price\n",
    "nmr_price = nmr[['Open', 'High', 'Low', 'Close']].mean(axis=1)[0]\n",
    "nmr_price"
   ]
  },
  {
   "cell_type": "code",
   "execution_count": 5,
   "metadata": {},
   "outputs": [
    {
     "data": {
      "text/plain": [
       "dict_keys(['dh_foxhound', 'dh_deadcell', 'dh_cobra', 'dh_beautybeast', 'dh_skulls', 'dh_desperado'])"
      ]
     },
     "execution_count": 5,
     "metadata": {},
     "output_type": "execute_result"
    }
   ],
   "source": [
    "# get model names\n",
    "model_list = napi.get_models().keys()\n",
    "model_list"
   ]
  },
  {
   "cell_type": "code",
   "execution_count": 6,
   "metadata": {},
   "outputs": [
    {
     "name": "stdout",
     "output_type": "stream",
     "text": [
      "dh_foxhound: NMR0.43, $10.8\n"
     ]
    }
   ],
   "source": [
    "# get current staking amount\n",
    "for k in model_list:\n",
    "    try:\n",
    "        nmr_stake = round(float(napi.stake_get(k)), 2)\n",
    "        nmr_usd = round(nmr_stake * nmr_price, 2)\n",
    "        print(f\"{k}: NMR{nmr_stake}, ${nmr_usd}\")\n",
    "    except:\n",
    "        pass"
   ]
  },
  {
   "cell_type": "markdown",
   "metadata": {},
   "source": [
    "# Model Performances"
   ]
  },
  {
   "cell_type": "code",
   "execution_count": 11,
   "metadata": {},
   "outputs": [
    {
     "name": "stdout",
     "output_type": "stream",
     "text": [
      "<class 'pandas.core.frame.DataFrame'>\n",
      "DatetimeIndex: 315 entries, 2022-04-27 00:00:00+00:00 to 2021-02-11 00:00:00+00:00\n",
      "Data columns (total 11 columns):\n",
      " #   Column     Non-Null Count  Dtype  \n",
      "---  ------     --------------  -----  \n",
      " 0   corrRank   315 non-null    float64\n",
      " 1   corrRep    315 non-null    float64\n",
      " 2   fncRank    315 non-null    float64\n",
      " 3   fncRep     315 non-null    float64\n",
      " 4   fncV3Rank  23 non-null     float64\n",
      " 5   fncV3Rep   23 non-null     float64\n",
      " 6   mmcRank    315 non-null    float64\n",
      " 7   mmcRep     315 non-null    float64\n",
      " 8   tcRank     108 non-null    float64\n",
      " 9   tcRep      108 non-null    float64\n",
      " 10  modelName  315 non-null    object \n",
      "dtypes: float64(10), object(1)\n",
      "memory usage: 29.5+ KB\n"
     ]
    }
   ],
   "source": [
    "# get model rankings\n",
    "perf = get_model_rankings(model_list=model_list)\n",
    "perf.info()"
   ]
  },
  {
   "cell_type": "code",
   "execution_count": 13,
   "metadata": {},
   "outputs": [],
   "source": [
    "# date variable\n",
    "AFTER_DATE = \"2022-04-01\""
   ]
  },
  {
   "cell_type": "code",
   "execution_count": 14,
   "metadata": {},
   "outputs": [
    {
     "data": {
      "image/png": "[encoded data removed]",
      "text/plain": [
       "<Figure size 720x216 with 1 Axes>"
      ]
     },
     "metadata": {
      "needs_background": "light"
     },
     "output_type": "display_data"
    }
   ],
   "source": [
    "# plot model rankings\n",
    "plot_model_rankings(\n",
    "    data=perf,\n",
    "    after_date=AFTER_DATE, \n",
    "    select_rank='tcRank'\n",
    ")"
   ]
  },
  {
   "cell_type": "code",
   "execution_count": null,
   "metadata": {},
   "outputs": [],
   "source": []
  }
 ],
 "metadata": {
  "interpreter": {
   "hash": "0126e27fe55ec969de126c2cfdac2c99da69ebfdfbbeb83738b0925389a2d696"
  },
  "kernelspec": {
   "display_name": "Python 3.10.2 ('projenv')",
   "language": "python",
   "name": "python3"
  },
  "language_info": {
   "codemirror_mode": {
    "name": "ipython",
    "version": 3
   },
   "file_extension": ".py",
   "mimetype": "text/x-python",
   "name": "python",
   "nbconvert_exporter": "python",
   "pygments_lexer": "ipython3",
   "version": "3.10.2"
  },
  "orig_nbformat": 4
 },
 "nbformat": 4,
 "nbformat_minor": 2
}
