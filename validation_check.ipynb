{
 "cells": [
  {
   "cell_type": "markdown",
   "metadata": {},
   "source": [
    "# Validation Check"
   ]
  },
  {
   "cell_type": "code",
   "execution_count": null,
   "metadata": {},
   "outputs": [],
   "source": [
    "# load libraries\n",
    "import json\n",
    "import numpy as np\n",
    "import pandas as pd\n",
    "import matplotlib.pyplot as plt\n",
    "from numerapi import NumerAPI\n",
    "from utils.api_keys import PUBLIC_ID, SECRET_KEY"
   ]
  },
  {
   "cell_type": "code",
   "execution_count": null,
   "metadata": {},
   "outputs": [],
   "source": [
    "# instantiate api & check for round\n",
    "napi = NumerAPI(public_id=PUBLIC_ID, secret_key=SECRET_KEY)\n",
    "current_round = napi.get_current_round()\n",
    "print(f\"Current round #: {current_round}\")"
   ]
  },
  {
   "cell_type": "code",
   "execution_count": null,
   "metadata": {},
   "outputs": [],
   "source": [
    "# era corr function\n",
    "def compute_corr_by_era(val_df, model_list, corr_method):\n",
    "    df_list = []\n",
    "    for m in model_list:\n",
    "        r = val_df.groupby(\"era\")[[\"target\", m]].corr(method=corr_method).iloc[0::2, -1]\n",
    "        df = pd.DataFrame(r)\n",
    "        df_list.append(r)\n",
    "    df_all = pd.concat(df_list, axis=1).dropna().reset_index()\n",
    "    return df_all.drop(\"level_1\", axis=1).set_index(\"era\")"
   ]
  },
  {
   "cell_type": "markdown",
   "metadata": {},
   "source": [
    "---\n",
    "# Load validation datesets"
   ]
  },
  {
   "cell_type": "code",
   "execution_count": null,
   "metadata": {},
   "outputs": [],
   "source": [
    "# read current round's validation preds\n",
    "validation_data = pd.read_parquet('data/validation.parquet', columns=[\"era\", \"target\"]).reset_index()\n",
    "foxhound_val = pd.read_csv(f\"predictions/dh_foxhound_v0_val_preds.csv\")\n",
    "deadcell_val = pd.read_csv(f\"predictions/dh_deadcell_v0_val_preds.csv\")\n",
    "cobra_val = pd.read_csv(f\"predictions/dh_cobra_v0_val_preds.csv\")\n",
    "beautybeast_val = pd.read_csv(f\"predictions/dh_beautybeast_v0_val_preds.csv\")\n",
    "skulls_val = pd.read_csv(f\"predictions/dh_skulls_v0_val_preds.csv\")\n",
    "desperado_val = pd.read_csv(f\"predictions/dh_desperado_v0_val_preds.csv\")\n",
    "\n",
    "print(f\"\"\"\n",
    "    Numerai validation     : {len(validation_data)}\n",
    "    Foxhound predictions   : {len(foxhound_val)}\n",
    "    Deadcell pedictions    : {len(deadcell_val)}\n",
    "    Cobra pedictions       : {len(cobra_val)}\n",
    "    BeautyBeast pedictions : {len(beautybeast_val)}\n",
    "    Skulls pedictions      : {len(skulls_val)}\n",
    "    Desperado pedictions   : {len(desperado_val)}\n",
    "    \"\"\")"
   ]
  },
  {
   "cell_type": "code",
   "execution_count": null,
   "metadata": {},
   "outputs": [],
   "source": [
    "# join as master validation set\n",
    "val = validation_data.merge(\n",
    "    right=foxhound_val, how='inner', on=\"id\").merge(\n",
    "    right=deadcell_val, how='inner', on=\"id\", suffixes=('', '2')).merge(\n",
    "    right=cobra_val, how='inner', on=\"id\", suffixes=('', '3')).merge(\n",
    "    right=beautybeast_val, how='inner', on=\"id\", suffixes=('', '4')).merge(\n",
    "    right=skulls_val, how='inner', on=\"id\", suffixes=('', '5')).merge(\n",
    "    right=desperado_val, how='inner', on=\"id\", suffixes=('', '6'))\n",
    "\n",
    "val.columns = [\"id\", \"era\", \"target\", \"foxhound\", \"deadcell\", \"cobra\", \"beautybeast\", \"skulls\", \"desperado\"]\n",
    "val.info()"
   ]
  },
  {
   "cell_type": "code",
   "execution_count": null,
   "metadata": {},
   "outputs": [],
   "source": [
    "# view data\n",
    "val.head()"
   ]
  },
  {
   "cell_type": "markdown",
   "metadata": {},
   "source": [
    "---\n",
    "# Get correlation by era"
   ]
  },
  {
   "cell_type": "code",
   "execution_count": null,
   "metadata": {},
   "outputs": [],
   "source": [
    "# models\n",
    "model_names = [\"foxhound\", \"deadcell\", \"cobra\", \"beautybeast\", \"skulls\", \"desperado\"]"
   ]
  },
  {
   "cell_type": "code",
   "execution_count": null,
   "metadata": {},
   "outputs": [],
   "source": [
    "# get corrs\n",
    "pearson_corr = compute_corr_by_era(val_df=val, model_list=model_names, corr_method=\"pearson\")\n",
    "spearman_corr = compute_corr_by_era(val_df=val, model_list=model_names, corr_method=\"spearman\")"
   ]
  },
  {
   "cell_type": "code",
   "execution_count": null,
   "metadata": {},
   "outputs": [],
   "source": [
    "# correlation plots\n",
    "ROLLING_FACTOR = 52\n",
    "\n",
    "fig, axes = plt.subplots(nrows=1, ncols=2, sharex=True, sharey=True, figsize=(12, 5))\n",
    "pearson_corr.rolling(ROLLING_FACTOR).mean().plot(ax=axes[0]);\n",
    "spearman_corr.rolling(ROLLING_FACTOR).mean().plot(ax=axes[1]);\n",
    "axes[0].set_title(\"Pearson's Correlations\")\n",
    "axes[1].set_title(\"Spearman's Rank Correlations\")\n",
    "axes[0].axhline(0, color ='black', linewidth=1)\n",
    "axes[1].axhline(0, color ='black', linewidth=1)\n",
    "plt.show()"
   ]
  },
  {
   "cell_type": "code",
   "execution_count": null,
   "metadata": {},
   "outputs": [],
   "source": [
    "# compute sharpe ratio\n",
    "sharpe_df = pd.concat([\n",
    "    (pearson_corr.mean() / pearson_corr.std()),\n",
    "    (spearman_corr.mean() / spearman_corr.std())], axis=1)\n",
    "\n",
    "sharpe_df.columns = [\"sharpe_pearson\", \"sharpe_spearman\"]\n",
    "round(sharpe_df, 2)"
   ]
  },
  {
   "cell_type": "code",
   "execution_count": null,
   "metadata": {},
   "outputs": [],
   "source": [
    "# compute pct rank of validation era each model\n",
    "pearson_rank_per_era = pearson_corr.rank(axis=1, ascending=False)\n",
    "spearman_rank_per_era = spearman_corr.rank(axis=1, ascending=False)\n",
    "\n",
    "rank_as_top = pd.concat([\n",
    "    pd.DataFrame({\n",
    "        \"foxhound\": [np.sum([r for r in pearson_rank_per_era[\"foxhound\"] if r == 1])],\n",
    "        \"deadcell\": [np.sum([r for r in pearson_rank_per_era[\"deadcell\"] if r == 1])],\n",
    "        \"cobra\": [np.sum([r for r in pearson_rank_per_era[\"cobra\"] if r == 1])],\n",
    "        \"beautybeast\": [np.sum([r for r in pearson_rank_per_era[\"beautybeast\"] if r == 1])],\n",
    "        \"skulls\": [np.sum([r for r in pearson_rank_per_era[\"skulls\"] if r == 1])],\n",
    "        \"desperado\": [np.sum([r for r in pearson_rank_per_era[\"desperado\"] if r == 1])],\n",
    "    }) / len(pearson_rank_per_era.index),\n",
    "    pd.DataFrame({\n",
    "        \"foxhound\": [np.sum([r for r in spearman_rank_per_era[\"foxhound\"] if r == 1])],\n",
    "        \"deadcell\": [np.sum([r for r in spearman_rank_per_era[\"deadcell\"] if r == 1])],\n",
    "        \"cobra\": [np.sum([r for r in spearman_rank_per_era[\"cobra\"] if r == 1])],\n",
    "        \"beautybeast\": [np.sum([r for r in spearman_rank_per_era[\"beautybeast\"] if r == 1])],\n",
    "        \"skulls\": [np.sum([r for r in spearman_rank_per_era[\"skulls\"] if r == 1])],\n",
    "        \"desperado\": [np.sum([r for r in spearman_rank_per_era[\"desperado\"] if r == 1])],\n",
    "    }) / len(spearman_rank_per_era.index),\n",
    "])\n",
    "\n",
    "rank_as_top.index = [\"pearson_corr\", \"spearman_corr\"]\n",
    "round(rank_as_top, 2)\n"
   ]
  },
  {
   "cell_type": "markdown",
   "metadata": {},
   "source": [
    "# Submit for Validation Diagnosis"
   ]
  },
  {
   "cell_type": "code",
   "execution_count": null,
   "metadata": {},
   "outputs": [],
   "source": [
    "# read model name json file\n",
    "with open(\"data/model_names.json\", \"r\") as f:\n",
    "    model_names = json.load(f)\n",
    "\n",
    "model_names"
   ]
  },
  {
   "cell_type": "code",
   "execution_count": null,
   "metadata": {},
   "outputs": [],
   "source": [
    "# submit validation predictions for diagnosis\n",
    "for item in model_names.items():\n",
    "    print(f\"Submitting validation predictions for: {item[0]}...\")\n",
    "    napi.upload_diagnostics(\n",
    "        file_path=f\"predictions/{item[0]}_val_preds.csv\",\n",
    "        model_id=item[1]\n",
    "    )"
   ]
  },
  {
   "cell_type": "code",
   "execution_count": null,
   "metadata": {},
   "outputs": [],
   "source": []
  }
 ],
 "metadata": {
  "interpreter": {
   "hash": "0126e27fe55ec969de126c2cfdac2c99da69ebfdfbbeb83738b0925389a2d696"
  },
  "kernelspec": {
   "display_name": "Python 3.10.2 ('projenv')",
   "language": "python",
   "name": "python3"
  },
  "language_info": {
   "codemirror_mode": {
    "name": "ipython",
    "version": 3
   },
   "file_extension": ".py",
   "mimetype": "text/x-python",
   "name": "python",
   "nbconvert_exporter": "python",
   "pygments_lexer": "ipython3",
   "version": "3.10.2"
  },
  "orig_nbformat": 4
 },
 "nbformat": 4,
 "nbformat_minor": 2
}
