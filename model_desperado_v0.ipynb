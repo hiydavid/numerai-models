{
 "cells": [
  {
   "cell_type": "markdown",
   "metadata": {
    "id": "RUD4ylfaLZA6"
   },
   "source": [
    "# Model: Desperado v0\n",
    "\n",
    "**Model Parameters:**\n",
    "* Ensemble model with simple averaging\n",
    "* Including predictions from:\n",
    "    * Foxhoud_v0\n",
    "    * Deadcell_v0\n",
    "    * Cobra_v0"
   ]
  },
  {
   "cell_type": "markdown",
   "metadata": {
    "id": "dioJyoTnxEm3"
   },
   "source": [
    "---\n",
    "# Load data & libraries"
   ]
  },
  {
   "cell_type": "code",
   "execution_count": 1,
   "metadata": {},
   "outputs": [],
   "source": [
    "# TOP VERSION\n",
    "MODEL_NAME = \"desperado\"\n",
    "VERSION = 0"
   ]
  },
  {
   "cell_type": "code",
   "execution_count": 2,
   "metadata": {
    "id": "MaNpcfNkKUg_"
   },
   "outputs": [],
   "source": [
    "# import dependencies\n",
    "import pandas as pd\n",
    "from numerapi import NumerAPI\n",
    "from utils.api_keys import PUBLIC_ID, SECRET_KEY"
   ]
  },
  {
   "cell_type": "code",
   "execution_count": 3,
   "metadata": {},
   "outputs": [
    {
     "name": "stdout",
     "output_type": "stream",
     "text": [
      "Current round #: 314\n"
     ]
    }
   ],
   "source": [
    "# instantiate numerai api\n",
    "napi = NumerAPI(public_id=PUBLIC_ID, secret_key=SECRET_KEY)\n",
    "current_round = napi.get_current_round()\n",
    "print(f\"Current round #: {current_round}\")"
   ]
  },
  {
   "cell_type": "code",
   "execution_count": 4,
   "metadata": {},
   "outputs": [
    {
     "name": "stdout",
     "output_type": "stream",
     "text": [
      "\n",
      "    Foxhound predictions : 2203644\n",
      "    Deadcell pedictions  : 2203644\n",
      "    Cobra pedictions     : 2203644\n",
      "    \n"
     ]
    }
   ],
   "source": [
    "# read val predictions from models\n",
    "foxhound_val = pd.read_csv(f\"predictions/dh_foxhound_v0_val_preds_{current_round}.csv\")\n",
    "deadcell_val = pd.read_csv(f\"predictions/dh_deadcell_v0_val_preds_{current_round}.csv\")\n",
    "cobra_val = pd.read_csv(f\"predictions/dh_cobra_v0_val_preds_{current_round}.csv\")\n",
    "\n",
    "print(f\"\"\"\n",
    "    Foxhound predictions : {len(foxhound_val)}\n",
    "    Deadcell pedictions  : {len(deadcell_val)}\n",
    "    Cobra pedictions     : {len(cobra_val)}\n",
    "    \"\"\")"
   ]
  },
  {
   "cell_type": "code",
   "execution_count": 5,
   "metadata": {},
   "outputs": [
    {
     "name": "stdout",
     "output_type": "stream",
     "text": [
      "\n",
      "    Foxhound predictions : 5317\n",
      "    Deadcell pedictions  : 5317\n",
      "    Cobra pedictions     : 5317\n",
      "    \n"
     ]
    }
   ],
   "source": [
    "# read live predictions from models\n",
    "foxhound_live = pd.read_csv(f\"predictions/dh_foxhound_v0_live_preds_{current_round}.csv\")\n",
    "deadcell_live = pd.read_csv(f\"predictions/dh_deadcell_v0_live_preds_{current_round}.csv\")\n",
    "cobra_live = pd.read_csv(f\"predictions/dh_cobra_v0_live_preds_{current_round}.csv\")\n",
    "\n",
    "print(f\"\"\"\n",
    "    Foxhound predictions : {len(foxhound_live)}\n",
    "    Deadcell pedictions  : {len(deadcell_live)}\n",
    "    Cobra pedictions     : {len(cobra_live)}\n",
    "    \"\"\")"
   ]
  },
  {
   "cell_type": "markdown",
   "metadata": {},
   "source": [
    "---\n",
    "# Create ensemble prediction"
   ]
  },
  {
   "cell_type": "code",
   "execution_count": 6,
   "metadata": {},
   "outputs": [
    {
     "data": {
      "text/plain": [
       "'dh_desperado_v0'"
      ]
     },
     "execution_count": 6,
     "metadata": {},
     "output_type": "execute_result"
    }
   ],
   "source": [
    "# model name\n",
    "model_name = f\"dh_{MODEL_NAME}_v{VERSION}\"\n",
    "model_name"
   ]
  },
  {
   "cell_type": "code",
   "execution_count": 7,
   "metadata": {},
   "outputs": [
    {
     "name": "stdout",
     "output_type": "stream",
     "text": [
      "<class 'pandas.core.frame.DataFrame'>\n",
      "Int64Index: 2203644 entries, 0 to 2203643\n",
      "Data columns (total 5 columns):\n",
      " #   Column      Dtype  \n",
      "---  ------      -----  \n",
      " 0   id          object \n",
      " 1   foxhound    float64\n",
      " 2   deadcell    float64\n",
      " 3   cobra       float64\n",
      " 4   prediction  float64\n",
      "dtypes: float64(4), object(1)\n",
      "memory usage: 100.9+ MB\n"
     ]
    }
   ],
   "source": [
    "# average val preds\n",
    "desperado_val = foxhound_val.merge(\n",
    "    right=deadcell_val, how='inner', on=\"id\").merge(\n",
    "    right=cobra_val, how='inner', on=\"id\")\n",
    "\n",
    "desperado_val.columns = [\"id\", \"foxhound\", \"deadcell\", \"cobra\"]\n",
    "desperado_val[\"prediction\"] = (\n",
    "    desperado_val[\"foxhound\"] + \n",
    "    desperado_val[\"deadcell\"] + \n",
    "    desperado_val[\"cobra\"]\n",
    "    ) / 3\n",
    "desperado_val.info()"
   ]
  },
  {
   "cell_type": "code",
   "execution_count": 8,
   "metadata": {},
   "outputs": [
    {
     "name": "stdout",
     "output_type": "stream",
     "text": [
      "<class 'pandas.core.frame.DataFrame'>\n",
      "Int64Index: 5317 entries, 0 to 5316\n",
      "Data columns (total 5 columns):\n",
      " #   Column      Non-Null Count  Dtype  \n",
      "---  ------      --------------  -----  \n",
      " 0   id          5317 non-null   object \n",
      " 1   foxhound    5317 non-null   float64\n",
      " 2   deadcell    5317 non-null   float64\n",
      " 3   cobra       5317 non-null   float64\n",
      " 4   prediction  5317 non-null   float64\n",
      "dtypes: float64(4), object(1)\n",
      "memory usage: 249.2+ KB\n"
     ]
    }
   ],
   "source": [
    "# average live preds\n",
    "desperado_live = foxhound_live.merge(\n",
    "    right=deadcell_live, how='inner', on=\"id\").merge(\n",
    "    right=cobra_live, how='inner', on=\"id\")\n",
    "\n",
    "desperado_live.columns = [\"id\", \"foxhound\", \"deadcell\", \"cobra\"]\n",
    "desperado_live[\"prediction\"] = (\n",
    "    desperado_live[\"foxhound\"] + \n",
    "    desperado_live[\"deadcell\"] + \n",
    "    desperado_live[\"cobra\"]\n",
    "    ) / 3\n",
    "desperado_live.info()"
   ]
  },
  {
   "cell_type": "code",
   "execution_count": 9,
   "metadata": {},
   "outputs": [],
   "source": [
    "# save ensemble val preds\n",
    "desperado_val = desperado_val[[\"id\", \"prediction\"]].set_index(\"id\")\n",
    "desperado_val.to_csv(f\"predictions/{model_name}_val_preds_{current_round}.csv\")"
   ]
  },
  {
   "cell_type": "markdown",
   "metadata": {},
   "source": [
    "---\n",
    "# Save predictions"
   ]
  },
  {
   "cell_type": "code",
   "execution_count": 10,
   "metadata": {},
   "outputs": [],
   "source": [
    "# save ensemble live preds\n",
    "desperado_live = desperado_live[[\"id\", \"prediction\"]].set_index(\"id\")\n",
    "desperado_live.to_csv(f\"predictions/{model_name}_live_preds_{current_round}.csv\")"
   ]
  },
  {
   "cell_type": "code",
   "execution_count": null,
   "metadata": {},
   "outputs": [],
   "source": []
  }
 ],
 "metadata": {
  "colab": {
   "collapsed_sections": [],
   "include_colab_link": true,
   "machine_shape": "hm",
   "name": "numerai_base_model_v1",
   "provenance": []
  },
  "interpreter": {
   "hash": "0126e27fe55ec969de126c2cfdac2c99da69ebfdfbbeb83738b0925389a2d696"
  },
  "kernelspec": {
   "display_name": "projenv",
   "language": "python",
   "name": "python3"
  },
  "language_info": {
   "codemirror_mode": {
    "name": "ipython",
    "version": 3
   },
   "file_extension": ".py",
   "mimetype": "text/x-python",
   "name": "python",
   "nbconvert_exporter": "python",
   "pygments_lexer": "ipython3",
   "version": "3.10.2"
  }
 },
 "nbformat": 4,
 "nbformat_minor": 4
}
