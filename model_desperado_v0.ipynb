{
 "cells": [
  {
   "cell_type": "markdown",
   "metadata": {
    "id": "RUD4ylfaLZA6"
   },
   "source": [
    "# Model: Desperado v0\n",
    "\n",
    "**Model Parameters:**\n",
    "* Ensemble model with simple averaging\n",
    "* Including predictions from:\n",
    "    * Foxhoud_v0\n",
    "    * Deadcell_v0\n",
    "\n",
    "**Note:**\n",
    "* Updated: 2022-04-23"
   ]
  },
  {
   "cell_type": "markdown",
   "metadata": {
    "id": "dioJyoTnxEm3"
   },
   "source": [
    "---\n",
    "# Load data & libraries"
   ]
  },
  {
   "cell_type": "code",
   "execution_count": 1,
   "metadata": {},
   "outputs": [],
   "source": [
    "# TOP VERSION\n",
    "MODEL_NAME = \"desperado\"\n",
    "VERSION = 0"
   ]
  },
  {
   "cell_type": "code",
   "execution_count": 2,
   "metadata": {
    "id": "MaNpcfNkKUg_"
   },
   "outputs": [
    {
     "name": "stdout",
     "output_type": "stream",
     "text": [
      "\r"
     ]
    }
   ],
   "source": [
    "# import dependencies\n",
    "import pandas as pd\n",
    "import gc\n",
    "import json\n",
    "from pathlib import Path\n",
    "from numerapi import NumerAPI\n",
    "from utils import (\n",
    "    save_model,\n",
    "    load_model,\n",
    "    neutralize,\n",
    "    get_biggest_change_features,\n",
    "    ERA_COL,\n",
    "    DATA_TYPE_COL,\n",
    "    TARGET_COL,\n",
    ")\n",
    "from api_keys import (\n",
    "    PUBLIC_ID,\n",
    "    SECRET_KEY,\n",
    "    DESPERADO_MODEL_ID\n",
    ")"
   ]
  },
  {
   "cell_type": "code",
   "execution_count": 3,
   "metadata": {},
   "outputs": [
    {
     "name": "stdout",
     "output_type": "stream",
     "text": [
      "Current round #: 313\n",
      "\r"
     ]
    }
   ],
   "source": [
    "# instantiate numerai api\n",
    "napi = NumerAPI(public_id=PUBLIC_ID, secret_key=SECRET_KEY)\n",
    "current_round = napi.get_current_round()\n",
    "print(f\"Current round #: {current_round}\")"
   ]
  },
  {
   "cell_type": "code",
   "execution_count": 4,
   "metadata": {},
   "outputs": [
    {
     "name": "stdout",
     "output_type": "stream",
     "text": [
      "\n",
      "    Foxhound predictions: 5324\n",
      "    Deadcell pedictions: 5324\n",
      "    \n",
      "\r"
     ]
    }
   ],
   "source": [
    "# read predictions from models\n",
    "foxhound_preds = pd.read_csv(f\"predictions/dh_foxhound_v0_live_preds_{current_round}.csv\")\n",
    "deadcell_preds = pd.read_csv(f\"predictions/dh_deadcell_v0_live_preds_{current_round}.csv\")\n",
    "\n",
    "print(f\"\"\"\n",
    "    Foxhound predictions: {len(foxhound_preds)}\n",
    "    Deadcell pedictions: {len(deadcell_preds)}\n",
    "    \"\"\")"
   ]
  },
  {
   "cell_type": "markdown",
   "metadata": {},
   "source": [
    "---\n",
    "# Create ensemble prediction"
   ]
  },
  {
   "cell_type": "code",
   "execution_count": 7,
   "metadata": {},
   "outputs": [
    {
     "data": {
      "text/plain": [
       "'dh_desperado_v0'"
      ]
     },
     "execution_count": 7,
     "metadata": {},
     "output_type": "execute_result"
    },
    {
     "name": "stdout",
     "output_type": "stream",
     "text": [
      "\r"
     ]
    }
   ],
   "source": [
    "# model name\n",
    "model_name = f\"dh_{MODEL_NAME}_v{VERSION}\"\n",
    "model_name"
   ]
  },
  {
   "cell_type": "code",
   "execution_count": 15,
   "metadata": {},
   "outputs": [
    {
     "name": "stdout",
     "output_type": "stream",
     "text": [
      "<class 'pandas.core.frame.DataFrame'>\n",
      "Int64Index: 5324 entries, 0 to 5323\n",
      "Data columns (total 4 columns):\n",
      " #   Column      Non-Null Count  Dtype  \n",
      "---  ------      --------------  -----  \n",
      " 0   id          5324 non-null   object \n",
      " 1   foxhound    5324 non-null   float64\n",
      " 2   deadcell    5324 non-null   float64\n",
      " 3   prediction  5324 non-null   float64\n",
      "dtypes: float64(3), object(1)\n",
      "memory usage: 208.0+ KB\n",
      "\r"
     ]
    }
   ],
   "source": [
    "# average predictions\n",
    "desperado_df = foxhound_preds.merge(\n",
    "    right=deadcell_preds, \n",
    "    how='inner', \n",
    "    on=\"id\"\n",
    ")\n",
    "\n",
    "desperado_df.columns = [\"id\", \"foxhound\", \"deadcell\"]\n",
    "desperado_df[\"prediction\"] = (desperado_df[\"foxhound\"] + desperado_df[\"deadcell\"]) / 2\n",
    "desperado_df.info()"
   ]
  },
  {
   "cell_type": "code",
   "execution_count": 19,
   "metadata": {},
   "outputs": [
    {
     "name": "stdout",
     "output_type": "stream",
     "text": [
      "\r"
     ]
    }
   ],
   "source": [
    "# save ensemble prediction\n",
    "desperado_preds = desperado_df[[\"id\", \"prediction\"]].set_index(\"id\")\n",
    "desperado_preds.to_csv(f\"predictions/{model_name}_live_preds_{current_round}.csv\")"
   ]
  },
  {
   "cell_type": "code",
   "execution_count": 20,
   "metadata": {},
   "outputs": [
    {
     "name": "stderr",
     "output_type": "stream",
     "text": [
      "2022-04-23 20:06:44,040 INFO numerapi.base_api: uploading predictions...\n"
     ]
    },
    {
     "name": "stdout",
     "output_type": "stream",
     "text": [
      "Submitted live prediction file 'dh_desperado_v0_live_preds_313.csv'\n",
      "\r"
     ]
    }
   ],
   "source": [
    "# submit live predictions\n",
    "napi.upload_predictions(\n",
    "    file_path=f\"predictions/{model_name}_live_preds_{current_round}.csv\", \n",
    "    model_id=DESPERADO_MODEL_ID\n",
    ")\n",
    "\n",
    "print(f\"Submitted live prediction file '{model_name}_live_preds_{current_round}.csv'\")"
   ]
  },
  {
   "cell_type": "code",
   "execution_count": null,
   "metadata": {},
   "outputs": [],
   "source": []
  }
 ],
 "metadata": {
  "colab": {
   "collapsed_sections": [],
   "include_colab_link": true,
   "machine_shape": "hm",
   "name": "numerai_base_model_v1",
   "provenance": []
  },
  "interpreter": {
   "hash": "0126e27fe55ec969de126c2cfdac2c99da69ebfdfbbeb83738b0925389a2d696"
  },
  "kernelspec": {
   "display_name": "projenv",
   "language": "python",
   "name": "python3"
  },
  "language_info": {
   "codemirror_mode": {
    "name": "ipython",
    "version": 3
   },
   "file_extension": ".py",
   "mimetype": "text/x-python",
   "name": "python",
   "nbconvert_exporter": "python",
   "pygments_lexer": "ipython3",
   "version": "3.10.2"
  }
 },
 "nbformat": 4,
 "nbformat_minor": 4
}
