{
 "cells": [
  {
   "cell_type": "markdown",
   "metadata": {
    "id": "RUD4ylfaLZA6"
   },
   "source": [
    "# Model: Desperado v0"
   ]
  },
  {
   "cell_type": "markdown",
   "metadata": {
    "id": "dioJyoTnxEm3"
   },
   "source": [
    "---\n",
    "# Load data & libraries"
   ]
  },
  {
   "cell_type": "code",
   "execution_count": 1,
   "metadata": {},
   "outputs": [],
   "source": [
    "# TOP VERSION\n",
    "MODEL_NAME = \"desperado\"\n",
    "VERSION = 0"
   ]
  },
  {
   "cell_type": "code",
   "execution_count": 2,
   "metadata": {
    "id": "MaNpcfNkKUg_"
   },
   "outputs": [],
   "source": [
    "# import dependencies\n",
    "import pandas as pd\n",
    "from numerapi import NumerAPI\n",
    "from utils.api_keys import PUBLIC_ID, SECRET_KEY"
   ]
  },
  {
   "cell_type": "code",
   "execution_count": 3,
   "metadata": {},
   "outputs": [
    {
     "name": "stdout",
     "output_type": "stream",
     "text": [
      "Current round #: 316\n"
     ]
    }
   ],
   "source": [
    "# instantiate numerai api\n",
    "napi = NumerAPI(public_id=PUBLIC_ID, secret_key=SECRET_KEY)\n",
    "current_round = napi.get_current_round()\n",
    "print(f\"Current round #: {current_round}\")"
   ]
  },
  {
   "cell_type": "code",
   "execution_count": 4,
   "metadata": {},
   "outputs": [
    {
     "name": "stdout",
     "output_type": "stream",
     "text": [
      "\n",
      "    Foxhound predictions   : 2203644\n",
      "    Deadcell pedictions    : 2203644\n",
      "    Cobra pedictions       : 2203644\n",
      "    BeautyBeast pedictions : 2203644\n",
      "    Skulls pedictions      : 2203644\n",
      "    \n"
     ]
    }
   ],
   "source": [
    "# read val predictions from models\n",
    "foxhound_val = pd.read_csv(f\"predictions/dh_foxhound_v0_val_preds.csv\")\n",
    "deadcell_val = pd.read_csv(f\"predictions/dh_deadcell_v0_val_preds.csv\")\n",
    "cobra_val = pd.read_csv(f\"predictions/dh_cobra_v0_val_preds.csv\")\n",
    "beautybeast_val = pd.read_csv(f\"predictions/dh_beautybeast_v0_val_preds.csv\")\n",
    "skulls_val = pd.read_csv(f\"predictions/dh_skulls_v0_val_preds.csv\")\n",
    "\n",
    "print(f\"\"\"\n",
    "    Foxhound predictions   : {len(foxhound_val)}\n",
    "    Deadcell pedictions    : {len(deadcell_val)}\n",
    "    Cobra pedictions       : {len(cobra_val)}\n",
    "    BeautyBeast pedictions : {len(beautybeast_val)}\n",
    "    Skulls pedictions      : {len(skulls_val)}\n",
    "    \"\"\")"
   ]
  },
  {
   "cell_type": "code",
   "execution_count": 5,
   "metadata": {},
   "outputs": [
    {
     "name": "stdout",
     "output_type": "stream",
     "text": [
      "\n",
      "    Foxhound predictions   : 5261\n",
      "    Deadcell pedictions    : 5261\n",
      "    Cobra pedictions       : 5261\n",
      "    BeautyBeast pedictions : 5261\n",
      "    Skulls pedictions      : 5261\n",
      "    \n"
     ]
    }
   ],
   "source": [
    "# read live predictions from models\n",
    "foxhound_live = pd.read_csv(f\"predictions/dh_foxhound_v0_live_preds_{current_round}.csv\")\n",
    "deadcell_live = pd.read_csv(f\"predictions/dh_deadcell_v0_live_preds_{current_round}.csv\")\n",
    "cobra_live = pd.read_csv(f\"predictions/dh_cobra_v0_live_preds_{current_round}.csv\")\n",
    "beautybeast_live = pd.read_csv(f\"predictions/dh_beautybeast_v0_live_preds_{current_round}.csv\")\n",
    "skulls_live = pd.read_csv(f\"predictions/dh_skulls_v0_live_preds_{current_round}.csv\")\n",
    "\n",
    "print(f\"\"\"\n",
    "    Foxhound predictions   : {len(foxhound_live)}\n",
    "    Deadcell pedictions    : {len(deadcell_live)}\n",
    "    Cobra pedictions       : {len(cobra_live)}\n",
    "    BeautyBeast pedictions : {len(beautybeast_live)}\n",
    "    Skulls pedictions      : {len(skulls_live)}\n",
    "    \"\"\")"
   ]
  },
  {
   "cell_type": "markdown",
   "metadata": {},
   "source": [
    "---\n",
    "# Create ensemble prediction"
   ]
  },
  {
   "cell_type": "code",
   "execution_count": 6,
   "metadata": {},
   "outputs": [
    {
     "data": {
      "text/plain": [
       "'dh_desperado_v0'"
      ]
     },
     "execution_count": 6,
     "metadata": {},
     "output_type": "execute_result"
    }
   ],
   "source": [
    "# model name\n",
    "model_name = f\"dh_{MODEL_NAME}_v{VERSION}\"\n",
    "model_name"
   ]
  },
  {
   "cell_type": "code",
   "execution_count": 7,
   "metadata": {},
   "outputs": [
    {
     "name": "stdout",
     "output_type": "stream",
     "text": [
      "<class 'pandas.core.frame.DataFrame'>\n",
      "Int64Index: 2203644 entries, 0 to 2203643\n",
      "Data columns (total 7 columns):\n",
      " #   Column       Dtype  \n",
      "---  ------       -----  \n",
      " 0   id           object \n",
      " 1   foxhound     float64\n",
      " 2   deadcell     float64\n",
      " 3   cobra        float64\n",
      " 4   beautybeast  float64\n",
      " 5   skulls       float64\n",
      " 6   prediction   float64\n",
      "dtypes: float64(6), object(1)\n",
      "memory usage: 134.5+ MB\n"
     ]
    }
   ],
   "source": [
    "# average val preds\n",
    "desperado_val = foxhound_val.merge(\n",
    "    right=deadcell_val, how='inner', on=\"id\", suffixes=('', '2')).merge(\n",
    "    right=cobra_val, how='inner', on=\"id\", suffixes=('', '3')).merge(\n",
    "    right=beautybeast_val, how='inner', on=\"id\", suffixes=('', '4')).merge(\n",
    "    right=skulls_val, how='inner', on=\"id\", suffixes=('', '5'))\n",
    "\n",
    "desperado_val.columns = [\"id\", \"foxhound\", \"deadcell\", \"cobra\", \"beautybeast\", \"skulls\"]\n",
    "desperado_val[\"prediction\"] = (\n",
    "    desperado_val[\"foxhound\"] + \n",
    "    desperado_val[\"deadcell\"] + \n",
    "    desperado_val[\"cobra\"] +\n",
    "    desperado_val[\"beautybeast\"] +\n",
    "    desperado_val[\"skulls\"]\n",
    "    ) / 5\n",
    "desperado_val.info()"
   ]
  },
  {
   "cell_type": "code",
   "execution_count": 8,
   "metadata": {},
   "outputs": [
    {
     "name": "stdout",
     "output_type": "stream",
     "text": [
      "<class 'pandas.core.frame.DataFrame'>\n",
      "Int64Index: 5261 entries, 0 to 5260\n",
      "Data columns (total 7 columns):\n",
      " #   Column       Non-Null Count  Dtype  \n",
      "---  ------       --------------  -----  \n",
      " 0   id           5261 non-null   object \n",
      " 1   foxhound     5261 non-null   float64\n",
      " 2   deadcell     5261 non-null   float64\n",
      " 3   cobra        5261 non-null   float64\n",
      " 4   beautybeast  5261 non-null   float64\n",
      " 5   skulls       5261 non-null   float64\n",
      " 6   prediction   5261 non-null   float64\n",
      "dtypes: float64(6), object(1)\n",
      "memory usage: 328.8+ KB\n"
     ]
    }
   ],
   "source": [
    "# average live preds\n",
    "desperado_live = foxhound_live.merge(\n",
    "    right=deadcell_live, how='inner', on=\"id\", suffixes=('', '2')).merge(\n",
    "    right=cobra_live, how='inner', on=\"id\", suffixes=('', '3')).merge(\n",
    "    right=beautybeast_live, how='inner', on=\"id\", suffixes=('', '4')).merge(\n",
    "    right=skulls_live, how='inner', on=\"id\", suffixes=('', '5'))\n",
    "\n",
    "desperado_live.columns = [\"id\", \"foxhound\", \"deadcell\", \"cobra\", \"beautybeast\", \"skulls\"]\n",
    "desperado_live[\"prediction\"] = (\n",
    "    desperado_live[\"foxhound\"] + \n",
    "    desperado_live[\"deadcell\"] + \n",
    "    desperado_live[\"cobra\"] +\n",
    "    desperado_live[\"beautybeast\"] +\n",
    "    desperado_live[\"skulls\"]\n",
    "    ) / 5\n",
    "desperado_live.info()"
   ]
  },
  {
   "cell_type": "code",
   "execution_count": 9,
   "metadata": {},
   "outputs": [
    {
     "data": {
      "text/html": [
       "<div>\n",
       "<style scoped>\n",
       "    .dataframe tbody tr th:only-of-type {\n",
       "        vertical-align: middle;\n",
       "    }\n",
       "\n",
       "    .dataframe tbody tr th {\n",
       "        vertical-align: top;\n",
       "    }\n",
       "\n",
       "    .dataframe thead th {\n",
       "        text-align: right;\n",
       "    }\n",
       "</style>\n",
       "<table border=\"1\" class=\"dataframe\">\n",
       "  <thead>\n",
       "    <tr style=\"text-align: right;\">\n",
       "      <th></th>\n",
       "      <th>id</th>\n",
       "      <th>foxhound</th>\n",
       "      <th>deadcell</th>\n",
       "      <th>cobra</th>\n",
       "      <th>beautybeast</th>\n",
       "      <th>skulls</th>\n",
       "      <th>prediction</th>\n",
       "    </tr>\n",
       "  </thead>\n",
       "  <tbody>\n",
       "    <tr>\n",
       "      <th>0</th>\n",
       "      <td>n000101811a8a843</td>\n",
       "      <td>0.129369</td>\n",
       "      <td>0.083149</td>\n",
       "      <td>0.021469</td>\n",
       "      <td>0.113878</td>\n",
       "      <td>0.167100</td>\n",
       "      <td>0.102993</td>\n",
       "    </tr>\n",
       "    <tr>\n",
       "      <th>1</th>\n",
       "      <td>n001e1318d5072ac</td>\n",
       "      <td>0.439908</td>\n",
       "      <td>0.511116</td>\n",
       "      <td>0.757530</td>\n",
       "      <td>0.829601</td>\n",
       "      <td>0.809236</td>\n",
       "      <td>0.669478</td>\n",
       "    </tr>\n",
       "    <tr>\n",
       "      <th>2</th>\n",
       "      <td>n002a9c5ab785cbb</td>\n",
       "      <td>0.834553</td>\n",
       "      <td>0.442237</td>\n",
       "      <td>0.753046</td>\n",
       "      <td>0.823740</td>\n",
       "      <td>0.417082</td>\n",
       "      <td>0.654132</td>\n",
       "    </tr>\n",
       "    <tr>\n",
       "      <th>3</th>\n",
       "      <td>n002ccf6d0e8c5ad</td>\n",
       "      <td>0.929264</td>\n",
       "      <td>0.899298</td>\n",
       "      <td>0.966960</td>\n",
       "      <td>0.997238</td>\n",
       "      <td>0.967952</td>\n",
       "      <td>0.952142</td>\n",
       "    </tr>\n",
       "    <tr>\n",
       "      <th>4</th>\n",
       "      <td>n0051ab821295c29</td>\n",
       "      <td>0.169530</td>\n",
       "      <td>0.265021</td>\n",
       "      <td>0.082918</td>\n",
       "      <td>0.142973</td>\n",
       "      <td>0.364021</td>\n",
       "      <td>0.204893</td>\n",
       "    </tr>\n",
       "  </tbody>\n",
       "</table>\n",
       "</div>"
      ],
      "text/plain": [
       "                 id  foxhound  deadcell     cobra  beautybeast    skulls  \\\n",
       "0  n000101811a8a843  0.129369  0.083149  0.021469     0.113878  0.167100   \n",
       "1  n001e1318d5072ac  0.439908  0.511116  0.757530     0.829601  0.809236   \n",
       "2  n002a9c5ab785cbb  0.834553  0.442237  0.753046     0.823740  0.417082   \n",
       "3  n002ccf6d0e8c5ad  0.929264  0.899298  0.966960     0.997238  0.967952   \n",
       "4  n0051ab821295c29  0.169530  0.265021  0.082918     0.142973  0.364021   \n",
       "\n",
       "   prediction  \n",
       "0    0.102993  \n",
       "1    0.669478  \n",
       "2    0.654132  \n",
       "3    0.952142  \n",
       "4    0.204893  "
      ]
     },
     "execution_count": 9,
     "metadata": {},
     "output_type": "execute_result"
    }
   ],
   "source": [
    "# check val file\n",
    "desperado_val.head()"
   ]
  },
  {
   "cell_type": "code",
   "execution_count": 10,
   "metadata": {},
   "outputs": [
    {
     "data": {
      "text/html": [
       "<div>\n",
       "<style scoped>\n",
       "    .dataframe tbody tr th:only-of-type {\n",
       "        vertical-align: middle;\n",
       "    }\n",
       "\n",
       "    .dataframe tbody tr th {\n",
       "        vertical-align: top;\n",
       "    }\n",
       "\n",
       "    .dataframe thead th {\n",
       "        text-align: right;\n",
       "    }\n",
       "</style>\n",
       "<table border=\"1\" class=\"dataframe\">\n",
       "  <thead>\n",
       "    <tr style=\"text-align: right;\">\n",
       "      <th></th>\n",
       "      <th>id</th>\n",
       "      <th>foxhound</th>\n",
       "      <th>deadcell</th>\n",
       "      <th>cobra</th>\n",
       "      <th>beautybeast</th>\n",
       "      <th>skulls</th>\n",
       "      <th>prediction</th>\n",
       "    </tr>\n",
       "  </thead>\n",
       "  <tbody>\n",
       "    <tr>\n",
       "      <th>0</th>\n",
       "      <td>n0006843375753e1</td>\n",
       "      <td>0.135145</td>\n",
       "      <td>0.139897</td>\n",
       "      <td>0.006273</td>\n",
       "      <td>0.356396</td>\n",
       "      <td>0.091427</td>\n",
       "      <td>0.145828</td>\n",
       "    </tr>\n",
       "    <tr>\n",
       "      <th>1</th>\n",
       "      <td>n0010bd0421b85ac</td>\n",
       "      <td>0.073180</td>\n",
       "      <td>0.739593</td>\n",
       "      <td>0.739973</td>\n",
       "      <td>0.412469</td>\n",
       "      <td>0.794526</td>\n",
       "      <td>0.551948</td>\n",
       "    </tr>\n",
       "    <tr>\n",
       "      <th>2</th>\n",
       "      <td>n002700a0e788fec</td>\n",
       "      <td>0.744725</td>\n",
       "      <td>0.241969</td>\n",
       "      <td>0.896027</td>\n",
       "      <td>0.647405</td>\n",
       "      <td>0.882342</td>\n",
       "      <td>0.682494</td>\n",
       "    </tr>\n",
       "    <tr>\n",
       "      <th>3</th>\n",
       "      <td>n002ad486d22e61c</td>\n",
       "      <td>0.435278</td>\n",
       "      <td>0.768105</td>\n",
       "      <td>0.614522</td>\n",
       "      <td>0.968637</td>\n",
       "      <td>0.757651</td>\n",
       "      <td>0.708839</td>\n",
       "    </tr>\n",
       "    <tr>\n",
       "      <th>4</th>\n",
       "      <td>n002ecfa1a4d30fa</td>\n",
       "      <td>0.888994</td>\n",
       "      <td>0.140468</td>\n",
       "      <td>0.444212</td>\n",
       "      <td>0.760692</td>\n",
       "      <td>0.489831</td>\n",
       "      <td>0.544839</td>\n",
       "    </tr>\n",
       "  </tbody>\n",
       "</table>\n",
       "</div>"
      ],
      "text/plain": [
       "                 id  foxhound  deadcell     cobra  beautybeast    skulls  \\\n",
       "0  n0006843375753e1  0.135145  0.139897  0.006273     0.356396  0.091427   \n",
       "1  n0010bd0421b85ac  0.073180  0.739593  0.739973     0.412469  0.794526   \n",
       "2  n002700a0e788fec  0.744725  0.241969  0.896027     0.647405  0.882342   \n",
       "3  n002ad486d22e61c  0.435278  0.768105  0.614522     0.968637  0.757651   \n",
       "4  n002ecfa1a4d30fa  0.888994  0.140468  0.444212     0.760692  0.489831   \n",
       "\n",
       "   prediction  \n",
       "0    0.145828  \n",
       "1    0.551948  \n",
       "2    0.682494  \n",
       "3    0.708839  \n",
       "4    0.544839  "
      ]
     },
     "execution_count": 10,
     "metadata": {},
     "output_type": "execute_result"
    }
   ],
   "source": [
    "# check live file\n",
    "desperado_live.head()"
   ]
  },
  {
   "cell_type": "markdown",
   "metadata": {},
   "source": [
    "---\n",
    "# Save predictions"
   ]
  },
  {
   "cell_type": "code",
   "execution_count": 11,
   "metadata": {},
   "outputs": [],
   "source": [
    "# save ensemble preds\n",
    "desperado_val = desperado_val[[\"id\", \"prediction\"]].set_index(\"id\")\n",
    "desperado_live = desperado_live[[\"id\", \"prediction\"]].set_index(\"id\")\n",
    "\n",
    "desperado_val.to_csv(f\"predictions/{model_name}_val_preds.csv\")\n",
    "desperado_live.to_csv(f\"predictions/{model_name}_live_preds_{current_round}.csv\")"
   ]
  },
  {
   "cell_type": "code",
   "execution_count": null,
   "metadata": {},
   "outputs": [],
   "source": []
  }
 ],
 "metadata": {
  "colab": {
   "collapsed_sections": [],
   "include_colab_link": true,
   "machine_shape": "hm",
   "name": "numerai_base_model_v1",
   "provenance": []
  },
  "interpreter": {
   "hash": "0126e27fe55ec969de126c2cfdac2c99da69ebfdfbbeb83738b0925389a2d696"
  },
  "kernelspec": {
   "display_name": "projenv",
   "language": "python",
   "name": "python3"
  },
  "language_info": {
   "codemirror_mode": {
    "name": "ipython",
    "version": 3
   },
   "file_extension": ".py",
   "mimetype": "text/x-python",
   "name": "python",
   "nbconvert_exporter": "python",
   "pygments_lexer": "ipython3",
   "version": "3.10.2"
  }
 },
 "nbformat": 4,
 "nbformat_minor": 4
}
