{
 "cells": [
  {
   "cell_type": "markdown",
   "metadata": {
    "id": "RUD4ylfaLZA6"
   },
   "source": [
    "# Model: Desperado v0"
   ]
  },
  {
   "cell_type": "markdown",
   "metadata": {
    "id": "dioJyoTnxEm3"
   },
   "source": [
    "---\n",
    "# Load data & libraries"
   ]
  },
  {
   "cell_type": "code",
   "execution_count": 1,
   "metadata": {},
   "outputs": [],
   "source": [
    "# TOP VERSION\n",
    "MODEL_NAME = \"desperado\"\n",
    "VERSION = 0"
   ]
  },
  {
   "cell_type": "code",
   "execution_count": 2,
   "metadata": {
    "id": "MaNpcfNkKUg_"
   },
   "outputs": [],
   "source": [
    "# import dependencies\n",
    "import pandas as pd\n",
    "from numerapi import NumerAPI\n",
    "from utils.api_keys import PUBLIC_ID, SECRET_KEY"
   ]
  },
  {
   "cell_type": "code",
   "execution_count": 3,
   "metadata": {},
   "outputs": [
    {
     "name": "stdout",
     "output_type": "stream",
     "text": [
      "Current round #: 315\n"
     ]
    }
   ],
   "source": [
    "# instantiate numerai api\n",
    "napi = NumerAPI(public_id=PUBLIC_ID, secret_key=SECRET_KEY)\n",
    "current_round = napi.get_current_round()\n",
    "print(f\"Current round #: {current_round}\")"
   ]
  },
  {
   "cell_type": "code",
   "execution_count": 6,
   "metadata": {},
   "outputs": [
    {
     "name": "stdout",
     "output_type": "stream",
     "text": [
      "\n",
      "    Foxhound predictions   : 2203644\n",
      "    Deadcell pedictions    : 2203644\n",
      "    Cobra pedictions       : 2203644\n",
      "    BeautyBeast pedictions : 2203644\n",
      "    \n"
     ]
    }
   ],
   "source": [
    "# read val predictions from models\n",
    "foxhound_val = pd.read_csv(f\"predictions/dh_foxhound_v0_val_preds.csv\")\n",
    "deadcell_val = pd.read_csv(f\"predictions/dh_deadcell_v0_val_preds.csv\")\n",
    "cobra_val = pd.read_csv(f\"predictions/dh_cobra_v0_val_preds.csv\")\n",
    "beautybeast_val = pd.read_csv(f\"predictions/dh_beautybeast_v0_val_preds.csv\")\n",
    "\n",
    "print(f\"\"\"\n",
    "    Foxhound predictions   : {len(foxhound_val)}\n",
    "    Deadcell pedictions    : {len(deadcell_val)}\n",
    "    Cobra pedictions       : {len(cobra_val)}\n",
    "    BeautyBeast pedictions : {len(beautybeast_val)}\n",
    "    \"\"\")"
   ]
  },
  {
   "cell_type": "code",
   "execution_count": 7,
   "metadata": {},
   "outputs": [
    {
     "name": "stdout",
     "output_type": "stream",
     "text": [
      "\n",
      "    Foxhound predictions   : 5296\n",
      "    Deadcell pedictions    : 5296\n",
      "    Cobra pedictions       : 5296\n",
      "    BeautyBeast pedictions : 5296\n",
      "    \n"
     ]
    }
   ],
   "source": [
    "# read live predictions from models\n",
    "foxhound_live = pd.read_csv(f\"predictions/dh_foxhound_v0_live_preds_{current_round}.csv\")\n",
    "deadcell_live = pd.read_csv(f\"predictions/dh_deadcell_v0_live_preds_{current_round}.csv\")\n",
    "cobra_live = pd.read_csv(f\"predictions/dh_cobra_v0_live_preds_{current_round}.csv\")\n",
    "beautybeast_live = pd.read_csv(f\"predictions/dh_beautybeast_v0_live_preds_{current_round}.csv\")\n",
    "\n",
    "print(f\"\"\"\n",
    "    Foxhound predictions   : {len(foxhound_live)}\n",
    "    Deadcell pedictions    : {len(deadcell_live)}\n",
    "    Cobra pedictions       : {len(cobra_live)}\n",
    "    BeautyBeast pedictions : {len(beautybeast_live)}\n",
    "    \"\"\")"
   ]
  },
  {
   "cell_type": "markdown",
   "metadata": {},
   "source": [
    "---\n",
    "# Create ensemble prediction"
   ]
  },
  {
   "cell_type": "code",
   "execution_count": 8,
   "metadata": {},
   "outputs": [
    {
     "data": {
      "text/plain": [
       "'dh_desperado_v0'"
      ]
     },
     "execution_count": 8,
     "metadata": {},
     "output_type": "execute_result"
    }
   ],
   "source": [
    "# model name\n",
    "model_name = f\"dh_{MODEL_NAME}_v{VERSION}\"\n",
    "model_name"
   ]
  },
  {
   "cell_type": "code",
   "execution_count": 11,
   "metadata": {},
   "outputs": [
    {
     "name": "stdout",
     "output_type": "stream",
     "text": [
      "<class 'pandas.core.frame.DataFrame'>\n",
      "Int64Index: 2203644 entries, 0 to 2203643\n",
      "Data columns (total 6 columns):\n",
      " #   Column       Dtype  \n",
      "---  ------       -----  \n",
      " 0   id           object \n",
      " 1   foxhound     float64\n",
      " 2   deadcell     float64\n",
      " 3   cobra        float64\n",
      " 4   beautybeast  float64\n",
      " 5   prediction   float64\n",
      "dtypes: float64(5), object(1)\n",
      "memory usage: 117.7+ MB\n"
     ]
    }
   ],
   "source": [
    "# average val preds\n",
    "desperado_val = foxhound_val.merge(\n",
    "    right=deadcell_val, how='inner', on=\"id\", suffixes=('', '2')).merge(\n",
    "    right=cobra_val, how='inner', on=\"id\", suffixes=('', '3')).merge(\n",
    "    right=beautybeast_val, how='inner', on=\"id\", suffixes=('', '4'))\n",
    "\n",
    "desperado_val.columns = [\"id\", \"foxhound\", \"deadcell\", \"cobra\", \"beautybeast\"]\n",
    "desperado_val[\"prediction\"] = (\n",
    "    desperado_val[\"foxhound\"] + \n",
    "    desperado_val[\"deadcell\"] + \n",
    "    desperado_val[\"cobra\"] +\n",
    "    desperado_val[\"beautybeast\"]\n",
    "    ) / 4\n",
    "desperado_val.info()"
   ]
  },
  {
   "cell_type": "code",
   "execution_count": 12,
   "metadata": {},
   "outputs": [
    {
     "name": "stdout",
     "output_type": "stream",
     "text": [
      "<class 'pandas.core.frame.DataFrame'>\n",
      "Int64Index: 5296 entries, 0 to 5295\n",
      "Data columns (total 6 columns):\n",
      " #   Column       Non-Null Count  Dtype  \n",
      "---  ------       --------------  -----  \n",
      " 0   id           5296 non-null   object \n",
      " 1   foxhound     5296 non-null   float64\n",
      " 2   deadcell     5296 non-null   float64\n",
      " 3   cobra        5296 non-null   float64\n",
      " 4   beautybeast  5296 non-null   float64\n",
      " 5   prediction   5296 non-null   float64\n",
      "dtypes: float64(5), object(1)\n",
      "memory usage: 289.6+ KB\n"
     ]
    }
   ],
   "source": [
    "# average live preds\n",
    "desperado_live = foxhound_live.merge(\n",
    "    right=deadcell_live, how='inner', on=\"id\", suffixes=('', '2')).merge(\n",
    "    right=cobra_live, how='inner', on=\"id\", suffixes=('', '3')).merge(\n",
    "    right=beautybeast_live, how='inner', on=\"id\", suffixes=('', '4'))\n",
    "\n",
    "desperado_live.columns = [\"id\", \"foxhound\", \"deadcell\", \"cobra\", \"beautybeast\"]\n",
    "desperado_live[\"prediction\"] = (\n",
    "    desperado_live[\"foxhound\"] + \n",
    "    desperado_live[\"deadcell\"] + \n",
    "    desperado_live[\"cobra\"] +\n",
    "    desperado_live[\"beautybeast\"]\n",
    "    ) / 4\n",
    "desperado_live.info()"
   ]
  },
  {
   "cell_type": "code",
   "execution_count": 13,
   "metadata": {},
   "outputs": [
    {
     "data": {
      "text/html": [
       "<div>\n",
       "<style scoped>\n",
       "    .dataframe tbody tr th:only-of-type {\n",
       "        vertical-align: middle;\n",
       "    }\n",
       "\n",
       "    .dataframe tbody tr th {\n",
       "        vertical-align: top;\n",
       "    }\n",
       "\n",
       "    .dataframe thead th {\n",
       "        text-align: right;\n",
       "    }\n",
       "</style>\n",
       "<table border=\"1\" class=\"dataframe\">\n",
       "  <thead>\n",
       "    <tr style=\"text-align: right;\">\n",
       "      <th></th>\n",
       "      <th>id</th>\n",
       "      <th>foxhound</th>\n",
       "      <th>deadcell</th>\n",
       "      <th>cobra</th>\n",
       "      <th>beautybeast</th>\n",
       "      <th>prediction</th>\n",
       "    </tr>\n",
       "  </thead>\n",
       "  <tbody>\n",
       "    <tr>\n",
       "      <th>0</th>\n",
       "      <td>n000101811a8a843</td>\n",
       "      <td>0.129369</td>\n",
       "      <td>0.083149</td>\n",
       "      <td>0.009770</td>\n",
       "      <td>0.113878</td>\n",
       "      <td>0.084041</td>\n",
       "    </tr>\n",
       "    <tr>\n",
       "      <th>1</th>\n",
       "      <td>n001e1318d5072ac</td>\n",
       "      <td>0.439908</td>\n",
       "      <td>0.511116</td>\n",
       "      <td>0.763217</td>\n",
       "      <td>0.829601</td>\n",
       "      <td>0.635960</td>\n",
       "    </tr>\n",
       "    <tr>\n",
       "      <th>2</th>\n",
       "      <td>n002a9c5ab785cbb</td>\n",
       "      <td>0.834553</td>\n",
       "      <td>0.442237</td>\n",
       "      <td>0.684775</td>\n",
       "      <td>0.823740</td>\n",
       "      <td>0.696326</td>\n",
       "    </tr>\n",
       "    <tr>\n",
       "      <th>3</th>\n",
       "      <td>n002ccf6d0e8c5ad</td>\n",
       "      <td>0.929264</td>\n",
       "      <td>0.899298</td>\n",
       "      <td>0.881232</td>\n",
       "      <td>0.997238</td>\n",
       "      <td>0.926758</td>\n",
       "    </tr>\n",
       "    <tr>\n",
       "      <th>4</th>\n",
       "      <td>n0051ab821295c29</td>\n",
       "      <td>0.169530</td>\n",
       "      <td>0.265021</td>\n",
       "      <td>0.035853</td>\n",
       "      <td>0.142973</td>\n",
       "      <td>0.153345</td>\n",
       "    </tr>\n",
       "  </tbody>\n",
       "</table>\n",
       "</div>"
      ],
      "text/plain": [
       "                 id  foxhound  deadcell     cobra  beautybeast  prediction\n",
       "0  n000101811a8a843  0.129369  0.083149  0.009770     0.113878    0.084041\n",
       "1  n001e1318d5072ac  0.439908  0.511116  0.763217     0.829601    0.635960\n",
       "2  n002a9c5ab785cbb  0.834553  0.442237  0.684775     0.823740    0.696326\n",
       "3  n002ccf6d0e8c5ad  0.929264  0.899298  0.881232     0.997238    0.926758\n",
       "4  n0051ab821295c29  0.169530  0.265021  0.035853     0.142973    0.153345"
      ]
     },
     "execution_count": 13,
     "metadata": {},
     "output_type": "execute_result"
    }
   ],
   "source": [
    "# check val file\n",
    "desperado_val.head()"
   ]
  },
  {
   "cell_type": "code",
   "execution_count": 14,
   "metadata": {},
   "outputs": [
    {
     "data": {
      "text/html": [
       "<div>\n",
       "<style scoped>\n",
       "    .dataframe tbody tr th:only-of-type {\n",
       "        vertical-align: middle;\n",
       "    }\n",
       "\n",
       "    .dataframe tbody tr th {\n",
       "        vertical-align: top;\n",
       "    }\n",
       "\n",
       "    .dataframe thead th {\n",
       "        text-align: right;\n",
       "    }\n",
       "</style>\n",
       "<table border=\"1\" class=\"dataframe\">\n",
       "  <thead>\n",
       "    <tr style=\"text-align: right;\">\n",
       "      <th></th>\n",
       "      <th>id</th>\n",
       "      <th>foxhound</th>\n",
       "      <th>deadcell</th>\n",
       "      <th>cobra</th>\n",
       "      <th>beautybeast</th>\n",
       "      <th>prediction</th>\n",
       "    </tr>\n",
       "  </thead>\n",
       "  <tbody>\n",
       "    <tr>\n",
       "      <th>0</th>\n",
       "      <td>n00145e088eeee46</td>\n",
       "      <td>0.777379</td>\n",
       "      <td>0.599887</td>\n",
       "      <td>0.797961</td>\n",
       "      <td>0.508308</td>\n",
       "      <td>0.670884</td>\n",
       "    </tr>\n",
       "    <tr>\n",
       "      <th>1</th>\n",
       "      <td>n002049bbe13ce5b</td>\n",
       "      <td>0.032477</td>\n",
       "      <td>0.058346</td>\n",
       "      <td>0.063255</td>\n",
       "      <td>0.026246</td>\n",
       "      <td>0.045081</td>\n",
       "    </tr>\n",
       "    <tr>\n",
       "      <th>2</th>\n",
       "      <td>n00260dbcadb07ea</td>\n",
       "      <td>0.081760</td>\n",
       "      <td>0.047961</td>\n",
       "      <td>0.087991</td>\n",
       "      <td>0.325340</td>\n",
       "      <td>0.135763</td>\n",
       "    </tr>\n",
       "    <tr>\n",
       "      <th>3</th>\n",
       "      <td>n0029a05645f09d4</td>\n",
       "      <td>0.902568</td>\n",
       "      <td>0.712613</td>\n",
       "      <td>0.756420</td>\n",
       "      <td>0.723376</td>\n",
       "      <td>0.773744</td>\n",
       "    </tr>\n",
       "    <tr>\n",
       "      <th>4</th>\n",
       "      <td>n002fbd4f847eb9a</td>\n",
       "      <td>0.511896</td>\n",
       "      <td>0.477530</td>\n",
       "      <td>0.234705</td>\n",
       "      <td>0.955627</td>\n",
       "      <td>0.544940</td>\n",
       "    </tr>\n",
       "  </tbody>\n",
       "</table>\n",
       "</div>"
      ],
      "text/plain": [
       "                 id  foxhound  deadcell     cobra  beautybeast  prediction\n",
       "0  n00145e088eeee46  0.777379  0.599887  0.797961     0.508308    0.670884\n",
       "1  n002049bbe13ce5b  0.032477  0.058346  0.063255     0.026246    0.045081\n",
       "2  n00260dbcadb07ea  0.081760  0.047961  0.087991     0.325340    0.135763\n",
       "3  n0029a05645f09d4  0.902568  0.712613  0.756420     0.723376    0.773744\n",
       "4  n002fbd4f847eb9a  0.511896  0.477530  0.234705     0.955627    0.544940"
      ]
     },
     "execution_count": 14,
     "metadata": {},
     "output_type": "execute_result"
    }
   ],
   "source": [
    "# check live file\n",
    "desperado_live.head()"
   ]
  },
  {
   "cell_type": "markdown",
   "metadata": {},
   "source": [
    "---\n",
    "# Save predictions"
   ]
  },
  {
   "cell_type": "code",
   "execution_count": 15,
   "metadata": {},
   "outputs": [],
   "source": [
    "# save ensemble preds\n",
    "desperado_val = desperado_val[[\"id\", \"prediction\"]].set_index(\"id\")\n",
    "desperado_live = desperado_live[[\"id\", \"prediction\"]].set_index(\"id\")\n",
    "\n",
    "desperado_val.to_csv(f\"predictions/{model_name}_val_preds.csv\")\n",
    "desperado_live.to_csv(f\"predictions/{model_name}_live_preds_{current_round}.csv\")"
   ]
  },
  {
   "cell_type": "code",
   "execution_count": null,
   "metadata": {},
   "outputs": [],
   "source": []
  }
 ],
 "metadata": {
  "colab": {
   "collapsed_sections": [],
   "include_colab_link": true,
   "machine_shape": "hm",
   "name": "numerai_base_model_v1",
   "provenance": []
  },
  "interpreter": {
   "hash": "0126e27fe55ec969de126c2cfdac2c99da69ebfdfbbeb83738b0925389a2d696"
  },
  "kernelspec": {
   "display_name": "projenv",
   "language": "python",
   "name": "python3"
  },
  "language_info": {
   "codemirror_mode": {
    "name": "ipython",
    "version": 3
   },
   "file_extension": ".py",
   "mimetype": "text/x-python",
   "name": "python",
   "nbconvert_exporter": "python",
   "pygments_lexer": "ipython3",
   "version": "3.10.2"
  }
 },
 "nbformat": 4,
 "nbformat_minor": 4
}
