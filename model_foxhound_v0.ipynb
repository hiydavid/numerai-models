{
 "cells": [
  {
   "cell_type": "markdown",
   "metadata": {
    "id": "RUD4ylfaLZA6"
   },
   "source": [
    "# Model: Foxhound v0\n",
    "\n",
    "**Model Parameters:**\n",
    "* LightGBM\n",
    "* Trained on all medium features\n",
    "* Top 50 riskiest features neuralized\n",
    "* Params:\n",
    "    * \"n_estimators\": 2000\n",
    "    * \"learning_rate\": 0.01\n",
    "    * \"max_depth\": 5\n",
    "    * \"num_leaves\": 2 ** 5\n",
    "    * \"colsample_bytree\": 0.1\n",
    "\n",
    "**Note:**\n",
    "* This is the base model with the numerai given params\n",
    "* Updated: 2022-04-18"
   ]
  },
  {
   "cell_type": "markdown",
   "metadata": {
    "id": "dioJyoTnxEm3"
   },
   "source": [
    "---\n",
    "# Load data & libraries"
   ]
  },
  {
   "cell_type": "code",
   "execution_count": 10,
   "metadata": {},
   "outputs": [
    {
     "name": "stdout",
     "output_type": "stream",
     "text": [
      "\r"
     ]
    }
   ],
   "source": [
    "# TOP VERSION\n",
    "MODEL_NAME = \"foxhound\"\n",
    "FEATURE_NEUTRALIZED = 50\n",
    "VERSION = 0\n",
    "\n",
    "PUBLIC_ID = \"USAJI5VFAQTHXKYONZOO3YJY5YMQ7YK2\"\n",
    "SECRET_KEY = \"GEFOCGZVO7ETBF5J6ZECBDKOKN75UHGRF3ZLTAD23DVENYFLQ5LVSFH7ALKORHOV\"\n",
    "MODEL_ID = \"4d9bcd2c-69cb-4e17-a3f3-a4b2530cbcb8\""
   ]
  },
  {
   "cell_type": "code",
   "execution_count": 2,
   "metadata": {
    "id": "MaNpcfNkKUg_"
   },
   "outputs": [
    {
     "name": "stdout",
     "output_type": "stream",
     "text": [
      "\r"
     ]
    }
   ],
   "source": [
    "# import dependencies\n",
    "import pandas as pd\n",
    "from sklearn.ensemble import HistGradientBoostingRegressor\n",
    "from lightgbm import LGBMRegressor\n",
    "import gc\n",
    "import json\n",
    "from pathlib import Path\n",
    "from numerapi import NumerAPI\n",
    "from utils import (\n",
    "    save_model,\n",
    "    load_model,\n",
    "    neutralize,\n",
    "    get_biggest_change_features,\n",
    "    validation_metrics,\n",
    "    ERA_COL,\n",
    "    DATA_TYPE_COL,\n",
    "    TARGET_COL,\n",
    "    EXAMPLE_PREDS_COL\n",
    ")"
   ]
  },
  {
   "cell_type": "code",
   "execution_count": 4,
   "metadata": {},
   "outputs": [
    {
     "name": "stdout",
     "output_type": "stream",
     "text": [
      "Current round #: 312\n",
      "\r"
     ]
    }
   ],
   "source": [
    "# instantiate numerai api\n",
    "napi = NumerAPI(public_id=PUBLIC_ID, secret_key=SECRET_KEY)\n",
    "current_round = napi.get_current_round()\n",
    "print(f\"Current round #: {current_round}\")"
   ]
  },
  {
   "cell_type": "code",
   "execution_count": 5,
   "metadata": {},
   "outputs": [
    {
     "name": "stdout",
     "output_type": "stream",
     "text": [
      "Reading minimal training data\n",
      "\r"
     ]
    }
   ],
   "source": [
    "# read the feature metadata and get the \"medium\" feature set\n",
    "print('Reading minimal training data')\n",
    "\n",
    "with open(\"data/features.json\", \"r\") as f:\n",
    "    feature_metadata = json.load(f)\n",
    "features = feature_metadata[\"feature_sets\"][\"medium\"]\n",
    "read_columns = features + [ERA_COL, DATA_TYPE_COL, TARGET_COL]\n",
    "\n",
    "training_data = pd.read_parquet('data/train.parquet', columns=read_columns)\n",
    "validation_data = pd.read_parquet('data/validation.parquet', columns=read_columns)\n",
    "live_data = pd.read_parquet(f'data/live_{current_round}.parquet', columns=read_columns)"
   ]
  },
  {
   "cell_type": "markdown",
   "metadata": {},
   "source": [
    "---\n",
    "# Feature selection"
   ]
  },
  {
   "cell_type": "code",
   "execution_count": 6,
   "metadata": {},
   "outputs": [
    {
     "name": "stdout",
     "output_type": "stream",
     "text": [
      "\r"
     ]
    }
   ],
   "source": [
    "# getting the per era correlation of each feature vs the target\n",
    "all_feature_corrs = training_data.groupby(ERA_COL).apply(\n",
    "    lambda era: era[features].corrwith(era[TARGET_COL])\n",
    ")"
   ]
  },
  {
   "cell_type": "code",
   "execution_count": 7,
   "metadata": {},
   "outputs": [
    {
     "data": {
      "text/plain": [
       "['feature_censorial_leachier_rickshaw',\n",
       " 'feature_basophil_urdy_matzo',\n",
       " 'feature_unsustaining_chewier_adnoun',\n",
       " 'feature_confusable_pursy_plosion',\n",
       " 'feature_protonematal_springtime_varioloid',\n",
       " 'feature_choosier_uncongenial_coachwood',\n",
       " 'feature_scissile_dejected_kainite',\n",
       " 'feature_unimaginable_sec_kaka',\n",
       " 'feature_percipient_atelectatic_cinnamon',\n",
       " 'feature_narcotized_collectivist_evzone',\n",
       " 'feature_pruinose_raploch_roubaix',\n",
       " 'feature_trespassing_unmacadamized_villeneuve',\n",
       " 'feature_holy_chic_cali',\n",
       " 'feature_revitalizing_rutilant_swastika',\n",
       " 'feature_pulverized_unified_dupery',\n",
       " 'feature_skim_unmeant_bandsman',\n",
       " 'feature_southerly_assonant_amicability',\n",
       " 'feature_illuvial_algebraic_modem',\n",
       " 'feature_unsizable_ancestral_collocutor',\n",
       " 'feature_unreversed_fain_jute',\n",
       " 'feature_coraciiform_sciurine_reef',\n",
       " 'feature_galactopoietic_luckiest_protecting',\n",
       " 'feature_lateral_confervoid_belgravia',\n",
       " 'feature_flawed_demonological_toady',\n",
       " 'feature_unrecognisable_waxier_paging',\n",
       " 'feature_paleolithic_myalgic_lech',\n",
       " 'feature_prelingual_impracticable_plagiocephaly',\n",
       " 'feature_phyletic_separate_genuflexion',\n",
       " 'feature_lamarckian_tarnal_egestion',\n",
       " 'feature_antimonial_unsold_hairdo',\n",
       " 'feature_gobony_premonitory_twinkler',\n",
       " 'feature_pluviometrical_biannual_saiga',\n",
       " 'feature_paraffinoid_flashiest_brotherhood',\n",
       " 'feature_translative_quantitative_eschewer',\n",
       " 'feature_dormie_sodden_steed',\n",
       " 'feature_coalier_hircine_brokerage',\n",
       " 'feature_multiseriate_oak_benzidine',\n",
       " 'feature_unsheltered_doughtiest_episiotomy',\n",
       " 'feature_rose_buttoned_dandy',\n",
       " 'feature_noctilucent_subcortical_proportionality',\n",
       " 'feature_preceptive_rushed_swedenborgian',\n",
       " 'feature_cuddlesome_undernamed_incidental',\n",
       " 'feature_undepreciated_partitive_ipomoea',\n",
       " 'feature_favourable_swankiest_tympanist',\n",
       " 'feature_coactive_bandoleered_trogon',\n",
       " 'feature_guardant_giocoso_natterjack',\n",
       " 'feature_scarcest_vaporized_max',\n",
       " 'feature_twittery_tai_attainment',\n",
       " 'feature_queenliest_childing_ritual',\n",
       " 'feature_wetter_unbaffled_loma']"
      ]
     },
     "execution_count": 7,
     "metadata": {},
     "output_type": "execute_result"
    },
    {
     "name": "stdout",
     "output_type": "stream",
     "text": [
      "\r"
     ]
    }
   ],
   "source": [
    "# get riskiest features (biggest change in correlation to target between h1 era vs h2 era)\n",
    "riskiest_features = get_biggest_change_features(all_feature_corrs, FEATURE_NEUTRALIZED)\n",
    "riskiest_features"
   ]
  },
  {
   "cell_type": "code",
   "execution_count": 8,
   "metadata": {},
   "outputs": [
    {
     "data": {
      "text/plain": [
       "0"
      ]
     },
     "execution_count": 8,
     "metadata": {},
     "output_type": "execute_result"
    },
    {
     "name": "stdout",
     "output_type": "stream",
     "text": [
      "\r"
     ]
    }
   ],
   "source": [
    "# \"garbage collection\" (gc) gets rid of unused data and frees up memory\n",
    "gc.collect()"
   ]
  },
  {
   "cell_type": "markdown",
   "metadata": {},
   "source": [
    "---\n",
    "# Create model"
   ]
  },
  {
   "cell_type": "code",
   "execution_count": 11,
   "metadata": {},
   "outputs": [
    {
     "data": {
      "text/plain": [
       "'dh_foxhound_v0'"
      ]
     },
     "execution_count": 11,
     "metadata": {},
     "output_type": "execute_result"
    },
    {
     "name": "stdout",
     "output_type": "stream",
     "text": [
      "\r"
     ]
    }
   ],
   "source": [
    "# model name\n",
    "model_name = f\"dh_{MODEL_NAME}_v{VERSION}\"\n",
    "model_name"
   ]
  },
  {
   "cell_type": "code",
   "execution_count": 12,
   "metadata": {},
   "outputs": [
    {
     "name": "stdout",
     "output_type": "stream",
     "text": [
      "Checking for existing model: dh_foxhound_v0...\n",
      "\r"
     ]
    }
   ],
   "source": [
    "# check existing model, if not, train it\n",
    "print(f\"Checking for existing model: {model_name}...\")\n",
    "model = load_model(model_name)\n",
    "\n",
    "if not model:\n",
    "    print(f\"Model not found, creating new one\")\n",
    "    params = {\"n_estimators\": 2000,\n",
    "              \"learning_rate\": 0.01,\n",
    "              \"max_depth\": 5,\n",
    "              \"num_leaves\": 2 ** 5,\n",
    "              \"colsample_bytree\": 0.1,\n",
    "              \"verbosity\": 1}\n",
    "    model = LGBMRegressor(**params)\n",
    "    \n",
    "    print(f\"Training model: {model_name}...\")\n",
    "    model.fit(\n",
    "        training_data.filter(like='feature_', axis='columns'),\n",
    "        training_data[TARGET_COL]\n",
    "    )\n",
    "    \n",
    "    print(f\"Saving new model: {model_name}...\")\n",
    "    save_model(model, model_name)"
   ]
  },
  {
   "cell_type": "code",
   "execution_count": 13,
   "metadata": {},
   "outputs": [
    {
     "data": {
      "text/plain": [
       "0"
      ]
     },
     "execution_count": 13,
     "metadata": {},
     "output_type": "execute_result"
    },
    {
     "name": "stdout",
     "output_type": "stream",
     "text": [
      "\r"
     ]
    }
   ],
   "source": [
    "# clear memory of unused data\n",
    "gc.collect()"
   ]
  },
  {
   "cell_type": "markdown",
   "metadata": {},
   "source": [
    "---\n",
    "# Create predictions"
   ]
  },
  {
   "cell_type": "code",
   "execution_count": 14,
   "metadata": {},
   "outputs": [
    {
     "name": "stdout",
     "output_type": "stream",
     "text": [
      "Number of nans per column this week: target_nomi_v4_20    5341\n",
      "dtype: int64\n",
      "out of 5341 total rows\n",
      "filling nans with 0.5\n",
      "\r"
     ]
    }
   ],
   "source": [
    "# check for nans\n",
    "nans_per_col = live_data[live_data[\"data_type\"] == \"live\"].isna().sum()\n",
    "\n",
    "if nans_per_col.any():\n",
    "    total_rows = len(live_data[live_data[\"data_type\"] == \"live\"])\n",
    "    print(f\"Number of nans per column this week: {nans_per_col[nans_per_col > 0]}\")\n",
    "    print(f\"out of {total_rows} total rows\")\n",
    "    print(f\"filling nans with 0.5\")\n",
    "    live_data.loc[:, features] = live_data.loc[:, features].fillna(0.5)\n",
    "else:\n",
    "    print(\"No nans in the features this week!\")"
   ]
  },
  {
   "cell_type": "code",
   "execution_count": 15,
   "metadata": {},
   "outputs": [
    {
     "name": "stdout",
     "output_type": "stream",
     "text": [
      "\r"
     ]
    }
   ],
   "source": [
    "# check feature name\n",
    "model_expected_features = model.booster_.feature_name()\n",
    "\n",
    "if set(model_expected_features) != set(features):\n",
    "    print(f\"New features are available! Might want to retrain model {model_name}.\")\n",
    "validation_data.loc[:, f\"preds_{model_name}\"] = model.predict(\n",
    "    validation_data.loc[:, model_expected_features])\n",
    "live_data.loc[:, f\"preds_{model_name}\"] = model.predict(\n",
    "    live_data.loc[:, model_expected_features])"
   ]
  },
  {
   "cell_type": "code",
   "execution_count": 16,
   "metadata": {},
   "outputs": [
    {
     "data": {
      "text/plain": [
       "24"
      ]
     },
     "execution_count": 16,
     "metadata": {},
     "output_type": "execute_result"
    },
    {
     "name": "stdout",
     "output_type": "stream",
     "text": [
      "\r"
     ]
    }
   ],
   "source": [
    "# clear memory of unused data\n",
    "gc.collect()"
   ]
  },
  {
   "cell_type": "code",
   "execution_count": 17,
   "metadata": {},
   "outputs": [
    {
     "name": "stdout",
     "output_type": "stream",
     "text": [
      "\r"
     ]
    }
   ],
   "source": [
    "# neutralize our predictions to the riskiest features\n",
    "validation_data[f\"preds_{model_name}_neutral_riskiest_{FEATURE_NEUTRALIZED}\"] = neutralize(\n",
    "    df=validation_data,\n",
    "    columns=[f\"preds_{model_name}\"],\n",
    "    neutralizers=riskiest_features,\n",
    "    proportion=1.0,\n",
    "    normalize=True,\n",
    "    era_col=ERA_COL\n",
    ")\n",
    "\n",
    "live_data[f\"preds_{model_name}_neutral_riskiest_{FEATURE_NEUTRALIZED}\"] = neutralize(\n",
    "    df=live_data,\n",
    "    columns=[f\"preds_{model_name}\"],\n",
    "    neutralizers=riskiest_features,\n",
    "    proportion=1.0,\n",
    "    normalize=True,\n",
    "    era_col=ERA_COL\n",
    ")"
   ]
  },
  {
   "cell_type": "code",
   "execution_count": 18,
   "metadata": {},
   "outputs": [
    {
     "name": "stdout",
     "output_type": "stream",
     "text": [
      "\r"
     ]
    }
   ],
   "source": [
    "# rename best model to \"prediction\" and rank from 0 to 1 to meet upload requirements\n",
    "model_to_submit = f\"preds_{model_name}_neutral_riskiest_{FEATURE_NEUTRALIZED}\"\n",
    "\n",
    "validation_data[\"prediction\"] = validation_data[model_to_submit].rank(pct=True)\n",
    "live_data[\"prediction\"] = live_data[model_to_submit].rank(pct=True)\n",
    "validation_data[\"prediction\"].to_csv(f\"predictions/{model_name}_val_preds_{current_round}.csv\")\n",
    "live_data[\"prediction\"].to_csv(f\"predictions/{model_name}_live_preds_{current_round}.csv\")"
   ]
  },
  {
   "cell_type": "code",
   "execution_count": null,
   "metadata": {},
   "outputs": [],
   "source": [
    "# submit validation file for diagnostics\n",
    "napi.upload_diagnostics(\n",
    "    file_path=\"predictions/{model_name}_val_preds_{current_round}.csv\",\n",
    "    model_id=MODEL_ID\n",
    ")\n",
    "\n",
    "print(f\"Submitted live prediction file '{model_name}_val_preds_{current_round}.csv'\")"
   ]
  },
  {
   "cell_type": "code",
   "execution_count": 17,
   "metadata": {},
   "outputs": [
    {
     "name": "stdout",
     "output_type": "stream",
     "text": [
      "\n",
      "Done! Next steps:\n",
      "    1. Go to numer.ai/tournament (make sure you have an account)\n",
      "    2. Submit val_preds.csv to the diagnostics tool\n",
      "    3. Submit live_prediss.csv to the \"Upload Predictions\" button\n",
      "\n",
      "\r"
     ]
    }
   ],
   "source": [
    "# submit live predictions\n",
    "napi.upload_predictions(\n",
    "    file_path=f\"predictions/{model_name}_live_preds_{current_round}.csv\", \n",
    "    model_id=MODEL_ID\n",
    ")\n",
    "\n",
    "print(f\"Submitted live prediction file '{model_name}_live_preds_{current_round}.csv'\")"
   ]
  }
 ],
 "metadata": {
  "colab": {
   "collapsed_sections": [],
   "include_colab_link": true,
   "machine_shape": "hm",
   "name": "numerai_base_model_v1",
   "provenance": []
  },
  "kernelspec": {
   "display_name": "projenv",
   "language": "python",
   "name": "projenv"
  },
  "language_info": {
   "codemirror_mode": {
    "name": "ipython",
    "version": 3
   },
   "file_extension": ".py",
   "mimetype": "text/x-python",
   "name": "python",
   "nbconvert_exporter": "python",
   "pygments_lexer": "ipython3",
   "version": "3.10.2"
  }
 },
 "nbformat": 4,
 "nbformat_minor": 4
}
