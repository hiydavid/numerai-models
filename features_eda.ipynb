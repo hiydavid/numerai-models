{
 "cells": [
  {
   "cell_type": "markdown",
   "metadata": {
    "id": "RUD4ylfaLZA6"
   },
   "source": [
    "# Numerai Feature EDA\n",
    "\n",
    "* Tournament data and example predictions change every week\n",
    "* Training and validation data only change periodically"
   ]
  },
  {
   "cell_type": "markdown",
   "metadata": {
    "id": "dioJyoTnxEm3"
   },
   "source": [
    "---\n",
    "## Load libraries"
   ]
  },
  {
   "cell_type": "code",
   "execution_count": 4,
   "metadata": {
    "id": "MaNpcfNkKUg_"
   },
   "outputs": [
    {
     "name": "stdout",
     "output_type": "stream",
     "text": [
      "\r"
     ]
    }
   ],
   "source": [
    "# libs\n",
    "import json\n",
    "import matplotlib\n",
    "import numpy as np\n",
    "import pandas as pd\n",
    "import random\n",
    "import sklearn\n",
    "import matplotlib.pyplot as plt\n",
    "from sklearn import (\n",
    "    feature_extraction, feature_selection, decomposition, linear_model,\n",
    "    model_selection, metrics, svm, ensemble\n",
    ")\n",
    "from numerapi import NumerAPI\n",
    "from utils import (\n",
    "    save_model, load_model, neutralize, get_biggest_change_features, \n",
    "    validation_metrics\n",
    ")"
   ]
  },
  {
   "cell_type": "code",
   "execution_count": 2,
   "metadata": {
    "colab": {
     "base_uri": "https://localhost:8080/"
    },
    "id": "v8Lokr1l1LWJ",
    "outputId": "f09d1ba2-f6b6-44b9-91d6-67788a56a64e"
   },
   "outputs": [
    {
     "name": "stdout",
     "output_type": "stream",
     "text": [
      "Current round #: 312\n",
      "\r"
     ]
    }
   ],
   "source": [
    "# see current round\n",
    "napi = NumerAPI()\n",
    "current_round = napi.get_current_round()\n",
    "print(f\"Current round #: {current_round}\")"
   ]
  },
  {
   "cell_type": "markdown",
   "metadata": {},
   "source": [
    "---\n",
    "## Review features"
   ]
  },
  {
   "cell_type": "code",
   "execution_count": 5,
   "metadata": {},
   "outputs": [
    {
     "name": "stdout",
     "output_type": "stream",
     "text": [
      "\r"
     ]
    }
   ],
   "source": [
    "# load features.json file\n",
    "with open(\"data/features.json\", \"r\") as f:\n",
    "    feature_metadata = json.load(f)"
   ]
  },
  {
   "cell_type": "code",
   "execution_count": 10,
   "metadata": {},
   "outputs": [
    {
     "data": {
      "text/plain": [
       "dict_keys(['small', 'medium', 'v2_equivalent_features', 'v3_equivalent_features', 'fncv3_features'])"
      ]
     },
     "execution_count": 10,
     "metadata": {},
     "output_type": "execute_result"
    },
    {
     "name": "stdout",
     "output_type": "stream",
     "text": [
      "\r"
     ]
    }
   ],
   "source": [
    "# view feature keys\n",
    "feature_metadata[\"feature_sets\"].keys()"
   ]
  },
  {
   "cell_type": "code",
   "execution_count": 11,
   "metadata": {},
   "outputs": [
    {
     "name": "stdout",
     "output_type": "stream",
     "text": [
      "\r"
     ]
    }
   ],
   "source": [
    "# review small, medium, and other\n",
    "features_small = feature_metadata[\"feature_sets\"][\"small\"]\n",
    "features_medium = feature_metadata[\"feature_sets\"][\"medium\"]\n",
    "features_eqv2 = feature_metadata[\"feature_sets\"][\"v2_equivalent_features\"]\n",
    "features_eqv3 = feature_metadata[\"feature_sets\"][\"v3_equivalent_features\"]\n",
    "features_fncv3 = feature_metadata[\"feature_sets\"][\"fncv3_features\"]"
   ]
  },
  {
   "cell_type": "code",
   "execution_count": 16,
   "metadata": {},
   "outputs": [
    {
     "name": "stdout",
     "output_type": "stream",
     "text": [
      "Length of small features         : 38\n",
      "Length of medium features        : 472\n",
      "Length of v2 equivalent features : 304\n",
      "Length of v3 equivalent features : 1050\n",
      "Length of fncv3 features         : 420\n",
      "\r"
     ]
    }
   ],
   "source": [
    "# length of features\n",
    "print(\"Length of small features         :\", len(features_small))\n",
    "print(\"Length of medium features        :\", len(features_medium))\n",
    "print(\"Length of v2 equivalent features :\", len(features_eqv2))\n",
    "print(\"Length of v3 equivalent features :\", len(features_eqv3))\n",
    "print(\"Length of fncv3 features         :\", len(features_fncv3))"
   ]
  },
  {
   "cell_type": "markdown",
   "metadata": {},
   "source": [
    "---\n",
    "## Load training data"
   ]
  },
  {
   "cell_type": "code",
   "execution_count": 17,
   "metadata": {
    "id": "g15V9jsw1Lav"
   },
   "outputs": [
    {
     "data": {
      "text/html": [
       "<div>\n",
       "<style scoped>\n",
       "    .dataframe tbody tr th:only-of-type {\n",
       "        vertical-align: middle;\n",
       "    }\n",
       "\n",
       "    .dataframe tbody tr th {\n",
       "        vertical-align: top;\n",
       "    }\n",
       "\n",
       "    .dataframe thead th {\n",
       "        text-align: right;\n",
       "    }\n",
       "</style>\n",
       "<table border=\"1\" class=\"dataframe\">\n",
       "  <thead>\n",
       "    <tr style=\"text-align: right;\">\n",
       "      <th></th>\n",
       "      <th>era</th>\n",
       "      <th>data_type</th>\n",
       "      <th>feature_honoured_observational_balaamite</th>\n",
       "      <th>feature_polaroid_vadose_quinze</th>\n",
       "      <th>feature_untidy_withdrawn_bargeman</th>\n",
       "      <th>feature_genuine_kyphotic_trehala</th>\n",
       "      <th>feature_unenthralled_sportful_schoolhouse</th>\n",
       "      <th>feature_divulsive_explanatory_ideologue</th>\n",
       "      <th>feature_ichthyotic_roofed_yeshiva</th>\n",
       "      <th>feature_waggly_outlandish_carbonisation</th>\n",
       "      <th>...</th>\n",
       "      <th>target_paul_v4_20</th>\n",
       "      <th>target_paul_v4_60</th>\n",
       "      <th>target_george_v4_20</th>\n",
       "      <th>target_george_v4_60</th>\n",
       "      <th>target_william_v4_20</th>\n",
       "      <th>target_william_v4_60</th>\n",
       "      <th>target_arthur_v4_20</th>\n",
       "      <th>target_arthur_v4_60</th>\n",
       "      <th>target_thomas_v4_20</th>\n",
       "      <th>target_thomas_v4_60</th>\n",
       "    </tr>\n",
       "    <tr>\n",
       "      <th>id</th>\n",
       "      <th></th>\n",
       "      <th></th>\n",
       "      <th></th>\n",
       "      <th></th>\n",
       "      <th></th>\n",
       "      <th></th>\n",
       "      <th></th>\n",
       "      <th></th>\n",
       "      <th></th>\n",
       "      <th></th>\n",
       "      <th></th>\n",
       "      <th></th>\n",
       "      <th></th>\n",
       "      <th></th>\n",
       "      <th></th>\n",
       "      <th></th>\n",
       "      <th></th>\n",
       "      <th></th>\n",
       "      <th></th>\n",
       "      <th></th>\n",
       "      <th></th>\n",
       "    </tr>\n",
       "  </thead>\n",
       "  <tbody>\n",
       "    <tr>\n",
       "      <th>n003bba8a98662e4</th>\n",
       "      <td>0001</td>\n",
       "      <td>train</td>\n",
       "      <td>1.0</td>\n",
       "      <td>0.50</td>\n",
       "      <td>1.00</td>\n",
       "      <td>1.00</td>\n",
       "      <td>0.00</td>\n",
       "      <td>0.00</td>\n",
       "      <td>1.00</td>\n",
       "      <td>1.00</td>\n",
       "      <td>...</td>\n",
       "      <td>0.50</td>\n",
       "      <td>0.25</td>\n",
       "      <td>0.25</td>\n",
       "      <td>0.00</td>\n",
       "      <td>0.333333</td>\n",
       "      <td>0.000000</td>\n",
       "      <td>0.500000</td>\n",
       "      <td>0.500000</td>\n",
       "      <td>0.166667</td>\n",
       "      <td>0.000000</td>\n",
       "    </tr>\n",
       "    <tr>\n",
       "      <th>n003bee128c2fcfc</th>\n",
       "      <td>0001</td>\n",
       "      <td>train</td>\n",
       "      <td>0.5</td>\n",
       "      <td>1.00</td>\n",
       "      <td>0.25</td>\n",
       "      <td>0.75</td>\n",
       "      <td>0.00</td>\n",
       "      <td>0.75</td>\n",
       "      <td>0.50</td>\n",
       "      <td>0.75</td>\n",
       "      <td>...</td>\n",
       "      <td>0.75</td>\n",
       "      <td>1.00</td>\n",
       "      <td>1.00</td>\n",
       "      <td>1.00</td>\n",
       "      <td>0.666667</td>\n",
       "      <td>0.666667</td>\n",
       "      <td>0.833333</td>\n",
       "      <td>0.666667</td>\n",
       "      <td>0.833333</td>\n",
       "      <td>0.666667</td>\n",
       "    </tr>\n",
       "    <tr>\n",
       "      <th>n0048ac83aff7194</th>\n",
       "      <td>0001</td>\n",
       "      <td>train</td>\n",
       "      <td>0.5</td>\n",
       "      <td>0.25</td>\n",
       "      <td>0.75</td>\n",
       "      <td>0.00</td>\n",
       "      <td>0.75</td>\n",
       "      <td>0.00</td>\n",
       "      <td>0.75</td>\n",
       "      <td>0.75</td>\n",
       "      <td>...</td>\n",
       "      <td>0.50</td>\n",
       "      <td>0.25</td>\n",
       "      <td>0.25</td>\n",
       "      <td>0.25</td>\n",
       "      <td>0.500000</td>\n",
       "      <td>0.333333</td>\n",
       "      <td>0.333333</td>\n",
       "      <td>0.500000</td>\n",
       "      <td>0.500000</td>\n",
       "      <td>0.333333</td>\n",
       "    </tr>\n",
       "    <tr>\n",
       "      <th>n00691bec80d3e02</th>\n",
       "      <td>0001</td>\n",
       "      <td>train</td>\n",
       "      <td>1.0</td>\n",
       "      <td>0.50</td>\n",
       "      <td>0.50</td>\n",
       "      <td>0.75</td>\n",
       "      <td>0.00</td>\n",
       "      <td>1.00</td>\n",
       "      <td>0.25</td>\n",
       "      <td>1.00</td>\n",
       "      <td>...</td>\n",
       "      <td>0.50</td>\n",
       "      <td>0.50</td>\n",
       "      <td>0.50</td>\n",
       "      <td>0.50</td>\n",
       "      <td>0.666667</td>\n",
       "      <td>0.500000</td>\n",
       "      <td>0.500000</td>\n",
       "      <td>0.500000</td>\n",
       "      <td>0.666667</td>\n",
       "      <td>0.500000</td>\n",
       "    </tr>\n",
       "    <tr>\n",
       "      <th>n00b8720a2fdc4f2</th>\n",
       "      <td>0001</td>\n",
       "      <td>train</td>\n",
       "      <td>1.0</td>\n",
       "      <td>0.75</td>\n",
       "      <td>1.00</td>\n",
       "      <td>1.00</td>\n",
       "      <td>0.00</td>\n",
       "      <td>0.00</td>\n",
       "      <td>1.00</td>\n",
       "      <td>0.50</td>\n",
       "      <td>...</td>\n",
       "      <td>0.50</td>\n",
       "      <td>0.50</td>\n",
       "      <td>0.50</td>\n",
       "      <td>0.50</td>\n",
       "      <td>0.666667</td>\n",
       "      <td>0.500000</td>\n",
       "      <td>0.666667</td>\n",
       "      <td>0.500000</td>\n",
       "      <td>0.666667</td>\n",
       "      <td>0.500000</td>\n",
       "    </tr>\n",
       "  </tbody>\n",
       "</table>\n",
       "<p>5 rows × 1214 columns</p>\n",
       "</div>"
      ],
      "text/plain": [
       "                   era data_type  feature_honoured_observational_balaamite  \\\n",
       "id                                                                           \n",
       "n003bba8a98662e4  0001     train                                       1.0   \n",
       "n003bee128c2fcfc  0001     train                                       0.5   \n",
       "n0048ac83aff7194  0001     train                                       0.5   \n",
       "n00691bec80d3e02  0001     train                                       1.0   \n",
       "n00b8720a2fdc4f2  0001     train                                       1.0   \n",
       "\n",
       "                  feature_polaroid_vadose_quinze  \\\n",
       "id                                                 \n",
       "n003bba8a98662e4                            0.50   \n",
       "n003bee128c2fcfc                            1.00   \n",
       "n0048ac83aff7194                            0.25   \n",
       "n00691bec80d3e02                            0.50   \n",
       "n00b8720a2fdc4f2                            0.75   \n",
       "\n",
       "                  feature_untidy_withdrawn_bargeman  \\\n",
       "id                                                    \n",
       "n003bba8a98662e4                               1.00   \n",
       "n003bee128c2fcfc                               0.25   \n",
       "n0048ac83aff7194                               0.75   \n",
       "n00691bec80d3e02                               0.50   \n",
       "n00b8720a2fdc4f2                               1.00   \n",
       "\n",
       "                  feature_genuine_kyphotic_trehala  \\\n",
       "id                                                   \n",
       "n003bba8a98662e4                              1.00   \n",
       "n003bee128c2fcfc                              0.75   \n",
       "n0048ac83aff7194                              0.00   \n",
       "n00691bec80d3e02                              0.75   \n",
       "n00b8720a2fdc4f2                              1.00   \n",
       "\n",
       "                  feature_unenthralled_sportful_schoolhouse  \\\n",
       "id                                                            \n",
       "n003bba8a98662e4                                       0.00   \n",
       "n003bee128c2fcfc                                       0.00   \n",
       "n0048ac83aff7194                                       0.75   \n",
       "n00691bec80d3e02                                       0.00   \n",
       "n00b8720a2fdc4f2                                       0.00   \n",
       "\n",
       "                  feature_divulsive_explanatory_ideologue  \\\n",
       "id                                                          \n",
       "n003bba8a98662e4                                     0.00   \n",
       "n003bee128c2fcfc                                     0.75   \n",
       "n0048ac83aff7194                                     0.00   \n",
       "n00691bec80d3e02                                     1.00   \n",
       "n00b8720a2fdc4f2                                     0.00   \n",
       "\n",
       "                  feature_ichthyotic_roofed_yeshiva  \\\n",
       "id                                                    \n",
       "n003bba8a98662e4                               1.00   \n",
       "n003bee128c2fcfc                               0.50   \n",
       "n0048ac83aff7194                               0.75   \n",
       "n00691bec80d3e02                               0.25   \n",
       "n00b8720a2fdc4f2                               1.00   \n",
       "\n",
       "                  feature_waggly_outlandish_carbonisation  ...  \\\n",
       "id                                                         ...   \n",
       "n003bba8a98662e4                                     1.00  ...   \n",
       "n003bee128c2fcfc                                     0.75  ...   \n",
       "n0048ac83aff7194                                     0.75  ...   \n",
       "n00691bec80d3e02                                     1.00  ...   \n",
       "n00b8720a2fdc4f2                                     0.50  ...   \n",
       "\n",
       "                  target_paul_v4_20  target_paul_v4_60  target_george_v4_20  \\\n",
       "id                                                                            \n",
       "n003bba8a98662e4               0.50               0.25                 0.25   \n",
       "n003bee128c2fcfc               0.75               1.00                 1.00   \n",
       "n0048ac83aff7194               0.50               0.25                 0.25   \n",
       "n00691bec80d3e02               0.50               0.50                 0.50   \n",
       "n00b8720a2fdc4f2               0.50               0.50                 0.50   \n",
       "\n",
       "                  target_george_v4_60  target_william_v4_20  \\\n",
       "id                                                            \n",
       "n003bba8a98662e4                 0.00              0.333333   \n",
       "n003bee128c2fcfc                 1.00              0.666667   \n",
       "n0048ac83aff7194                 0.25              0.500000   \n",
       "n00691bec80d3e02                 0.50              0.666667   \n",
       "n00b8720a2fdc4f2                 0.50              0.666667   \n",
       "\n",
       "                  target_william_v4_60  target_arthur_v4_20  \\\n",
       "id                                                            \n",
       "n003bba8a98662e4              0.000000             0.500000   \n",
       "n003bee128c2fcfc              0.666667             0.833333   \n",
       "n0048ac83aff7194              0.333333             0.333333   \n",
       "n00691bec80d3e02              0.500000             0.500000   \n",
       "n00b8720a2fdc4f2              0.500000             0.666667   \n",
       "\n",
       "                  target_arthur_v4_60  target_thomas_v4_20  \\\n",
       "id                                                           \n",
       "n003bba8a98662e4             0.500000             0.166667   \n",
       "n003bee128c2fcfc             0.666667             0.833333   \n",
       "n0048ac83aff7194             0.500000             0.500000   \n",
       "n00691bec80d3e02             0.500000             0.666667   \n",
       "n00b8720a2fdc4f2             0.500000             0.666667   \n",
       "\n",
       "                  target_thomas_v4_60  \n",
       "id                                     \n",
       "n003bba8a98662e4             0.000000  \n",
       "n003bee128c2fcfc             0.666667  \n",
       "n0048ac83aff7194             0.333333  \n",
       "n00691bec80d3e02             0.500000  \n",
       "n00b8720a2fdc4f2             0.500000  \n",
       "\n",
       "[5 rows x 1214 columns]"
      ]
     },
     "execution_count": 17,
     "metadata": {},
     "output_type": "execute_result"
    },
    {
     "name": "stdout",
     "output_type": "stream",
     "text": [
      "\r"
     ]
    }
   ],
   "source": [
    "# read training data\n",
    "df = pd.read_parquet('data/train.parquet')\n",
    "df.head()"
   ]
  },
  {
   "cell_type": "code",
   "execution_count": 18,
   "metadata": {
    "id": "sxH-kKmC1Lfw"
   },
   "outputs": [
    {
     "name": "stdout",
     "output_type": "stream",
     "text": [
      "Shape of the training dataset: (2420521, 1214)\n",
      "\r"
     ]
    }
   ],
   "source": [
    "# check shape\n",
    "print(f\"Shape of the training dataset: {df.shape}\")"
   ]
  },
  {
   "cell_type": "code",
   "execution_count": 19,
   "metadata": {
    "id": "gt5-xFac1Lkn"
   },
   "outputs": [
    {
     "name": "stdout",
     "output_type": "stream",
     "text": [
      "Training dataset: 2420521 rows grouped into 574 eras (weeks)\n",
      "\r"
     ]
    }
   ],
   "source": [
    "# how many eras?\n",
    "print(f\"Training dataset: {df.shape[0]} rows grouped into {len(df.era.unique())} eras (weeks)\")"
   ]
  },
  {
   "cell_type": "markdown",
   "metadata": {},
   "source": [
    "---\n",
    "## Check features & targets"
   ]
  },
  {
   "cell_type": "code",
   "execution_count": 20,
   "metadata": {},
   "outputs": [
    {
     "name": "stdout",
     "output_type": "stream",
     "text": [
      "Number of features: 1191\n",
      "Show first 5 features: ['feature_honoured_observational_balaamite', 'feature_polaroid_vadose_quinze', 'feature_untidy_withdrawn_bargeman']\n",
      "\r"
     ]
    }
   ],
   "source": [
    "# check features\n",
    "features = [col for col in df if col.startswith(\"feature\")]\n",
    "print(f\"Number of features: {len(features)}\")\n",
    "print(f\"Show first 5 features: {features[:3]}\")"
   ]
  },
  {
   "cell_type": "code",
   "execution_count": 21,
   "metadata": {},
   "outputs": [
    {
     "name": "stdout",
     "output_type": "stream",
     "text": [
      "\r"
     ]
    }
   ],
   "source": [
    "# create era numbers\n",
    "df[\"erano\"] = df[\"era\"].astype(int)\n",
    "eras = df[\"erano\"]"
   ]
  },
  {
   "cell_type": "code",
   "execution_count": 22,
   "metadata": {},
   "outputs": [
    {
     "name": "stdout",
     "output_type": "stream",
     "text": [
      "Number of targets: 21\n",
      "Show first 5 targets: ['target', 'target_nomi_v4_20', 'target_nomi_v4_60']\n",
      "\r"
     ]
    }
   ],
   "source": [
    "# check targets\n",
    "target = \"target\"\n",
    "targets = [col for col in df if col.startswith(\"target\")]\n",
    "print(f\"Number of targets: {len(targets)}\")\n",
    "print(f\"Show first 5 targets: {targets[:3]}\")"
   ]
  },
  {
   "cell_type": "markdown",
   "metadata": {},
   "source": [
    "---\n",
    "## Evaluation functions"
   ]
  },
  {
   "cell_type": "code",
   "execution_count": 23,
   "metadata": {},
   "outputs": [
    {
     "name": "stdout",
     "output_type": "stream",
     "text": [
      "\r"
     ]
    }
   ],
   "source": [
    "# create numerai_score function\n",
    "def numerai_score(y_true, y_pred):\n",
    "    rank_pred = y_pred.groupby(eras).apply(lambda x: x.rank(pct=True, method=\"first\"))\n",
    "    return np.corrcoef(y_true, rank_pred)[0,1]\n",
    "\n",
    "# regular pearson corr\n",
    "def correlation_score(y_true, y_pred):\n",
    "    return np.corrcoef(y_true, y_pred)[0,1]"
   ]
  },
  {
   "cell_type": "markdown",
   "metadata": {},
   "source": [
    "---\n",
    "## High-level EDA"
   ]
  },
  {
   "cell_type": "code",
   "execution_count": 24,
   "metadata": {},
   "outputs": [
    {
     "data": {
      "text/plain": [
       "('0001', '0574')"
      ]
     },
     "execution_count": 24,
     "metadata": {},
     "output_type": "execute_result"
    },
    {
     "name": "stdout",
     "output_type": "stream",
     "text": [
      "\r"
     ]
    }
   ],
   "source": [
    "# check eras\n",
    "df[\"era\"].min(), df[\"era\"].max()"
   ]
  },
  {
   "cell_type": "code",
   "execution_count": 25,
   "metadata": {},
   "outputs": [
    {
     "data": {
      "image/png": "[encoded data removed]",
      "text/plain": [
       "<Figure size 432x288 with 1 Axes>"
      ]
     },
     "metadata": {
      "needs_background": "light"
     },
     "output_type": "display_data"
    },
    {
     "name": "stdout",
     "output_type": "stream",
     "text": [
      "\r"
     ]
    }
   ],
   "source": [
    "# check data per era\n",
    "df.groupby(eras).size().plot(title=\"Rows of Training Data by Era\");"
   ]
  },
  {
   "cell_type": "code",
   "execution_count": 26,
   "metadata": {},
   "outputs": [
    {
     "data": {
      "text/plain": [
       "target\n",
       "0.00    0.050007\n",
       "0.25    0.200001\n",
       "0.50    0.499975\n",
       "0.75    0.200014\n",
       "1.00    0.050003\n",
       "dtype: float64"
      ]
     },
     "execution_count": 26,
     "metadata": {},
     "output_type": "execute_result"
    },
    {
     "name": "stdout",
     "output_type": "stream",
     "text": [
      "\r"
     ]
    }
   ],
   "source": [
    "# targets are discrete\n",
    "df.groupby(\"target\").size() / len(df)"
   ]
  },
  {
   "cell_type": "code",
   "execution_count": 27,
   "metadata": {},
   "outputs": [
    {
     "data": {
      "text/plain": [
       "feature_honoured_observational_balaamite     feature_honoured_observational_balaamite       1.000000\n",
       "                                             feature_polaroid_vadose_quinze                 0.002170\n",
       "                                             feature_untidy_withdrawn_bargeman              0.141514\n",
       "                                             feature_genuine_kyphotic_trehala               0.171890\n",
       "                                             feature_unenthralled_sportful_schoolhouse     -0.149952\n",
       "                                                                                              ...   \n",
       "feature_polyphyletic_unplumed_pandiculation  feature_marxian_plated_refrigeration           0.945034\n",
       "                                             feature_amative_irresponsive_flattie           0.951543\n",
       "                                             feature_intermissive_coronal_reinsertion       0.896336\n",
       "                                             feature_dwarfish_isochronal_amateur            0.872951\n",
       "                                             feature_polyphyletic_unplumed_pandiculation    1.000000\n",
       "Length: 1418481, dtype: float64"
      ]
     },
     "execution_count": 27,
     "metadata": {},
     "output_type": "execute_result"
    },
    {
     "name": "stdout",
     "output_type": "stream",
     "text": [
      "\r"
     ]
    }
   ],
   "source": [
    "# check feature correlations\n",
    "feature_corrs = df.loc[df[\"era\"]==\"0001\"][features].corr()\n",
    "feature_corrs.stack()"
   ]
  },
  {
   "cell_type": "code",
   "execution_count": 28,
   "metadata": {},
   "outputs": [
    {
     "data": {
      "text/plain": [
       "feature_optic_mycelial_whimper                      feature_productile_auriform_fil            -0.950579\n",
       "feature_careworn_motivational_requisite             feature_loftier_sightly_lyric              -0.940453\n",
       "feature_dissident_templed_shippon                   feature_rose_buttoned_dandy                -0.939489\n",
       "feature_applausive_forgettable_mishanter            feature_marled_coliform_proctorship        -0.936837\n",
       "feature_sodding_choosy_eruption                     feature_utmost_excitable_emir              -0.934667\n",
       "                                                                                                  ...   \n",
       "feature_bimanual_godly_witloof                      feature_healthier_unconnected_clave         1.000000\n",
       "feature_associate_unproper_gridder                  feature_asteriated_invigorated_penitence    1.000000\n",
       "feature_agricultural_uranic_ankerite                feature_pseudo_bounden_hereafter            1.000000\n",
       "feature_associate_unproper_gridder                  feature_maglemosian_kittle_coachbuilding    1.000000\n",
       "feature_australasian_dissatisfactory_intermarriage  feature_unsensing_enterprising_janissary    1.000000\n",
       "Length: 708645, dtype: float64"
      ]
     },
     "execution_count": 28,
     "metadata": {},
     "output_type": "execute_result"
    },
    {
     "name": "stdout",
     "output_type": "stream",
     "text": [
      "\r"
     ]
    }
   ],
   "source": [
    "# some are very correlated or uncorrelated\n",
    "tdf = feature_corrs.stack()\n",
    "tdf = tdf[tdf.index.get_level_values(0) < tdf.index.get_level_values(1)]\n",
    "tdf.sort_values()"
   ]
  },
  {
   "cell_type": "code",
   "execution_count": null,
   "metadata": {},
   "outputs": [],
   "source": []
  },
  {
   "cell_type": "code",
   "execution_count": null,
   "metadata": {},
   "outputs": [],
   "source": []
  },
  {
   "cell_type": "code",
   "execution_count": null,
   "metadata": {},
   "outputs": [],
   "source": []
  },
  {
   "cell_type": "code",
   "execution_count": null,
   "metadata": {},
   "outputs": [],
   "source": []
  },
  {
   "cell_type": "code",
   "execution_count": null,
   "metadata": {},
   "outputs": [],
   "source": []
  }
 ],
 "metadata": {
  "colab": {
   "collapsed_sections": [],
   "include_colab_link": true,
   "name": "numerai_features_eda_v1",
   "provenance": []
  },
  "kernelspec": {
   "display_name": "projenv",
   "language": "python",
   "name": "projenv"
  },
  "language_info": {
   "codemirror_mode": {
    "name": "ipython",
    "version": 3
   },
   "file_extension": ".py",
   "mimetype": "text/x-python",
   "name": "python",
   "nbconvert_exporter": "python",
   "pygments_lexer": "ipython3",
   "version": "3.10.2"
  }
 },
 "nbformat": 4,
 "nbformat_minor": 4
}
