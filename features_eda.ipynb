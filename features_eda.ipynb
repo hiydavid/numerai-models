{
 "cells": [
  {
   "cell_type": "markdown",
   "metadata": {
    "colab_type": "text",
    "id": "view-in-github"
   },
   "source": [
    "<a href=\"https://colab.research.google.com/github/hiydavid/numerai-models/blob/main/numerai_features_eda_v1.ipynb\" target=\"_parent\"><img src=\"https://colab.research.google.com/assets/colab-badge.svg\" alt=\"Open In Colab\"/></a>"
   ]
  },
  {
   "cell_type": "markdown",
   "metadata": {
    "id": "RUD4ylfaLZA6"
   },
   "source": [
    "# Numerai Feature EDA\n",
    "\n",
    "* Tournament data and example predictions change every week\n",
    "* Training and validation data only change periodically"
   ]
  },
  {
   "cell_type": "markdown",
   "metadata": {
    "id": "dioJyoTnxEm3"
   },
   "source": [
    "---\n",
    "## Load libraries & datasets"
   ]
  },
  {
   "cell_type": "code",
   "execution_count": 2,
   "metadata": {
    "id": "MaNpcfNkKUg_"
   },
   "outputs": [
    {
     "name": "stdout",
     "output_type": "stream",
     "text": [
      "\r"
     ]
    }
   ],
   "source": [
    "# libs\n",
    "import matplotlib\n",
    "import numpy as np\n",
    "import pandas as pd\n",
    "import random\n",
    "import sklearn\n",
    "import matplotlib.pyplot as plt\n",
    "from sklearn import (\n",
    "    feature_extraction, feature_selection, decomposition, linear_model,\n",
    "    model_selection, metrics, svm, ensemble\n",
    ")\n",
    "from numerapi import NumerAPI\n",
    "from utils import (\n",
    "    save_model, load_model, neutralize, get_biggest_change_features, \n",
    "    validation_metrics\n",
    ")"
   ]
  },
  {
   "cell_type": "code",
   "execution_count": 3,
   "metadata": {
    "colab": {
     "base_uri": "https://localhost:8080/"
    },
    "id": "v8Lokr1l1LWJ",
    "outputId": "f09d1ba2-f6b6-44b9-91d6-67788a56a64e"
   },
   "outputs": [
    {
     "name": "stdout",
     "output_type": "stream",
     "text": [
      "Current round #: 309\n",
      "\r"
     ]
    }
   ],
   "source": [
    "# see current round\n",
    "napi = NumerAPI()\n",
    "current_round = napi.get_current_round()\n",
    "print(f\"Current round #: {current_round}\")"
   ]
  },
  {
   "cell_type": "code",
   "execution_count": 4,
   "metadata": {
    "colab": {
     "base_uri": "https://localhost:8080/"
    },
    "id": "9uXlbJBJ1LYV",
    "outputId": "5322a5d7-cd64-4abb-9174-38f25aa41343"
   },
   "outputs": [
    {
     "name": "stderr",
     "output_type": "stream",
     "text": [
      "2022-03-30 20:18:52,510 INFO numerapi.utils: starting download\n",
      "numerai_training_data.parquet: 1.01GB [05:10, 3.26MB/s]                         \n"
     ]
    },
    {
     "name": "stdout",
     "output_type": "stream",
     "text": [
      "\r"
     ]
    }
   ],
   "source": [
    "# download training data\n",
    "napi.download_dataset(\"numerai_training_data.parquet\")"
   ]
  },
  {
   "cell_type": "code",
   "execution_count": 7,
   "metadata": {
    "id": "g15V9jsw1Lav"
   },
   "outputs": [
    {
     "data": {
      "text/html": [
       "<div>\n",
       "<style scoped>\n",
       "    .dataframe tbody tr th:only-of-type {\n",
       "        vertical-align: middle;\n",
       "    }\n",
       "\n",
       "    .dataframe tbody tr th {\n",
       "        vertical-align: top;\n",
       "    }\n",
       "\n",
       "    .dataframe thead th {\n",
       "        text-align: right;\n",
       "    }\n",
       "</style>\n",
       "<table border=\"1\" class=\"dataframe\">\n",
       "  <thead>\n",
       "    <tr style=\"text-align: right;\">\n",
       "      <th></th>\n",
       "      <th>era</th>\n",
       "      <th>data_type</th>\n",
       "      <th>feature_dichasial_hammier_spawner</th>\n",
       "      <th>feature_rheumy_epistemic_prancer</th>\n",
       "      <th>feature_pert_performative_hormuz</th>\n",
       "      <th>feature_hillier_unpitied_theobromine</th>\n",
       "      <th>feature_perigean_bewitching_thruster</th>\n",
       "      <th>feature_renegade_undomestic_milord</th>\n",
       "      <th>feature_koranic_rude_corf</th>\n",
       "      <th>feature_demisable_expiring_millepede</th>\n",
       "      <th>...</th>\n",
       "      <th>target_paul_20</th>\n",
       "      <th>target_paul_60</th>\n",
       "      <th>target_george_20</th>\n",
       "      <th>target_george_60</th>\n",
       "      <th>target_william_20</th>\n",
       "      <th>target_william_60</th>\n",
       "      <th>target_arthur_20</th>\n",
       "      <th>target_arthur_60</th>\n",
       "      <th>target_thomas_20</th>\n",
       "      <th>target_thomas_60</th>\n",
       "    </tr>\n",
       "    <tr>\n",
       "      <th>id</th>\n",
       "      <th></th>\n",
       "      <th></th>\n",
       "      <th></th>\n",
       "      <th></th>\n",
       "      <th></th>\n",
       "      <th></th>\n",
       "      <th></th>\n",
       "      <th></th>\n",
       "      <th></th>\n",
       "      <th></th>\n",
       "      <th></th>\n",
       "      <th></th>\n",
       "      <th></th>\n",
       "      <th></th>\n",
       "      <th></th>\n",
       "      <th></th>\n",
       "      <th></th>\n",
       "      <th></th>\n",
       "      <th></th>\n",
       "      <th></th>\n",
       "      <th></th>\n",
       "    </tr>\n",
       "  </thead>\n",
       "  <tbody>\n",
       "    <tr>\n",
       "      <th>n003bba8a98662e4</th>\n",
       "      <td>0001</td>\n",
       "      <td>train</td>\n",
       "      <td>1.0</td>\n",
       "      <td>0.50</td>\n",
       "      <td>1.00</td>\n",
       "      <td>1.00</td>\n",
       "      <td>0.00</td>\n",
       "      <td>0.00</td>\n",
       "      <td>1.00</td>\n",
       "      <td>1.00</td>\n",
       "      <td>...</td>\n",
       "      <td>0.25</td>\n",
       "      <td>0.25</td>\n",
       "      <td>0.25</td>\n",
       "      <td>0.00</td>\n",
       "      <td>0.166667</td>\n",
       "      <td>0.000000</td>\n",
       "      <td>0.166667</td>\n",
       "      <td>0.000000</td>\n",
       "      <td>0.166667</td>\n",
       "      <td>0.000000</td>\n",
       "    </tr>\n",
       "    <tr>\n",
       "      <th>n003bee128c2fcfc</th>\n",
       "      <td>0001</td>\n",
       "      <td>train</td>\n",
       "      <td>0.5</td>\n",
       "      <td>1.00</td>\n",
       "      <td>0.25</td>\n",
       "      <td>0.75</td>\n",
       "      <td>0.00</td>\n",
       "      <td>0.75</td>\n",
       "      <td>0.50</td>\n",
       "      <td>0.75</td>\n",
       "      <td>...</td>\n",
       "      <td>1.00</td>\n",
       "      <td>1.00</td>\n",
       "      <td>1.00</td>\n",
       "      <td>1.00</td>\n",
       "      <td>0.833333</td>\n",
       "      <td>0.666667</td>\n",
       "      <td>0.833333</td>\n",
       "      <td>0.666667</td>\n",
       "      <td>0.833333</td>\n",
       "      <td>0.666667</td>\n",
       "    </tr>\n",
       "    <tr>\n",
       "      <th>n0048ac83aff7194</th>\n",
       "      <td>0001</td>\n",
       "      <td>train</td>\n",
       "      <td>0.5</td>\n",
       "      <td>0.25</td>\n",
       "      <td>0.75</td>\n",
       "      <td>0.00</td>\n",
       "      <td>0.75</td>\n",
       "      <td>0.00</td>\n",
       "      <td>0.75</td>\n",
       "      <td>0.75</td>\n",
       "      <td>...</td>\n",
       "      <td>0.50</td>\n",
       "      <td>0.25</td>\n",
       "      <td>0.25</td>\n",
       "      <td>0.25</td>\n",
       "      <td>0.500000</td>\n",
       "      <td>0.333333</td>\n",
       "      <td>0.500000</td>\n",
       "      <td>0.333333</td>\n",
       "      <td>0.500000</td>\n",
       "      <td>0.333333</td>\n",
       "    </tr>\n",
       "    <tr>\n",
       "      <th>n00691bec80d3e02</th>\n",
       "      <td>0001</td>\n",
       "      <td>train</td>\n",
       "      <td>1.0</td>\n",
       "      <td>0.50</td>\n",
       "      <td>0.50</td>\n",
       "      <td>0.75</td>\n",
       "      <td>0.00</td>\n",
       "      <td>1.00</td>\n",
       "      <td>0.25</td>\n",
       "      <td>1.00</td>\n",
       "      <td>...</td>\n",
       "      <td>0.50</td>\n",
       "      <td>0.50</td>\n",
       "      <td>0.50</td>\n",
       "      <td>0.50</td>\n",
       "      <td>0.666667</td>\n",
       "      <td>0.500000</td>\n",
       "      <td>0.500000</td>\n",
       "      <td>0.500000</td>\n",
       "      <td>0.666667</td>\n",
       "      <td>0.500000</td>\n",
       "    </tr>\n",
       "    <tr>\n",
       "      <th>n00b8720a2fdc4f2</th>\n",
       "      <td>0001</td>\n",
       "      <td>train</td>\n",
       "      <td>1.0</td>\n",
       "      <td>0.75</td>\n",
       "      <td>1.00</td>\n",
       "      <td>1.00</td>\n",
       "      <td>0.00</td>\n",
       "      <td>0.00</td>\n",
       "      <td>1.00</td>\n",
       "      <td>0.50</td>\n",
       "      <td>...</td>\n",
       "      <td>0.50</td>\n",
       "      <td>0.50</td>\n",
       "      <td>0.50</td>\n",
       "      <td>0.50</td>\n",
       "      <td>0.666667</td>\n",
       "      <td>0.500000</td>\n",
       "      <td>0.500000</td>\n",
       "      <td>0.500000</td>\n",
       "      <td>0.666667</td>\n",
       "      <td>0.500000</td>\n",
       "    </tr>\n",
       "  </tbody>\n",
       "</table>\n",
       "<p>5 rows × 1073 columns</p>\n",
       "</div>"
      ],
      "text/plain": [
       "                   era data_type  feature_dichasial_hammier_spawner  \\\n",
       "id                                                                    \n",
       "n003bba8a98662e4  0001     train                                1.0   \n",
       "n003bee128c2fcfc  0001     train                                0.5   \n",
       "n0048ac83aff7194  0001     train                                0.5   \n",
       "n00691bec80d3e02  0001     train                                1.0   \n",
       "n00b8720a2fdc4f2  0001     train                                1.0   \n",
       "\n",
       "                  feature_rheumy_epistemic_prancer  \\\n",
       "id                                                   \n",
       "n003bba8a98662e4                              0.50   \n",
       "n003bee128c2fcfc                              1.00   \n",
       "n0048ac83aff7194                              0.25   \n",
       "n00691bec80d3e02                              0.50   \n",
       "n00b8720a2fdc4f2                              0.75   \n",
       "\n",
       "                  feature_pert_performative_hormuz  \\\n",
       "id                                                   \n",
       "n003bba8a98662e4                              1.00   \n",
       "n003bee128c2fcfc                              0.25   \n",
       "n0048ac83aff7194                              0.75   \n",
       "n00691bec80d3e02                              0.50   \n",
       "n00b8720a2fdc4f2                              1.00   \n",
       "\n",
       "                  feature_hillier_unpitied_theobromine  \\\n",
       "id                                                       \n",
       "n003bba8a98662e4                                  1.00   \n",
       "n003bee128c2fcfc                                  0.75   \n",
       "n0048ac83aff7194                                  0.00   \n",
       "n00691bec80d3e02                                  0.75   \n",
       "n00b8720a2fdc4f2                                  1.00   \n",
       "\n",
       "                  feature_perigean_bewitching_thruster  \\\n",
       "id                                                       \n",
       "n003bba8a98662e4                                  0.00   \n",
       "n003bee128c2fcfc                                  0.00   \n",
       "n0048ac83aff7194                                  0.75   \n",
       "n00691bec80d3e02                                  0.00   \n",
       "n00b8720a2fdc4f2                                  0.00   \n",
       "\n",
       "                  feature_renegade_undomestic_milord  \\\n",
       "id                                                     \n",
       "n003bba8a98662e4                                0.00   \n",
       "n003bee128c2fcfc                                0.75   \n",
       "n0048ac83aff7194                                0.00   \n",
       "n00691bec80d3e02                                1.00   \n",
       "n00b8720a2fdc4f2                                0.00   \n",
       "\n",
       "                  feature_koranic_rude_corf  \\\n",
       "id                                            \n",
       "n003bba8a98662e4                       1.00   \n",
       "n003bee128c2fcfc                       0.50   \n",
       "n0048ac83aff7194                       0.75   \n",
       "n00691bec80d3e02                       0.25   \n",
       "n00b8720a2fdc4f2                       1.00   \n",
       "\n",
       "                  feature_demisable_expiring_millepede  ...  target_paul_20  \\\n",
       "id                                                      ...                   \n",
       "n003bba8a98662e4                                  1.00  ...            0.25   \n",
       "n003bee128c2fcfc                                  0.75  ...            1.00   \n",
       "n0048ac83aff7194                                  0.75  ...            0.50   \n",
       "n00691bec80d3e02                                  1.00  ...            0.50   \n",
       "n00b8720a2fdc4f2                                  0.50  ...            0.50   \n",
       "\n",
       "                  target_paul_60  target_george_20  target_george_60  \\\n",
       "id                                                                     \n",
       "n003bba8a98662e4            0.25              0.25              0.00   \n",
       "n003bee128c2fcfc            1.00              1.00              1.00   \n",
       "n0048ac83aff7194            0.25              0.25              0.25   \n",
       "n00691bec80d3e02            0.50              0.50              0.50   \n",
       "n00b8720a2fdc4f2            0.50              0.50              0.50   \n",
       "\n",
       "                  target_william_20  target_william_60  target_arthur_20  \\\n",
       "id                                                                         \n",
       "n003bba8a98662e4           0.166667           0.000000          0.166667   \n",
       "n003bee128c2fcfc           0.833333           0.666667          0.833333   \n",
       "n0048ac83aff7194           0.500000           0.333333          0.500000   \n",
       "n00691bec80d3e02           0.666667           0.500000          0.500000   \n",
       "n00b8720a2fdc4f2           0.666667           0.500000          0.500000   \n",
       "\n",
       "                  target_arthur_60  target_thomas_20  target_thomas_60  \n",
       "id                                                                      \n",
       "n003bba8a98662e4          0.000000          0.166667          0.000000  \n",
       "n003bee128c2fcfc          0.666667          0.833333          0.666667  \n",
       "n0048ac83aff7194          0.333333          0.500000          0.333333  \n",
       "n00691bec80d3e02          0.500000          0.666667          0.500000  \n",
       "n00b8720a2fdc4f2          0.500000          0.666667          0.500000  \n",
       "\n",
       "[5 rows x 1073 columns]"
      ]
     },
     "execution_count": 7,
     "metadata": {},
     "output_type": "execute_result"
    },
    {
     "name": "stdout",
     "output_type": "stream",
     "text": [
      "\r"
     ]
    }
   ],
   "source": [
    "# read training data\n",
    "df = pd.read_parquet('numerai_training_data.parquet')\n",
    "df.head()"
   ]
  },
  {
   "cell_type": "code",
   "execution_count": 8,
   "metadata": {
    "id": "sxH-kKmC1Lfw"
   },
   "outputs": [
    {
     "name": "stdout",
     "output_type": "stream",
     "text": [
      "Shape of the training dataset: (2412105, 1073)\n",
      "\r"
     ]
    }
   ],
   "source": [
    "# check shape\n",
    "print(f\"Shape of the training dataset: {df.shape}\")"
   ]
  },
  {
   "cell_type": "code",
   "execution_count": 14,
   "metadata": {
    "id": "gt5-xFac1Lkn"
   },
   "outputs": [
    {
     "name": "stdout",
     "output_type": "stream",
     "text": [
      "Training dataset: 2412105 rows grouped into 574 eras (weeks)\n",
      "\r"
     ]
    }
   ],
   "source": [
    "# how many eras?\n",
    "print(f\"Training dataset: {df.shape[0]} rows grouped into {len(df.era.unique())} eras (weeks)\")"
   ]
  },
  {
   "cell_type": "markdown",
   "metadata": {},
   "source": [
    "---\n",
    "## Check features & targets"
   ]
  },
  {
   "cell_type": "code",
   "execution_count": 18,
   "metadata": {},
   "outputs": [
    {
     "name": "stdout",
     "output_type": "stream",
     "text": [
      "Number of features: 1050\n",
      "Show first 5 features: ['feature_dichasial_hammier_spawner', 'feature_rheumy_epistemic_prancer', 'feature_pert_performative_hormuz']\n",
      "\r"
     ]
    }
   ],
   "source": [
    "# check features\n",
    "features = [col for col in df if col.startswith(\"feature\")]\n",
    "print(f\"Number of features: {len(features)}\")\n",
    "print(f\"Show first 5 features: {features[:3]}\")"
   ]
  },
  {
   "cell_type": "code",
   "execution_count": 20,
   "metadata": {},
   "outputs": [
    {
     "name": "stdout",
     "output_type": "stream",
     "text": [
      "\r"
     ]
    }
   ],
   "source": [
    "# create era numbers\n",
    "df[\"erano\"] = df[\"era\"].astype(int)\n",
    "eras = df[\"erano\"]"
   ]
  },
  {
   "cell_type": "code",
   "execution_count": 21,
   "metadata": {},
   "outputs": [
    {
     "name": "stdout",
     "output_type": "stream",
     "text": [
      "Number of targets: 21\n",
      "Show first 5 targets: ['target', 'target_nomi_20', 'target_nomi_60']\n",
      "\r"
     ]
    }
   ],
   "source": [
    "# check targets\n",
    "target = \"target\"\n",
    "targets = [col for col in df if col.startswith(\"target\")]\n",
    "print(f\"Number of targets: {len(targets)}\")\n",
    "print(f\"Show first 5 targets: {targets[:3]}\")"
   ]
  },
  {
   "cell_type": "markdown",
   "metadata": {},
   "source": [
    "---\n",
    "## Evaluation functions"
   ]
  },
  {
   "cell_type": "code",
   "execution_count": 22,
   "metadata": {},
   "outputs": [
    {
     "name": "stdout",
     "output_type": "stream",
     "text": [
      "\r"
     ]
    }
   ],
   "source": [
    "# create numerai_score function\n",
    "def numerai_score(y_true, y_pred):\n",
    "    rank_pred = y_pred.groupby(eras).apply(lambda x: x.rank(pct=True, method=\"first\"))\n",
    "    return np.corrcoef(y_true, rank_pred)[0,1]\n",
    "\n",
    "# regular pearson corr\n",
    "def correlation_score(y_true, y_pred):\n",
    "    return np.corrcoef(y_true, y_pred)[0,1]"
   ]
  },
  {
   "cell_type": "markdown",
   "metadata": {},
   "source": [
    "---\n",
    "## High-level EDA"
   ]
  },
  {
   "cell_type": "code",
   "execution_count": 45,
   "metadata": {},
   "outputs": [
    {
     "data": {
      "text/plain": [
       "('0001', '0574')"
      ]
     },
     "execution_count": 45,
     "metadata": {},
     "output_type": "execute_result"
    },
    {
     "name": "stdout",
     "output_type": "stream",
     "text": [
      "\r"
     ]
    }
   ],
   "source": [
    "# check eras\n",
    "df[\"era\"].min(), df[\"era\"].max()"
   ]
  },
  {
   "cell_type": "code",
   "execution_count": 27,
   "metadata": {},
   "outputs": [
    {
     "data": {
      "image/png": "[encoded data removed]",
      "text/plain": [
       "<Figure size 432x288 with 1 Axes>"
      ]
     },
     "metadata": {
      "needs_background": "light"
     },
     "output_type": "display_data"
    },
    {
     "name": "stdout",
     "output_type": "stream",
     "text": [
      "\r"
     ]
    }
   ],
   "source": [
    "# check data per era\n",
    "df.groupby(eras).size().plot(title=\"Rows of Training Data by Era\");"
   ]
  },
  {
   "cell_type": "code",
   "execution_count": 30,
   "metadata": {},
   "outputs": [
    {
     "data": {
      "text/plain": [
       "target\n",
       "0.00    0.050003\n",
       "0.25    0.199996\n",
       "0.50    0.499993\n",
       "0.75    0.200015\n",
       "1.00    0.049992\n",
       "dtype: float64"
      ]
     },
     "execution_count": 30,
     "metadata": {},
     "output_type": "execute_result"
    },
    {
     "name": "stdout",
     "output_type": "stream",
     "text": [
      "\r"
     ]
    }
   ],
   "source": [
    "# targets are discrete\n",
    "df.groupby(\"target\").size() / len(df)"
   ]
  },
  {
   "cell_type": "code",
   "execution_count": 52,
   "metadata": {},
   "outputs": [
    {
     "data": {
      "text/plain": [
       "feature_dichasial_hammier_spawner  feature_dichasial_hammier_spawner             1.000000\n",
       "                                   feature_rheumy_epistemic_prancer              0.001690\n",
       "                                   feature_pert_performative_hormuz              0.141253\n",
       "                                   feature_hillier_unpitied_theobromine          0.170891\n",
       "                                   feature_perigean_bewitching_thruster         -0.151098\n",
       "                                                                                   ...   \n",
       "feature_coactive_prefatorial_lucy  feature_centroclinal_incentive_lancelet      -0.005310\n",
       "                                   feature_unemotional_quietistic_chirper        0.327181\n",
       "                                   feature_behaviorist_microbiological_farina    0.324891\n",
       "                                   feature_lofty_acceptable_challenge            0.044171\n",
       "                                   feature_coactive_prefatorial_lucy             1.000000\n",
       "Length: 1102500, dtype: float64"
      ]
     },
     "execution_count": 52,
     "metadata": {},
     "output_type": "execute_result"
    },
    {
     "name": "stdout",
     "output_type": "stream",
     "text": [
      "\r"
     ]
    }
   ],
   "source": [
    "# check feature correlations\n",
    "feature_corrs = df.loc[df[\"era\"]==\"0001\"][features].corr()\n",
    "feature_corrs.stack()"
   ]
  },
  {
   "cell_type": "code",
   "execution_count": 53,
   "metadata": {},
   "outputs": [
    {
     "data": {
      "text/plain": [
       "feature_calycled_living_birmingham            feature_dentilingual_removed_osmometer             -0.947381\n",
       "feature_criticisable_authentical_deprecation  feature_invalid_extortionary_titillation           -0.927235\n",
       "feature_hierologic_assault_candida            feature_multicostate_undescended_monoacid          -0.926623\n",
       "feature_apogamic_obeisant_pondicherry         feature_splitting_sexagesimal_teutonisation        -0.923430\n",
       "feature_earthlier_parian_pistachio            feature_grandmotherly_circumnavigable_homonymity   -0.913526\n",
       "                                                                                                    ...   \n",
       "feature_escutcheoned_timocratic_kotwal        feature_horizontal_snug_description                 1.000000\n",
       "                                              feature_neptunian_supersensitive_stapler            1.000000\n",
       "                                              feature_interoceptive_fifteenth_trey                1.000000\n",
       "                                              feature_savory_engrained_undervest                  1.000000\n",
       "feature_brittle_chautauqua_elite              feature_steepled_transistorized_shelter             1.000000\n",
       "Length: 550725, dtype: float64"
      ]
     },
     "execution_count": 53,
     "metadata": {},
     "output_type": "execute_result"
    },
    {
     "name": "stdout",
     "output_type": "stream",
     "text": [
      "\r"
     ]
    }
   ],
   "source": [
    "# some are very correlated or uncorrelated\n",
    "tdf = feature_corrs.stack()\n",
    "tdf = tdf[tdf.index.get_level_values(0) < tdf.index.get_level_values(1)]\n",
    "tdf.sort_values()"
   ]
  },
  {
   "cell_type": "code",
   "execution_count": null,
   "metadata": {},
   "outputs": [],
   "source": []
  },
  {
   "cell_type": "code",
   "execution_count": null,
   "metadata": {},
   "outputs": [],
   "source": []
  },
  {
   "cell_type": "code",
   "execution_count": null,
   "metadata": {},
   "outputs": [],
   "source": []
  },
  {
   "cell_type": "code",
   "execution_count": null,
   "metadata": {},
   "outputs": [],
   "source": []
  },
  {
   "cell_type": "code",
   "execution_count": null,
   "metadata": {},
   "outputs": [],
   "source": []
  }
 ],
 "metadata": {
  "colab": {
   "collapsed_sections": [],
   "include_colab_link": true,
   "name": "numerai_features_eda_v1",
   "provenance": []
  },
  "kernelspec": {
   "display_name": "projenv",
   "language": "python",
   "name": "projenv"
  },
  "language_info": {
   "codemirror_mode": {
    "name": "ipython",
    "version": 3
   },
   "file_extension": ".py",
   "mimetype": "text/x-python",
   "name": "python",
   "nbconvert_exporter": "python",
   "pygments_lexer": "ipython3",
   "version": "3.10.2"
  }
 },
 "nbformat": 4,
 "nbformat_minor": 4
}
