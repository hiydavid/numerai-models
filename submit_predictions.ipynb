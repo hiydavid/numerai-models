{
 "cells": [
  {
   "cell_type": "markdown",
   "metadata": {},
   "source": [
    "# Prediction Submissions"
   ]
  },
  {
   "cell_type": "code",
   "execution_count": 1,
   "metadata": {},
   "outputs": [],
   "source": [
    "# load libraries\n",
    "from numerapi import NumerAPI\n",
    "from utils.api_keys import PUBLIC_ID, SECRET_KEY\n",
    "from utils.api_keys import (\n",
    "    FOXHOUND_MODEL_ID, DEADCELL_MODEL_ID, COBRA_MODEL_ID,\n",
    "    BEAUTYBEAST_MODEL_ID, SKULLS_MODEL_ID, DESPERADO_MODEL_ID\n",
    ")\n",
    "from utils.run_model import RunModel"
   ]
  },
  {
   "cell_type": "code",
   "execution_count": 2,
   "metadata": {},
   "outputs": [
    {
     "name": "stdout",
     "output_type": "stream",
     "text": [
      "Current round #: 316\n"
     ]
    }
   ],
   "source": [
    "# instantiate api & check for round\n",
    "napi = NumerAPI(public_id=PUBLIC_ID, secret_key=SECRET_KEY)\n",
    "current_round = napi.get_current_round()\n",
    "print(f\"Current round #: {current_round}\")"
   ]
  },
  {
   "cell_type": "markdown",
   "metadata": {},
   "source": [
    "---\n",
    "# Run Models"
   ]
  },
  {
   "cell_type": "code",
   "execution_count": 3,
   "metadata": {},
   "outputs": [],
   "source": [
    "# init class\n",
    "m = RunModel(current_round=current_round)"
   ]
  },
  {
   "cell_type": "code",
   "execution_count": 4,
   "metadata": {},
   "outputs": [
    {
     "name": "stdout",
     "output_type": "stream",
     "text": [
      "\n",
      "Begin running dh_foxhound_v0 for live round # 316...\n",
      ">>> Importing data ...\n",
      ">>> Preprocessing data ...\n",
      ">>> Loading pre-trained model ...\n",
      ">>> Creating live predictions ...\n",
      ">>> Neutralizing features ...\n",
      ">>> Saving live predictions ...\n",
      ">>> Model dh_foxhound_v0 run complete for live round # 316!\n"
     ]
    }
   ],
   "source": [
    "# run foxhound\n",
    "m.run_foxhound()"
   ]
  },
  {
   "cell_type": "code",
   "execution_count": 5,
   "metadata": {},
   "outputs": [
    {
     "name": "stdout",
     "output_type": "stream",
     "text": [
      "\n",
      "Begin running dh_deadcell_v0 for live round # 316...\n",
      ">>> Importing data ...\n",
      ">>> Preprocessing data ...\n",
      ">>> Loading pre-trained model ...\n",
      ">>> Creating live predictions ...\n",
      ">>> Neutralizing features ...\n",
      ">>> Saving live predictions ...\n",
      ">>> Model dh_deadcell_v0 run complete for live round # 316!\n"
     ]
    }
   ],
   "source": [
    "# run deadcell\n",
    "m.run_deadcell()"
   ]
  },
  {
   "cell_type": "code",
   "execution_count": 6,
   "metadata": {},
   "outputs": [
    {
     "name": "stdout",
     "output_type": "stream",
     "text": [
      "\n",
      "Begin running dh_cobra_v0 for live round # 316...\n",
      ">>> Importing data ...\n",
      ">>> Preprocessing data ...\n",
      ">>> Loading pre-trained model ...\n",
      ">>> Creating live predictions ...\n",
      ">>> Neutralizing features ...\n",
      ">>> Saving live predictions ...\n",
      ">>> Model dh_cobra_v0 run complete for live round # 316!\n"
     ]
    }
   ],
   "source": [
    "# run cobra\n",
    "m.run_cobra()"
   ]
  },
  {
   "cell_type": "code",
   "execution_count": 7,
   "metadata": {},
   "outputs": [
    {
     "name": "stdout",
     "output_type": "stream",
     "text": [
      "\n",
      "Begin running dh_beautybeast_v0 for live round # 316...\n",
      ">>> Importing data ...\n",
      ">>> Preprocessing data ...\n",
      ">>> Loading pre-trained model ...\n",
      ">>> Creating live predictions ...\n",
      ">>> Saving live predictions ...\n",
      ">>> Model dh_beautybeast_v0 run complete for live round # 316!\n"
     ]
    }
   ],
   "source": [
    "# run beautybeast\n",
    "m.run_beautybeast()"
   ]
  },
  {
   "cell_type": "code",
   "execution_count": null,
   "metadata": {},
   "outputs": [],
   "source": [
    "# run skulls"
   ]
  },
  {
   "cell_type": "code",
   "execution_count": 8,
   "metadata": {},
   "outputs": [
    {
     "name": "stdout",
     "output_type": "stream",
     "text": [
      "\n",
      "Begin running dh_desperado_v0 for live round # 316...\n",
      ">>> Importing data ...\n",
      ">>> Preprocessing data ...\n",
      ">>> Creating live predictions ...\n",
      ">>> Saving live predictions ...\n",
      ">>> Model dh_desperado_v0 run complete for live round # 316!\n"
     ]
    }
   ],
   "source": [
    "# run desperado\n",
    "m.run_desperado()"
   ]
  },
  {
   "cell_type": "markdown",
   "metadata": {},
   "source": [
    "---\n",
    "# Submit predictions"
   ]
  },
  {
   "cell_type": "code",
   "execution_count": 12,
   "metadata": {},
   "outputs": [],
   "source": [
    "# file and id lists\n",
    "model_files = [\"dh_foxhound_v0\", \"dh_deadcell_v0\", \"dh_cobra_v0\", \"dh_beautybeast_v0\", \"dh_desperado_v0\"]\n",
    "model_ids = [FOXHOUND_MODEL_ID, DEADCELL_MODEL_ID, COBRA_MODEL_ID, BEAUTYBEAST_MODEL_ID, DESPERADO_MODEL_ID]\n"
   ]
  },
  {
   "cell_type": "code",
   "execution_count": 13,
   "metadata": {},
   "outputs": [],
   "source": [
    "# # submit validation predictions for diagnosis\n",
    "# for f, i in zip(model_files, model_ids):\n",
    "#     print(f\"Submitting validation predictions for: {f}...\")\n",
    "#     napi.upload_diagnostics(\n",
    "#         file_path=f\"predictions/{f}_val_preds.csv\",\n",
    "#         model_id=i\n",
    "#     )"
   ]
  },
  {
   "cell_type": "code",
   "execution_count": 14,
   "metadata": {},
   "outputs": [
    {
     "name": "stderr",
     "output_type": "stream",
     "text": [
      "2022-05-14 14:45:54,492 INFO numerapi.base_api: uploading predictions...\n"
     ]
    },
    {
     "name": "stdout",
     "output_type": "stream",
     "text": [
      "Submitting live predictions for dh_foxhound_v0...\n"
     ]
    },
    {
     "name": "stderr",
     "output_type": "stream",
     "text": [
      "2022-05-14 14:46:03,995 INFO numerapi.base_api: uploading predictions...\n"
     ]
    },
    {
     "name": "stdout",
     "output_type": "stream",
     "text": [
      "Submitting live predictions for dh_deadcell_v0...\n"
     ]
    },
    {
     "name": "stderr",
     "output_type": "stream",
     "text": [
      "2022-05-14 14:46:06,756 INFO numerapi.base_api: uploading predictions...\n"
     ]
    },
    {
     "name": "stdout",
     "output_type": "stream",
     "text": [
      "Submitting live predictions for dh_cobra_v0...\n"
     ]
    },
    {
     "name": "stderr",
     "output_type": "stream",
     "text": [
      "2022-05-14 14:46:09,748 INFO numerapi.base_api: uploading predictions...\n"
     ]
    },
    {
     "name": "stdout",
     "output_type": "stream",
     "text": [
      "Submitting live predictions for dh_beautybeast_v0...\n"
     ]
    },
    {
     "name": "stderr",
     "output_type": "stream",
     "text": [
      "2022-05-14 14:46:12,522 INFO numerapi.base_api: uploading predictions...\n"
     ]
    },
    {
     "name": "stdout",
     "output_type": "stream",
     "text": [
      "Submitting live predictions for dh_desperado_v0...\n"
     ]
    }
   ],
   "source": [
    "# submit live predictions for current round\n",
    "for f, i in zip(model_files, model_ids):\n",
    "    print(f\"Submitting live predictions for {f}...\")\n",
    "    napi.upload_predictions(\n",
    "        file_path=f\"predictions/{f}_live_preds_{current_round}.csv\",\n",
    "        model_id=i\n",
    "    )"
   ]
  },
  {
   "cell_type": "code",
   "execution_count": null,
   "metadata": {},
   "outputs": [],
   "source": []
  }
 ],
 "metadata": {
  "interpreter": {
   "hash": "0126e27fe55ec969de126c2cfdac2c99da69ebfdfbbeb83738b0925389a2d696"
  },
  "kernelspec": {
   "display_name": "Python 3.10.2 ('projenv')",
   "language": "python",
   "name": "python3"
  },
  "language_info": {
   "codemirror_mode": {
    "name": "ipython",
    "version": 3
   },
   "file_extension": ".py",
   "mimetype": "text/x-python",
   "name": "python",
   "nbconvert_exporter": "python",
   "pygments_lexer": "ipython3",
   "version": "3.10.2"
  },
  "orig_nbformat": 4
 },
 "nbformat": 4,
 "nbformat_minor": 2
}
