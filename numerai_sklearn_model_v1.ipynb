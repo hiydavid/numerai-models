{
  "nbformat": 4,
  "nbformat_minor": 0,
  "metadata": {
    "colab": {
      "name": "numerai_sklearn_model_v1",
      "provenance": [],
      "collapsed_sections": [],
      "include_colab_link": true
    },
    "kernelspec": {
      "name": "python3",
      "display_name": "Python 3"
    }
  },
  "cells": [
    {
      "cell_type": "markdown",
      "metadata": {
        "id": "view-in-github",
        "colab_type": "text"
      },
      "source": [
        "<a href=\"https://colab.research.google.com/github/hiydavid/numerai-models/blob/main/numerai_sklearn_model_v1.ipynb\" target=\"_parent\"><img src=\"https://colab.research.google.com/assets/colab-badge.svg\" alt=\"Open In Colab\"/></a>"
      ]
    },
    {
      "cell_type": "markdown",
      "metadata": {
        "id": "RUD4ylfaLZA6"
      },
      "source": [
        "# Numerai SKLearn Model * WIP *\n",
        "---\n",
        "\n",
        "Base model\n",
        "* RF with SKLearn"
      ]
    },
    {
      "cell_type": "markdown",
      "metadata": {
        "id": "dioJyoTnxEm3"
      },
      "source": [
        "---\n",
        "# Load data & libraries"
      ]
    },
    {
      "cell_type": "code",
      "metadata": {
        "colab": {
          "base_uri": "https://localhost:8080/"
        },
        "id": "qAhv0vj30II6",
        "outputId": "8636a681-82c4-4ee3-9e0b-ec4e5b72fbb9"
      },
      "source": [
        "# set drive location\n",
        "from google.colab import drive\n",
        "drive.mount('/content/drive/', force_remount = True)\n",
        "path = '/content/drive/MyDrive/Colab/numerai/saved_models/'"
      ],
      "execution_count": 1,
      "outputs": [
        {
          "output_type": "stream",
          "name": "stdout",
          "text": [
            "Mounted at /content/drive/\n"
          ]
        }
      ]
    },
    {
      "cell_type": "code",
      "metadata": {
        "id": "zDKQ_zqwTBf6"
      },
      "source": [
        "# install dependencies\n",
        "!pip install -Uqq numerapi==2.4.5"
      ],
      "execution_count": 2,
      "outputs": []
    },
    {
      "cell_type": "code",
      "metadata": {
        "id": "MaNpcfNkKUg_"
      },
      "source": [
        "# import dependencies\n",
        "import pandas as pd\n",
        "import numerapi\n",
        "from sklearn.ensemble import RandomForestRegressor\n",
        "from sklearn.model_selection import train_test_split\n",
        "from sklearn.metrics import r2_score, mean_squared_error\n",
        "import pickle"
      ],
      "execution_count": 12,
      "outputs": []
    },
    {
      "cell_type": "code",
      "metadata": {
        "id": "EyB8NsbUNNWR"
      },
      "source": [
        "# download the latest training dataset (takes around 30s)\n",
        "training_data_url = \"https://numerai-public-datasets.s3-us-west-2.amazonaws.com/latest_numerai_training_data.csv.xz\" \n",
        "training_data = pd.read_csv(training_data_url)"
      ],
      "execution_count": 4,
      "outputs": []
    },
    {
      "cell_type": "markdown",
      "metadata": {
        "id": "c3Fcz-PpHYez"
      },
      "source": [
        "--- \n",
        "# Training"
      ]
    },
    {
      "cell_type": "code",
      "metadata": {
        "colab": {
          "base_uri": "https://localhost:8080/"
        },
        "id": "nPFPZEYE0xJZ",
        "outputId": "bd6d64bd-2b77-4907-9584-45bb12bf6083"
      },
      "source": [
        "# split training into training & validation\n",
        "training_data, testing_data = train_test_split(training_data, test_size = 0.2)\n",
        "\n",
        "training_data.shape, testing_data.shape"
      ],
      "execution_count": 5,
      "outputs": [
        {
          "output_type": "execute_result",
          "data": {
            "text/plain": [
              "((401446, 314), (100362, 314))"
            ]
          },
          "metadata": {},
          "execution_count": 5
        }
      ]
    },
    {
      "cell_type": "code",
      "metadata": {
        "id": "ESazJMMzN--g"
      },
      "source": [
        "# find only the feature columns\n",
        "feature_cols = training_data.columns[training_data.columns.str.startswith('feature')]"
      ],
      "execution_count": 6,
      "outputs": []
    },
    {
      "cell_type": "code",
      "metadata": {
        "id": "5Bmbqi4YKY2Z"
      },
      "source": [
        "# select those columns out of the training dataset\n",
        "training_features = training_data[feature_cols]\n",
        "testing_features = testing_data[feature_cols]"
      ],
      "execution_count": 7,
      "outputs": []
    },
    {
      "cell_type": "code",
      "metadata": {
        "id": "09TCNbR267Ly",
        "colab": {
          "base_uri": "https://localhost:8080/"
        },
        "outputId": "ad02daec-4f61-4997-f5f5-608b7b889084"
      },
      "source": [
        "# create a model and fit the training data (~30 sec to run)\n",
        "model = RandomForestRegressor(n_estimators = 50, max_depth = 5)\n",
        "model.fit(training_features, training_data.target)"
      ],
      "execution_count": 8,
      "outputs": [
        {
          "output_type": "execute_result",
          "data": {
            "text/plain": [
              "RandomForestRegressor(bootstrap=True, ccp_alpha=0.0, criterion='mse',\n",
              "                      max_depth=5, max_features='auto', max_leaf_nodes=None,\n",
              "                      max_samples=None, min_impurity_decrease=0.0,\n",
              "                      min_impurity_split=None, min_samples_leaf=1,\n",
              "                      min_samples_split=2, min_weight_fraction_leaf=0.0,\n",
              "                      n_estimators=50, n_jobs=None, oob_score=False,\n",
              "                      random_state=None, verbose=0, warm_start=False)"
            ]
          },
          "metadata": {},
          "execution_count": 8
        }
      ]
    },
    {
      "cell_type": "code",
      "metadata": {
        "id": "RXc6cTN767Oh",
        "colab": {
          "base_uri": "https://localhost:8080/"
        },
        "outputId": "7814e19c-8ea1-45b7-d4bd-92841b5e3efe"
      },
      "source": [
        "# evaluate\n",
        "r2 = r2_score(testing_data.target, model.predict(testing_features))\n",
        "mse = mean_squared_error(testing_data.target, model.predict(testing_features))\n",
        "print('r2:', round(r2, 3)), print('mse:', round(mse, 3));"
      ],
      "execution_count": 13,
      "outputs": [
        {
          "output_type": "stream",
          "name": "stdout",
          "text": [
            "r2: 0.001\n",
            "mse: 0.05\n"
          ]
        }
      ]
    },
    {
      "cell_type": "markdown",
      "metadata": {
        "id": "NXB5xfuPYXVq"
      },
      "source": [
        "---\n",
        "# Save model"
      ]
    },
    {
      "cell_type": "code",
      "metadata": {
        "id": "-tMcd_7Q67VU"
      },
      "source": [
        "# pickle the model\n",
        "pkl_filename = \"sklearn_rf_model.pkl\"\n",
        "with open(path + pkl_filename, 'wb') as file:\n",
        "    pickle.dump(model, file)"
      ],
      "execution_count": 14,
      "outputs": []
    },
    {
      "cell_type": "code",
      "metadata": {
        "id": "uGwhz0PLbL3Q"
      },
      "source": [
        ""
      ],
      "execution_count": 10,
      "outputs": []
    }
  ]
}